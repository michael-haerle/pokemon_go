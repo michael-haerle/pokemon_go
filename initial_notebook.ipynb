{
 "cells": [
  {
   "cell_type": "markdown",
   "id": "8abfba91-41db-4e40-8dc5-e94c6edfceae",
   "metadata": {},
   "source": [
    "# Pokemon GO and Exploratory Analysis"
   ]
  },
  {
   "cell_type": "code",
   "execution_count": 205,
   "id": "ade9cfb8-1d65-46ab-b04b-bdb12a174cad",
   "metadata": {},
   "outputs": [],
   "source": [
    "import pandas as pd\n",
    "import matplotlib.pyplot as plt\n",
    "import seaborn as sns"
   ]
  },
  {
   "cell_type": "code",
   "execution_count": 69,
   "id": "77cb466f-28f5-407a-8dc3-6851ceaa9fc3",
   "metadata": {},
   "outputs": [],
   "source": [
    "df = pd.read_csv('comprehensive_dps.csv')"
   ]
  },
  {
   "cell_type": "code",
   "execution_count": 70,
   "id": "b6da59d1-f552-4133-a97e-780ecef62008",
   "metadata": {},
   "outputs": [
    {
     "data": {
      "text/html": [
       "<div>\n",
       "<style scoped>\n",
       "    .dataframe tbody tr th:only-of-type {\n",
       "        vertical-align: middle;\n",
       "    }\n",
       "\n",
       "    .dataframe tbody tr th {\n",
       "        vertical-align: top;\n",
       "    }\n",
       "\n",
       "    .dataframe thead th {\n",
       "        text-align: right;\n",
       "    }\n",
       "</style>\n",
       "<table border=\"1\" class=\"dataframe\">\n",
       "  <thead>\n",
       "    <tr style=\"text-align: right;\">\n",
       "      <th></th>\n",
       "      <th>Pokemon</th>\n",
       "      <th>Fast Move</th>\n",
       "      <th>Charged Move</th>\n",
       "      <th>DPS</th>\n",
       "      <th>TDO</th>\n",
       "      <th>DPS^3*TDO</th>\n",
       "      <th>CP</th>\n",
       "    </tr>\n",
       "  </thead>\n",
       "  <tbody>\n",
       "    <tr>\n",
       "      <th>0</th>\n",
       "      <td>Mega Mewtwo Y</td>\n",
       "      <td>Confusion</td>\n",
       "      <td>Psystrike</td>\n",
       "      <td>26.355</td>\n",
       "      <td>999.7</td>\n",
       "      <td>18299.9</td>\n",
       "      <td>5610</td>\n",
       "    </tr>\n",
       "    <tr>\n",
       "      <th>1</th>\n",
       "      <td>Mega Mewtwo Y</td>\n",
       "      <td>Psycho Cut</td>\n",
       "      <td>Psystrike</td>\n",
       "      <td>26.207</td>\n",
       "      <td>994.1</td>\n",
       "      <td>17893.2</td>\n",
       "      <td>5610</td>\n",
       "    </tr>\n",
       "    <tr>\n",
       "      <th>2</th>\n",
       "      <td>Mega Mewtwo X</td>\n",
       "      <td>Confusion</td>\n",
       "      <td>Psystrike</td>\n",
       "      <td>25.513</td>\n",
       "      <td>967.8</td>\n",
       "      <td>16073.1</td>\n",
       "      <td>5429</td>\n",
       "    </tr>\n",
       "    <tr>\n",
       "      <th>3</th>\n",
       "      <td>Shadow Mewtwo</td>\n",
       "      <td>Confusion</td>\n",
       "      <td>Psystrike</td>\n",
       "      <td>25.400</td>\n",
       "      <td>662.7</td>\n",
       "      <td>10859.6</td>\n",
       "      <td>4178</td>\n",
       "    </tr>\n",
       "    <tr>\n",
       "      <th>4</th>\n",
       "      <td>Mega Mewtwo X</td>\n",
       "      <td>Psycho Cut</td>\n",
       "      <td>Psystrike</td>\n",
       "      <td>25.380</td>\n",
       "      <td>962.8</td>\n",
       "      <td>15739.4</td>\n",
       "      <td>5429</td>\n",
       "    </tr>\n",
       "  </tbody>\n",
       "</table>\n",
       "</div>"
      ],
      "text/plain": [
       "         Pokemon   Fast Move Charged Move     DPS    TDO  DPS^3*TDO    CP\n",
       "0  Mega Mewtwo Y   Confusion    Psystrike  26.355  999.7    18299.9  5610\n",
       "1  Mega Mewtwo Y  Psycho Cut    Psystrike  26.207  994.1    17893.2  5610\n",
       "2  Mega Mewtwo X   Confusion    Psystrike  25.513  967.8    16073.1  5429\n",
       "3  Shadow Mewtwo   Confusion    Psystrike  25.400  662.7    10859.6  4178\n",
       "4  Mega Mewtwo X  Psycho Cut    Psystrike  25.380  962.8    15739.4  5429"
      ]
     },
     "execution_count": 70,
     "metadata": {},
     "output_type": "execute_result"
    }
   ],
   "source": [
    "df.head()"
   ]
  },
  {
   "cell_type": "code",
   "execution_count": 71,
   "id": "8fbd15cb-13d8-4f85-bc42-ff6772499e70",
   "metadata": {},
   "outputs": [],
   "source": [
    "df.rename(columns = {'DPS^3*TDO' : 'Battle_Stat'}, inplace = True)"
   ]
  },
  {
   "cell_type": "code",
   "execution_count": 72,
   "id": "474d205d-1c3e-4916-a9fd-19fb70c8d3a8",
   "metadata": {},
   "outputs": [
    {
     "data": {
      "text/html": [
       "<div>\n",
       "<style scoped>\n",
       "    .dataframe tbody tr th:only-of-type {\n",
       "        vertical-align: middle;\n",
       "    }\n",
       "\n",
       "    .dataframe tbody tr th {\n",
       "        vertical-align: top;\n",
       "    }\n",
       "\n",
       "    .dataframe thead th {\n",
       "        text-align: right;\n",
       "    }\n",
       "</style>\n",
       "<table border=\"1\" class=\"dataframe\">\n",
       "  <thead>\n",
       "    <tr style=\"text-align: right;\">\n",
       "      <th></th>\n",
       "      <th>Pokemon</th>\n",
       "      <th>Fast Move</th>\n",
       "      <th>Charged Move</th>\n",
       "      <th>DPS</th>\n",
       "      <th>TDO</th>\n",
       "      <th>Battle_Stat</th>\n",
       "      <th>CP</th>\n",
       "    </tr>\n",
       "  </thead>\n",
       "  <tbody>\n",
       "    <tr>\n",
       "      <th>0</th>\n",
       "      <td>Mega Mewtwo Y</td>\n",
       "      <td>Confusion</td>\n",
       "      <td>Psystrike</td>\n",
       "      <td>26.355</td>\n",
       "      <td>999.7</td>\n",
       "      <td>18299.9</td>\n",
       "      <td>5610</td>\n",
       "    </tr>\n",
       "    <tr>\n",
       "      <th>1</th>\n",
       "      <td>Mega Mewtwo Y</td>\n",
       "      <td>Psycho Cut</td>\n",
       "      <td>Psystrike</td>\n",
       "      <td>26.207</td>\n",
       "      <td>994.1</td>\n",
       "      <td>17893.2</td>\n",
       "      <td>5610</td>\n",
       "    </tr>\n",
       "    <tr>\n",
       "      <th>2</th>\n",
       "      <td>Mega Mewtwo X</td>\n",
       "      <td>Confusion</td>\n",
       "      <td>Psystrike</td>\n",
       "      <td>25.513</td>\n",
       "      <td>967.8</td>\n",
       "      <td>16073.1</td>\n",
       "      <td>5429</td>\n",
       "    </tr>\n",
       "    <tr>\n",
       "      <th>3</th>\n",
       "      <td>Shadow Mewtwo</td>\n",
       "      <td>Confusion</td>\n",
       "      <td>Psystrike</td>\n",
       "      <td>25.400</td>\n",
       "      <td>662.7</td>\n",
       "      <td>10859.6</td>\n",
       "      <td>4178</td>\n",
       "    </tr>\n",
       "    <tr>\n",
       "      <th>4</th>\n",
       "      <td>Mega Mewtwo X</td>\n",
       "      <td>Psycho Cut</td>\n",
       "      <td>Psystrike</td>\n",
       "      <td>25.380</td>\n",
       "      <td>962.8</td>\n",
       "      <td>15739.4</td>\n",
       "      <td>5429</td>\n",
       "    </tr>\n",
       "  </tbody>\n",
       "</table>\n",
       "</div>"
      ],
      "text/plain": [
       "         Pokemon   Fast Move Charged Move     DPS    TDO  Battle_Stat    CP\n",
       "0  Mega Mewtwo Y   Confusion    Psystrike  26.355  999.7      18299.9  5610\n",
       "1  Mega Mewtwo Y  Psycho Cut    Psystrike  26.207  994.1      17893.2  5610\n",
       "2  Mega Mewtwo X   Confusion    Psystrike  25.513  967.8      16073.1  5429\n",
       "3  Shadow Mewtwo   Confusion    Psystrike  25.400  662.7      10859.6  4178\n",
       "4  Mega Mewtwo X  Psycho Cut    Psystrike  25.380  962.8      15739.4  5429"
      ]
     },
     "execution_count": 72,
     "metadata": {},
     "output_type": "execute_result"
    }
   ],
   "source": [
    "df.head()"
   ]
  },
  {
   "cell_type": "code",
   "execution_count": 73,
   "id": "989ca434-4071-4902-b3dc-5e7fa07c3d18",
   "metadata": {},
   "outputs": [
    {
     "data": {
      "text/plain": [
       "Pokemon         0\n",
       "Fast Move       0\n",
       "Charged Move    0\n",
       "DPS             0\n",
       "TDO             0\n",
       "Battle_Stat     0\n",
       "CP              0\n",
       "dtype: int64"
      ]
     },
     "execution_count": 73,
     "metadata": {},
     "output_type": "execute_result"
    }
   ],
   "source": [
    "df.isnull().sum()"
   ]
  },
  {
   "cell_type": "code",
   "execution_count": 177,
   "id": "96600b3b-3cfe-4789-8a91-45224155aeb8",
   "metadata": {},
   "outputs": [],
   "source": [
    "df_best_attack_set = df.groupby('Pokemon').max('Battle_Stat')"
   ]
  },
  {
   "cell_type": "code",
   "execution_count": 178,
   "id": "08ef9635-aab4-4d12-a1a1-2ae5b871b151",
   "metadata": {},
   "outputs": [
    {
     "data": {
      "text/html": [
       "<div>\n",
       "<style scoped>\n",
       "    .dataframe tbody tr th:only-of-type {\n",
       "        vertical-align: middle;\n",
       "    }\n",
       "\n",
       "    .dataframe tbody tr th {\n",
       "        vertical-align: top;\n",
       "    }\n",
       "\n",
       "    .dataframe thead th {\n",
       "        text-align: right;\n",
       "    }\n",
       "</style>\n",
       "<table border=\"1\" class=\"dataframe\">\n",
       "  <thead>\n",
       "    <tr style=\"text-align: right;\">\n",
       "      <th></th>\n",
       "      <th>DPS</th>\n",
       "      <th>TDO</th>\n",
       "      <th>Battle_Stat</th>\n",
       "      <th>CP</th>\n",
       "    </tr>\n",
       "    <tr>\n",
       "      <th>Pokemon</th>\n",
       "      <th></th>\n",
       "      <th></th>\n",
       "      <th></th>\n",
       "      <th></th>\n",
       "    </tr>\n",
       "  </thead>\n",
       "  <tbody>\n",
       "    <tr>\n",
       "      <th>Flabébé</th>\n",
       "      <td>7.460</td>\n",
       "      <td>99.2</td>\n",
       "      <td>41.2</td>\n",
       "      <td>1063</td>\n",
       "    </tr>\n",
       "    <tr>\n",
       "      <th>5th Anniversary Pikachu</th>\n",
       "      <td>8.366</td>\n",
       "      <td>81.2</td>\n",
       "      <td>47.5</td>\n",
       "      <td>938</td>\n",
       "    </tr>\n",
       "    <tr>\n",
       "      <th>Abomasnow</th>\n",
       "      <td>12.094</td>\n",
       "      <td>322.3</td>\n",
       "      <td>570.1</td>\n",
       "      <td>2362</td>\n",
       "    </tr>\n",
       "    <tr>\n",
       "      <th>Abra</th>\n",
       "      <td>11.707</td>\n",
       "      <td>85.1</td>\n",
       "      <td>136.5</td>\n",
       "      <td>1342</td>\n",
       "    </tr>\n",
       "    <tr>\n",
       "      <th>Absol</th>\n",
       "      <td>15.134</td>\n",
       "      <td>252.4</td>\n",
       "      <td>874.8</td>\n",
       "      <td>2526</td>\n",
       "    </tr>\n",
       "  </tbody>\n",
       "</table>\n",
       "</div>"
      ],
      "text/plain": [
       "                            DPS    TDO  Battle_Stat    CP\n",
       "Pokemon                                                  \n",
       " Flabébé                  7.460   99.2         41.2  1063\n",
       "5th Anniversary Pikachu   8.366   81.2         47.5   938\n",
       "Abomasnow                12.094  322.3        570.1  2362\n",
       "Abra                     11.707   85.1        136.5  1342\n",
       "Absol                    15.134  252.4        874.8  2526"
      ]
     },
     "execution_count": 178,
     "metadata": {},
     "output_type": "execute_result"
    }
   ],
   "source": [
    "df_best_attack_set.head()"
   ]
  },
  {
   "cell_type": "code",
   "execution_count": 179,
   "id": "0a68f06c-ecd9-486a-a7ad-ac6587f0610e",
   "metadata": {},
   "outputs": [],
   "source": [
    "df_best_attack_set = df_best_attack_set.merge(df, on='Pokemon', how='left')"
   ]
  },
  {
   "cell_type": "code",
   "execution_count": 180,
   "id": "2497e9c6-f11f-4252-8ff5-1ceb5212c2e7",
   "metadata": {},
   "outputs": [
    {
     "data": {
      "text/html": [
       "<div>\n",
       "<style scoped>\n",
       "    .dataframe tbody tr th:only-of-type {\n",
       "        vertical-align: middle;\n",
       "    }\n",
       "\n",
       "    .dataframe tbody tr th {\n",
       "        vertical-align: top;\n",
       "    }\n",
       "\n",
       "    .dataframe thead th {\n",
       "        text-align: right;\n",
       "    }\n",
       "</style>\n",
       "<table border=\"1\" class=\"dataframe\">\n",
       "  <thead>\n",
       "    <tr style=\"text-align: right;\">\n",
       "      <th></th>\n",
       "      <th>Pokemon</th>\n",
       "      <th>DPS_x</th>\n",
       "      <th>TDO_x</th>\n",
       "      <th>Battle_Stat_x</th>\n",
       "      <th>CP_x</th>\n",
       "      <th>Fast Move</th>\n",
       "      <th>Charged Move</th>\n",
       "      <th>DPS_y</th>\n",
       "      <th>TDO_y</th>\n",
       "      <th>Battle_Stat_y</th>\n",
       "      <th>CP_y</th>\n",
       "    </tr>\n",
       "  </thead>\n",
       "  <tbody>\n",
       "    <tr>\n",
       "      <th>0</th>\n",
       "      <td>Flabébé</td>\n",
       "      <td>7.46</td>\n",
       "      <td>99.2</td>\n",
       "      <td>41.2</td>\n",
       "      <td>1063</td>\n",
       "      <td>Vine Whip</td>\n",
       "      <td>Dazzling Gleam</td>\n",
       "      <td>7.460</td>\n",
       "      <td>99.2</td>\n",
       "      <td>41.2</td>\n",
       "      <td>1063</td>\n",
       "    </tr>\n",
       "    <tr>\n",
       "      <th>1</th>\n",
       "      <td>Flabébé</td>\n",
       "      <td>7.46</td>\n",
       "      <td>99.2</td>\n",
       "      <td>41.2</td>\n",
       "      <td>1063</td>\n",
       "      <td>Tackle</td>\n",
       "      <td>Dazzling Gleam</td>\n",
       "      <td>7.300</td>\n",
       "      <td>97.1</td>\n",
       "      <td>37.8</td>\n",
       "      <td>1063</td>\n",
       "    </tr>\n",
       "    <tr>\n",
       "      <th>2</th>\n",
       "      <td>Flabébé</td>\n",
       "      <td>7.46</td>\n",
       "      <td>99.2</td>\n",
       "      <td>41.2</td>\n",
       "      <td>1063</td>\n",
       "      <td>Vine Whip</td>\n",
       "      <td>Psychic</td>\n",
       "      <td>6.797</td>\n",
       "      <td>90.4</td>\n",
       "      <td>28.4</td>\n",
       "      <td>1063</td>\n",
       "    </tr>\n",
       "    <tr>\n",
       "      <th>3</th>\n",
       "      <td>Flabébé</td>\n",
       "      <td>7.46</td>\n",
       "      <td>99.2</td>\n",
       "      <td>41.2</td>\n",
       "      <td>1063</td>\n",
       "      <td>Tackle</td>\n",
       "      <td>Psychic</td>\n",
       "      <td>6.613</td>\n",
       "      <td>88.0</td>\n",
       "      <td>25.4</td>\n",
       "      <td>1063</td>\n",
       "    </tr>\n",
       "    <tr>\n",
       "      <th>4</th>\n",
       "      <td>Flabébé</td>\n",
       "      <td>7.46</td>\n",
       "      <td>99.2</td>\n",
       "      <td>41.2</td>\n",
       "      <td>1063</td>\n",
       "      <td>Vine Whip</td>\n",
       "      <td>Petal Blizzard</td>\n",
       "      <td>6.071</td>\n",
       "      <td>80.8</td>\n",
       "      <td>18.1</td>\n",
       "      <td>1063</td>\n",
       "    </tr>\n",
       "  </tbody>\n",
       "</table>\n",
       "</div>"
      ],
      "text/plain": [
       "    Pokemon  DPS_x  TDO_x  Battle_Stat_x  CP_x  Fast Move    Charged Move  \\\n",
       "0   Flabébé   7.46   99.2           41.2  1063  Vine Whip  Dazzling Gleam   \n",
       "1   Flabébé   7.46   99.2           41.2  1063     Tackle  Dazzling Gleam   \n",
       "2   Flabébé   7.46   99.2           41.2  1063  Vine Whip         Psychic   \n",
       "3   Flabébé   7.46   99.2           41.2  1063     Tackle         Psychic   \n",
       "4   Flabébé   7.46   99.2           41.2  1063  Vine Whip  Petal Blizzard   \n",
       "\n",
       "   DPS_y  TDO_y  Battle_Stat_y  CP_y  \n",
       "0  7.460   99.2           41.2  1063  \n",
       "1  7.300   97.1           37.8  1063  \n",
       "2  6.797   90.4           28.4  1063  \n",
       "3  6.613   88.0           25.4  1063  \n",
       "4  6.071   80.8           18.1  1063  "
      ]
     },
     "execution_count": 180,
     "metadata": {},
     "output_type": "execute_result"
    }
   ],
   "source": [
    "df_best_attack_set.head()"
   ]
  },
  {
   "cell_type": "code",
   "execution_count": 181,
   "id": "80da8e18-01f1-4130-be87-096a7d7873c9",
   "metadata": {},
   "outputs": [],
   "source": [
    "df_best_attack_set = df_best_attack_set[(df_best_attack_set['Battle_Stat_x'] == df_best_attack_set['Battle_Stat_y'])]\n"
   ]
  },
  {
   "cell_type": "code",
   "execution_count": 182,
   "id": "ca53ff81-0430-4306-a973-7de69af01aca",
   "metadata": {},
   "outputs": [
    {
     "data": {
      "text/html": [
       "<div>\n",
       "<style scoped>\n",
       "    .dataframe tbody tr th:only-of-type {\n",
       "        vertical-align: middle;\n",
       "    }\n",
       "\n",
       "    .dataframe tbody tr th {\n",
       "        vertical-align: top;\n",
       "    }\n",
       "\n",
       "    .dataframe thead th {\n",
       "        text-align: right;\n",
       "    }\n",
       "</style>\n",
       "<table border=\"1\" class=\"dataframe\">\n",
       "  <thead>\n",
       "    <tr style=\"text-align: right;\">\n",
       "      <th></th>\n",
       "      <th>Pokemon</th>\n",
       "      <th>DPS_x</th>\n",
       "      <th>TDO_x</th>\n",
       "      <th>Battle_Stat_x</th>\n",
       "      <th>CP_x</th>\n",
       "      <th>Fast Move</th>\n",
       "      <th>Charged Move</th>\n",
       "      <th>DPS_y</th>\n",
       "      <th>TDO_y</th>\n",
       "      <th>Battle_Stat_y</th>\n",
       "      <th>CP_y</th>\n",
       "    </tr>\n",
       "  </thead>\n",
       "  <tbody>\n",
       "    <tr>\n",
       "      <th>0</th>\n",
       "      <td>Flabébé</td>\n",
       "      <td>7.460</td>\n",
       "      <td>99.2</td>\n",
       "      <td>41.2</td>\n",
       "      <td>1063</td>\n",
       "      <td>Vine Whip</td>\n",
       "      <td>Dazzling Gleam</td>\n",
       "      <td>7.460</td>\n",
       "      <td>99.2</td>\n",
       "      <td>41.2</td>\n",
       "      <td>1063</td>\n",
       "    </tr>\n",
       "    <tr>\n",
       "      <th>6</th>\n",
       "      <td>5th Anniversary Pikachu</td>\n",
       "      <td>8.366</td>\n",
       "      <td>81.2</td>\n",
       "      <td>47.5</td>\n",
       "      <td>938</td>\n",
       "      <td>Thunder Shock</td>\n",
       "      <td>Wild Charge</td>\n",
       "      <td>8.366</td>\n",
       "      <td>81.2</td>\n",
       "      <td>47.5</td>\n",
       "      <td>938</td>\n",
       "    </tr>\n",
       "    <tr>\n",
       "      <th>14</th>\n",
       "      <td>Abomasnow</td>\n",
       "      <td>12.094</td>\n",
       "      <td>322.3</td>\n",
       "      <td>570.1</td>\n",
       "      <td>2362</td>\n",
       "      <td>Razor Leaf</td>\n",
       "      <td>Weather Ball Ice</td>\n",
       "      <td>12.094</td>\n",
       "      <td>322.3</td>\n",
       "      <td>570.1</td>\n",
       "      <td>2362</td>\n",
       "    </tr>\n",
       "    <tr>\n",
       "      <th>24</th>\n",
       "      <td>Abra</td>\n",
       "      <td>11.707</td>\n",
       "      <td>85.1</td>\n",
       "      <td>136.5</td>\n",
       "      <td>1342</td>\n",
       "      <td>Zen Headbutt</td>\n",
       "      <td>Psyshock</td>\n",
       "      <td>11.707</td>\n",
       "      <td>85.1</td>\n",
       "      <td>136.5</td>\n",
       "      <td>1342</td>\n",
       "    </tr>\n",
       "    <tr>\n",
       "      <th>32</th>\n",
       "      <td>Absol</td>\n",
       "      <td>15.134</td>\n",
       "      <td>252.4</td>\n",
       "      <td>874.8</td>\n",
       "      <td>2526</td>\n",
       "      <td>Snarl</td>\n",
       "      <td>Return</td>\n",
       "      <td>15.134</td>\n",
       "      <td>252.4</td>\n",
       "      <td>874.8</td>\n",
       "      <td>2526</td>\n",
       "    </tr>\n",
       "  </tbody>\n",
       "</table>\n",
       "</div>"
      ],
      "text/plain": [
       "                    Pokemon   DPS_x  TDO_x  Battle_Stat_x  CP_x  \\\n",
       "0                   Flabébé   7.460   99.2           41.2  1063   \n",
       "6   5th Anniversary Pikachu   8.366   81.2           47.5   938   \n",
       "14                Abomasnow  12.094  322.3          570.1  2362   \n",
       "24                     Abra  11.707   85.1          136.5  1342   \n",
       "32                    Absol  15.134  252.4          874.8  2526   \n",
       "\n",
       "        Fast Move      Charged Move   DPS_y  TDO_y  Battle_Stat_y  CP_y  \n",
       "0       Vine Whip    Dazzling Gleam   7.460   99.2           41.2  1063  \n",
       "6   Thunder Shock       Wild Charge   8.366   81.2           47.5   938  \n",
       "14     Razor Leaf  Weather Ball Ice  12.094  322.3          570.1  2362  \n",
       "24   Zen Headbutt          Psyshock  11.707   85.1          136.5  1342  \n",
       "32          Snarl            Return  15.134  252.4          874.8  2526  "
      ]
     },
     "execution_count": 182,
     "metadata": {},
     "output_type": "execute_result"
    }
   ],
   "source": [
    "df_best_attack_set.head()"
   ]
  },
  {
   "cell_type": "code",
   "execution_count": 183,
   "id": "53422b83-e121-4be5-878a-0900e3857c0a",
   "metadata": {},
   "outputs": [],
   "source": [
    "df_best_attack_set.drop(columns = ['DPS_y', 'TDO_y', 'Battle_Stat_y', 'CP_y'], inplace = True)"
   ]
  },
  {
   "cell_type": "code",
   "execution_count": 184,
   "id": "67ad7e82-b682-4312-b102-9adc00a1aa1c",
   "metadata": {},
   "outputs": [],
   "source": [
    "df_best_attack_set.rename(columns = {'DPS_x' : 'DPS', 'TDO_x' : 'TDO',\n",
    "                                     'Battle_Stat_x' : 'Battle_Stat', 'CP_x' : 'Max_CP_Lv40',\n",
    "                                    'Fast Move' : 'Fast_Move', 'Charged Move' : 'Charged_Move'}, inplace = True)"
   ]
  },
  {
   "cell_type": "code",
   "execution_count": 185,
   "id": "1d842fb7-f647-4085-bffe-6e4de9dde8a4",
   "metadata": {},
   "outputs": [
    {
     "data": {
      "text/html": [
       "<div>\n",
       "<style scoped>\n",
       "    .dataframe tbody tr th:only-of-type {\n",
       "        vertical-align: middle;\n",
       "    }\n",
       "\n",
       "    .dataframe tbody tr th {\n",
       "        vertical-align: top;\n",
       "    }\n",
       "\n",
       "    .dataframe thead th {\n",
       "        text-align: right;\n",
       "    }\n",
       "</style>\n",
       "<table border=\"1\" class=\"dataframe\">\n",
       "  <thead>\n",
       "    <tr style=\"text-align: right;\">\n",
       "      <th></th>\n",
       "      <th>Pokemon</th>\n",
       "      <th>DPS</th>\n",
       "      <th>TDO</th>\n",
       "      <th>Battle_Stat</th>\n",
       "      <th>Max_CP_Lv40</th>\n",
       "      <th>Fast_Move</th>\n",
       "      <th>Charged_Move</th>\n",
       "    </tr>\n",
       "  </thead>\n",
       "  <tbody>\n",
       "    <tr>\n",
       "      <th>0</th>\n",
       "      <td>Flabébé</td>\n",
       "      <td>7.460</td>\n",
       "      <td>99.2</td>\n",
       "      <td>41.2</td>\n",
       "      <td>1063</td>\n",
       "      <td>Vine Whip</td>\n",
       "      <td>Dazzling Gleam</td>\n",
       "    </tr>\n",
       "    <tr>\n",
       "      <th>6</th>\n",
       "      <td>5th Anniversary Pikachu</td>\n",
       "      <td>8.366</td>\n",
       "      <td>81.2</td>\n",
       "      <td>47.5</td>\n",
       "      <td>938</td>\n",
       "      <td>Thunder Shock</td>\n",
       "      <td>Wild Charge</td>\n",
       "    </tr>\n",
       "    <tr>\n",
       "      <th>14</th>\n",
       "      <td>Abomasnow</td>\n",
       "      <td>12.094</td>\n",
       "      <td>322.3</td>\n",
       "      <td>570.1</td>\n",
       "      <td>2362</td>\n",
       "      <td>Razor Leaf</td>\n",
       "      <td>Weather Ball Ice</td>\n",
       "    </tr>\n",
       "    <tr>\n",
       "      <th>24</th>\n",
       "      <td>Abra</td>\n",
       "      <td>11.707</td>\n",
       "      <td>85.1</td>\n",
       "      <td>136.5</td>\n",
       "      <td>1342</td>\n",
       "      <td>Zen Headbutt</td>\n",
       "      <td>Psyshock</td>\n",
       "    </tr>\n",
       "    <tr>\n",
       "      <th>32</th>\n",
       "      <td>Absol</td>\n",
       "      <td>15.134</td>\n",
       "      <td>252.4</td>\n",
       "      <td>874.8</td>\n",
       "      <td>2526</td>\n",
       "      <td>Snarl</td>\n",
       "      <td>Return</td>\n",
       "    </tr>\n",
       "  </tbody>\n",
       "</table>\n",
       "</div>"
      ],
      "text/plain": [
       "                    Pokemon     DPS    TDO  Battle_Stat  Max_CP_Lv40  \\\n",
       "0                   Flabébé   7.460   99.2         41.2         1063   \n",
       "6   5th Anniversary Pikachu   8.366   81.2         47.5          938   \n",
       "14                Abomasnow  12.094  322.3        570.1         2362   \n",
       "24                     Abra  11.707   85.1        136.5         1342   \n",
       "32                    Absol  15.134  252.4        874.8         2526   \n",
       "\n",
       "        Fast_Move      Charged_Move  \n",
       "0       Vine Whip    Dazzling Gleam  \n",
       "6   Thunder Shock       Wild Charge  \n",
       "14     Razor Leaf  Weather Ball Ice  \n",
       "24   Zen Headbutt          Psyshock  \n",
       "32          Snarl            Return  "
      ]
     },
     "execution_count": 185,
     "metadata": {},
     "output_type": "execute_result"
    }
   ],
   "source": [
    "df_best_attack_set.head()"
   ]
  },
  {
   "cell_type": "code",
   "execution_count": 186,
   "id": "b3d1dc43-f229-47d4-aa52-596926d03f6e",
   "metadata": {},
   "outputs": [
    {
     "data": {
      "text/html": [
       "<div>\n",
       "<style scoped>\n",
       "    .dataframe tbody tr th:only-of-type {\n",
       "        vertical-align: middle;\n",
       "    }\n",
       "\n",
       "    .dataframe tbody tr th {\n",
       "        vertical-align: top;\n",
       "    }\n",
       "\n",
       "    .dataframe thead th {\n",
       "        text-align: right;\n",
       "    }\n",
       "</style>\n",
       "<table border=\"1\" class=\"dataframe\">\n",
       "  <thead>\n",
       "    <tr style=\"text-align: right;\">\n",
       "      <th></th>\n",
       "      <th>Pokemon</th>\n",
       "      <th>DPS</th>\n",
       "      <th>TDO</th>\n",
       "      <th>Battle_Stat</th>\n",
       "      <th>Max_CP_Lv40</th>\n",
       "      <th>Fast_Move</th>\n",
       "      <th>Charged_Move</th>\n",
       "    </tr>\n",
       "  </thead>\n",
       "  <tbody>\n",
       "  </tbody>\n",
       "</table>\n",
       "</div>"
      ],
      "text/plain": [
       "Empty DataFrame\n",
       "Columns: [Pokemon, DPS, TDO, Battle_Stat, Max_CP_Lv40, Fast_Move, Charged_Move]\n",
       "Index: []"
      ]
     },
     "execution_count": 186,
     "metadata": {},
     "output_type": "execute_result"
    }
   ],
   "source": [
    "df_best_attack_set[df_best_attack_set.Pokemon == 'Pumpkaboo']"
   ]
  },
  {
   "cell_type": "code",
   "execution_count": 187,
   "id": "f6a8ae03-a026-4719-978b-fed2608a34ef",
   "metadata": {},
   "outputs": [],
   "source": [
    "def base_function(df_best_attack_set):\n",
    "    x = input('Type a Pokemons name to find its best moveset.')\n",
    "    result = df_best_attack_set[df_best_attack_set.Pokemon == x]\n",
    "    print(result)\n",
    "\n",
    "\n",
    "def find_best_moveset(df_best_attack_set):\n",
    "    x = input('Type a Pokemons name to find its best moveset.')\n",
    "    result = df_best_attack_set[df_best_attack_set.Pokemon == x]\n",
    "    print(result)\n",
    "    loop = 'active'\n",
    "    while loop == 'active':\n",
    "        choice = input('Would you like to check another Pokemon? Y/N')\n",
    "        if choice == 'Y':\n",
    "            base_function(df_best_attack_set)\n",
    "        elif choice == 'N':\n",
    "            print('Thank you have a great day!')\n",
    "            break\n",
    "        else:\n",
    "            print('Please enter Y or N')"
   ]
  },
  {
   "cell_type": "code",
   "execution_count": 62,
   "id": "c15decdb-4b9d-4e8d-a0b3-5c81123382c6",
   "metadata": {},
   "outputs": [
    {
     "name": "stdin",
     "output_type": "stream",
     "text": [
      "Type a Pokemons name to find its best moveset. Pumpkaboo - Super Size\n"
     ]
    },
    {
     "name": "stdout",
     "output_type": "stream",
     "text": [
      "                     Pokemon    DPS    TDO  Battle_Stat    CP   Fast_Move  \\\n",
      "7446  Pumpkaboo - Super Size  8.569  134.9         84.9  1250  Razor Leaf   \n",
      "\n",
      "     Charged_Move  \n",
      "7446   Grass Knot  \n"
     ]
    },
    {
     "name": "stdin",
     "output_type": "stream",
     "text": [
      "Would you like to check another Pokemon? Y/N Y\n",
      "Type a Pokemons name to find its best moveset. Tyrunt\n"
     ]
    },
    {
     "name": "stdout",
     "output_type": "stream",
     "text": [
      "      Pokemon     DPS    TDO  Battle_Stat    CP    Fast_Move Charged_Move\n",
      "13048  Tyrunt  10.603  168.6        200.9  1635  Dragon Tail  Dragon Claw\n"
     ]
    },
    {
     "name": "stdin",
     "output_type": "stream",
     "text": [
      "Would you like to check another Pokemon? Y/N Y\n",
      "Type a Pokemons name to find its best moveset. Furret\n"
     ]
    },
    {
     "name": "stdout",
     "output_type": "stream",
     "text": [
      "     Pokemon    DPS    TDO  Battle_Stat    CP     Fast_Move Charged_Move\n",
      "2625  Furret  9.834  203.5        193.5  1758  Quick Attack   Hyper Beam\n"
     ]
    },
    {
     "name": "stdin",
     "output_type": "stream",
     "text": [
      "Would you like to check another Pokemon? Y/N N\n"
     ]
    },
    {
     "name": "stdout",
     "output_type": "stream",
     "text": [
      "Thank you have a great day!\n"
     ]
    }
   ],
   "source": [
    "find_best_moveset(df_best_attack_set)"
   ]
  },
  {
   "cell_type": "markdown",
   "id": "f0e7bd39-245c-4f91-abf4-464a1c34a0b3",
   "metadata": {},
   "source": [
    "## What pokemon has the highest and lowest cp?"
   ]
  },
  {
   "cell_type": "code",
   "execution_count": 86,
   "id": "a4335ca5-bce7-4754-ac01-f4bdf40f6f73",
   "metadata": {},
   "outputs": [
    {
     "data": {
      "text/html": [
       "<div>\n",
       "<style scoped>\n",
       "    .dataframe tbody tr th:only-of-type {\n",
       "        vertical-align: middle;\n",
       "    }\n",
       "\n",
       "    .dataframe tbody tr th {\n",
       "        vertical-align: top;\n",
       "    }\n",
       "\n",
       "    .dataframe thead th {\n",
       "        text-align: right;\n",
       "    }\n",
       "</style>\n",
       "<table border=\"1\" class=\"dataframe\">\n",
       "  <thead>\n",
       "    <tr style=\"text-align: right;\">\n",
       "      <th></th>\n",
       "      <th>Pokemon</th>\n",
       "      <th>DPS</th>\n",
       "      <th>TDO</th>\n",
       "      <th>Battle_Stat</th>\n",
       "      <th>Max_CP_Lv40</th>\n",
       "      <th>Fast_Move</th>\n",
       "      <th>Charged_Move</th>\n",
       "    </tr>\n",
       "  </thead>\n",
       "  <tbody>\n",
       "    <tr>\n",
       "      <th>2330</th>\n",
       "      <td>Eternamax Eternatus</td>\n",
       "      <td>14.836</td>\n",
       "      <td>2500.2</td>\n",
       "      <td>8164.7</td>\n",
       "      <td>8187</td>\n",
       "      <td>Dragon Tail</td>\n",
       "      <td>Hyper Beam</td>\n",
       "    </tr>\n",
       "  </tbody>\n",
       "</table>\n",
       "</div>"
      ],
      "text/plain": [
       "                  Pokemon     DPS     TDO  Battle_Stat  Max_CP_Lv40  \\\n",
       "2330  Eternamax Eternatus  14.836  2500.2       8164.7         8187   \n",
       "\n",
       "        Fast_Move Charged_Move  \n",
       "2330  Dragon Tail   Hyper Beam  "
      ]
     },
     "execution_count": 86,
     "metadata": {},
     "output_type": "execute_result"
    }
   ],
   "source": [
    "df_best_attack_set[df_best_attack_set.Max_CP_Lv40 == df_best_attack_set.Max_CP_Lv40.max()]"
   ]
  },
  {
   "cell_type": "code",
   "execution_count": 87,
   "id": "a4ed6dd1-a1dd-4a06-a760-884cb54d2439",
   "metadata": {},
   "outputs": [
    {
     "data": {
      "text/html": [
       "<div>\n",
       "<style scoped>\n",
       "    .dataframe tbody tr th:only-of-type {\n",
       "        vertical-align: middle;\n",
       "    }\n",
       "\n",
       "    .dataframe tbody tr th {\n",
       "        vertical-align: top;\n",
       "    }\n",
       "\n",
       "    .dataframe thead th {\n",
       "        text-align: right;\n",
       "    }\n",
       "</style>\n",
       "<table border=\"1\" class=\"dataframe\">\n",
       "  <thead>\n",
       "    <tr style=\"text-align: right;\">\n",
       "      <th></th>\n",
       "      <th>Pokemon</th>\n",
       "      <th>DPS</th>\n",
       "      <th>TDO</th>\n",
       "      <th>Battle_Stat</th>\n",
       "      <th>Max_CP_Lv40</th>\n",
       "      <th>Fast_Move</th>\n",
       "      <th>Charged_Move</th>\n",
       "    </tr>\n",
       "  </thead>\n",
       "  <tbody>\n",
       "    <tr>\n",
       "      <th>2411</th>\n",
       "      <td>Feebas</td>\n",
       "      <td>2.333</td>\n",
       "      <td>16.2</td>\n",
       "      <td>0.2</td>\n",
       "      <td>274</td>\n",
       "      <td>Tackle</td>\n",
       "      <td>Mirror Coat</td>\n",
       "    </tr>\n",
       "    <tr>\n",
       "      <th>4791</th>\n",
       "      <td>Magikarp</td>\n",
       "      <td>1.630</td>\n",
       "      <td>11.3</td>\n",
       "      <td>0.0</td>\n",
       "      <td>274</td>\n",
       "      <td>Splash</td>\n",
       "      <td>Return</td>\n",
       "    </tr>\n",
       "    <tr>\n",
       "      <th>4792</th>\n",
       "      <td>Magikarp</td>\n",
       "      <td>1.630</td>\n",
       "      <td>11.3</td>\n",
       "      <td>0.0</td>\n",
       "      <td>274</td>\n",
       "      <td>Splash</td>\n",
       "      <td>Struggle</td>\n",
       "    </tr>\n",
       "    <tr>\n",
       "      <th>9794</th>\n",
       "      <td>Shadow Magikarp</td>\n",
       "      <td>1.336</td>\n",
       "      <td>7.7</td>\n",
       "      <td>0.0</td>\n",
       "      <td>274</td>\n",
       "      <td>Splash</td>\n",
       "      <td>Struggle</td>\n",
       "    </tr>\n",
       "    <tr>\n",
       "      <th>9795</th>\n",
       "      <td>Shadow Magikarp</td>\n",
       "      <td>1.336</td>\n",
       "      <td>7.7</td>\n",
       "      <td>0.0</td>\n",
       "      <td>274</td>\n",
       "      <td>Splash</td>\n",
       "      <td>Frustration</td>\n",
       "    </tr>\n",
       "  </tbody>\n",
       "</table>\n",
       "</div>"
      ],
      "text/plain": [
       "              Pokemon    DPS   TDO  Battle_Stat  Max_CP_Lv40 Fast_Move  \\\n",
       "2411           Feebas  2.333  16.2          0.2          274    Tackle   \n",
       "4791         Magikarp  1.630  11.3          0.0          274    Splash   \n",
       "4792         Magikarp  1.630  11.3          0.0          274    Splash   \n",
       "9794  Shadow Magikarp  1.336   7.7          0.0          274    Splash   \n",
       "9795  Shadow Magikarp  1.336   7.7          0.0          274    Splash   \n",
       "\n",
       "     Charged_Move  \n",
       "2411  Mirror Coat  \n",
       "4791       Return  \n",
       "4792     Struggle  \n",
       "9794     Struggle  \n",
       "9795  Frustration  "
      ]
     },
     "execution_count": 87,
     "metadata": {},
     "output_type": "execute_result"
    }
   ],
   "source": [
    "df_best_attack_set[df_best_attack_set.Max_CP_Lv40 == df_best_attack_set.Max_CP_Lv40.min()]"
   ]
  },
  {
   "cell_type": "markdown",
   "id": "62b9824d-3db9-4e98-bbe0-1fbb48ef54ba",
   "metadata": {},
   "source": [
    "## Lets look at the S tier pokemon for attackers as determined by general consensus"
   ]
  },
  {
   "cell_type": "code",
   "execution_count": 114,
   "id": "12590671-1863-4994-b651-3432b874c6b3",
   "metadata": {},
   "outputs": [],
   "source": [
    "S_tier_attackers = ['Kartana', 'Terrakion', 'Shadow Metagross', 'Shadow Machamp',\n",
    "                    'Shadow Mewtwo', 'Shadow Salamence', 'Shadow Dragonite', 'Mega Latios',\n",
    "                    'Mega Gengar', 'Mega Charizard Y', 'Shadow Mamoswine']"
   ]
  },
  {
   "cell_type": "code",
   "execution_count": 153,
   "id": "50bf3948-3b60-4494-ad73-fdc86a7c11e9",
   "metadata": {
    "tags": []
   },
   "outputs": [
    {
     "name": "stdout",
     "output_type": "stream",
     "text": [
      "      Pokemon     DPS    TDO  Battle_Stat  Max_CP_Lv40   Fast_Move  \\\n",
      "4092  Kartana  20.374  428.9       3627.7         3677  Razor Leaf   \n",
      "\n",
      "     Charged_Move  \n",
      "4092   Leaf Blade  \n",
      "         Pokemon     DPS    TDO  Battle_Stat  Max_CP_Lv40    Fast_Move  \\\n",
      "12588  Terrakion  19.461  626.2       4615.8         3698  Double Kick   \n",
      "\n",
      "       Charged_Move  \n",
      "12588  Sacred Sword  \n",
      "               Pokemon     DPS    TDO  Battle_Stat  Max_CP_Lv40     Fast_Move  \\\n",
      "9954  Shadow Metagross  21.763  627.0       6462.6         3791  Bullet Punch   \n",
      "\n",
      "     Charged_Move  \n",
      "9954  Meteor Mash  \n",
      "             Pokemon    DPS    TDO  Battle_Stat  Max_CP_Lv40 Fast_Move  \\\n",
      "9745  Shadow Machamp  19.65  439.0       3330.3         3056   Counter   \n",
      "\n",
      "       Charged_Move  \n",
      "9745  Dynamic Punch  \n",
      "            Pokemon   DPS    TDO  Battle_Stat  Max_CP_Lv40  Fast_Move  \\\n",
      "9972  Shadow Mewtwo  25.4  662.7      10859.6         4178  Confusion   \n",
      "\n",
      "     Charged_Move  \n",
      "9972    Psystrike  \n",
      "                Pokemon     DPS    TDO  Battle_Stat  Max_CP_Lv40    Fast_Move  \\\n",
      "10739  Shadow Salamence  22.163  541.8       5898.5         3749  Dragon Tail   \n",
      "\n",
      "      Charged_Move  \n",
      "10739      Outrage  \n",
      "               Pokemon     DPS    TDO  Battle_Stat  Max_CP_Lv40    Fast_Move  \\\n",
      "8729  Shadow Dragonite  20.854  575.4       5218.5         3792  Dragon Tail   \n",
      "\n",
      "     Charged_Move  \n",
      "8729      Outrage  \n",
      "          Pokemon     DPS    TDO  Battle_Stat  Max_CP_Lv40      Fast_Move  \\\n",
      "5387  Mega Latios  20.704  829.4       7360.9         5007  Dragon Breath   \n",
      "\n",
      "     Charged_Move  \n",
      "5387      Psychic  \n",
      "          Pokemon     DPS    TDO  Battle_Stat  Max_CP_Lv40 Fast_Move  \\\n",
      "5283  Mega Gengar  23.173  643.5       8008.2         4336      Lick   \n",
      "\n",
      "     Charged_Move  \n",
      "5283  Shadow Ball  \n",
      "               Pokemon     DPS    TDO  Battle_Stat  Max_CP_Lv40  Fast_Move  \\\n",
      "5207  Mega Charizard Y  21.764  758.0       7814.8         4455  Fire Spin   \n",
      "\n",
      "     Charged_Move  \n",
      "5207   Blast Burn  \n",
      "               Pokemon     DPS    TDO  Battle_Stat  Max_CP_Lv40 Fast_Move  \\\n",
      "9855  Shadow Mamoswine  20.377  487.6       4125.6         3328  Mud Slap   \n",
      "\n",
      "     Charged_Move  \n",
      "9855    Avalanche  \n"
     ]
    }
   ],
   "source": [
    "for x in S_tier_attackers:\n",
    "    result = df_best_attack_set[df_best_attack_set.Pokemon == x]\n",
    "    print(result)"
   ]
  },
  {
   "cell_type": "code",
   "execution_count": 161,
   "id": "35eb530a-b437-4ce7-8b77-4bd7b5a83dc1",
   "metadata": {},
   "outputs": [],
   "source": [
    "df_S_tier_attackers = df_best_attack_set[(df_best_attack_set.Pokemon == 'Kartana') | (df_best_attack_set.Pokemon == 'Terrakion') |\n",
    "                  (df_best_attack_set.Pokemon == 'Shadow Metagross') | (df_best_attack_set.Pokemon == 'Shadow Machamp') |\n",
    "                  (df_best_attack_set.Pokemon == 'Shadow Mewtwo') | (df_best_attack_set.Pokemon == 'Shadow Salamence') |\n",
    "                  (df_best_attack_set.Pokemon == 'Shadow Dragonite') | (df_best_attack_set.Pokemon == 'Mega Latios') |\n",
    "                  (df_best_attack_set.Pokemon == 'Shadow Gengar') | (df_best_attack_set.Pokemon == 'Mega Charizard Y') |\n",
    "                  (df_best_attack_set.Pokemon == 'Shadow Mamoswine')]"
   ]
  },
  {
   "cell_type": "code",
   "execution_count": 162,
   "id": "34640a67-964b-4f38-b00b-4fe1094fa83d",
   "metadata": {},
   "outputs": [
    {
     "data": {
      "text/html": [
       "<div>\n",
       "<style scoped>\n",
       "    .dataframe tbody tr th:only-of-type {\n",
       "        vertical-align: middle;\n",
       "    }\n",
       "\n",
       "    .dataframe tbody tr th {\n",
       "        vertical-align: top;\n",
       "    }\n",
       "\n",
       "    .dataframe thead th {\n",
       "        text-align: right;\n",
       "    }\n",
       "</style>\n",
       "<table border=\"1\" class=\"dataframe\">\n",
       "  <thead>\n",
       "    <tr style=\"text-align: right;\">\n",
       "      <th></th>\n",
       "      <th>Pokemon</th>\n",
       "      <th>DPS</th>\n",
       "      <th>TDO</th>\n",
       "      <th>Battle_Stat</th>\n",
       "      <th>Max_CP_Lv40</th>\n",
       "      <th>Fast_Move</th>\n",
       "      <th>Charged_Move</th>\n",
       "    </tr>\n",
       "  </thead>\n",
       "  <tbody>\n",
       "    <tr>\n",
       "      <th>4092</th>\n",
       "      <td>Kartana</td>\n",
       "      <td>20.374</td>\n",
       "      <td>428.9</td>\n",
       "      <td>3627.7</td>\n",
       "      <td>3677</td>\n",
       "      <td>Razor Leaf</td>\n",
       "      <td>Leaf Blade</td>\n",
       "    </tr>\n",
       "    <tr>\n",
       "      <th>5207</th>\n",
       "      <td>Mega Charizard Y</td>\n",
       "      <td>21.764</td>\n",
       "      <td>758.0</td>\n",
       "      <td>7814.8</td>\n",
       "      <td>4455</td>\n",
       "      <td>Fire Spin</td>\n",
       "      <td>Blast Burn</td>\n",
       "    </tr>\n",
       "    <tr>\n",
       "      <th>5387</th>\n",
       "      <td>Mega Latios</td>\n",
       "      <td>20.704</td>\n",
       "      <td>829.4</td>\n",
       "      <td>7360.9</td>\n",
       "      <td>5007</td>\n",
       "      <td>Dragon Breath</td>\n",
       "      <td>Psychic</td>\n",
       "    </tr>\n",
       "    <tr>\n",
       "      <th>8729</th>\n",
       "      <td>Shadow Dragonite</td>\n",
       "      <td>20.854</td>\n",
       "      <td>575.4</td>\n",
       "      <td>5218.5</td>\n",
       "      <td>3792</td>\n",
       "      <td>Dragon Tail</td>\n",
       "      <td>Outrage</td>\n",
       "    </tr>\n",
       "    <tr>\n",
       "      <th>9745</th>\n",
       "      <td>Shadow Machamp</td>\n",
       "      <td>19.650</td>\n",
       "      <td>439.0</td>\n",
       "      <td>3330.3</td>\n",
       "      <td>3056</td>\n",
       "      <td>Counter</td>\n",
       "      <td>Dynamic Punch</td>\n",
       "    </tr>\n",
       "    <tr>\n",
       "      <th>9855</th>\n",
       "      <td>Shadow Mamoswine</td>\n",
       "      <td>20.377</td>\n",
       "      <td>487.6</td>\n",
       "      <td>4125.6</td>\n",
       "      <td>3328</td>\n",
       "      <td>Mud Slap</td>\n",
       "      <td>Avalanche</td>\n",
       "    </tr>\n",
       "    <tr>\n",
       "      <th>9954</th>\n",
       "      <td>Shadow Metagross</td>\n",
       "      <td>21.763</td>\n",
       "      <td>627.0</td>\n",
       "      <td>6462.6</td>\n",
       "      <td>3791</td>\n",
       "      <td>Bullet Punch</td>\n",
       "      <td>Meteor Mash</td>\n",
       "    </tr>\n",
       "    <tr>\n",
       "      <th>9972</th>\n",
       "      <td>Shadow Mewtwo</td>\n",
       "      <td>25.400</td>\n",
       "      <td>662.7</td>\n",
       "      <td>10859.6</td>\n",
       "      <td>4178</td>\n",
       "      <td>Confusion</td>\n",
       "      <td>Psystrike</td>\n",
       "    </tr>\n",
       "    <tr>\n",
       "      <th>10739</th>\n",
       "      <td>Shadow Salamence</td>\n",
       "      <td>22.163</td>\n",
       "      <td>541.8</td>\n",
       "      <td>5898.5</td>\n",
       "      <td>3749</td>\n",
       "      <td>Dragon Tail</td>\n",
       "      <td>Outrage</td>\n",
       "    </tr>\n",
       "    <tr>\n",
       "      <th>12588</th>\n",
       "      <td>Terrakion</td>\n",
       "      <td>19.461</td>\n",
       "      <td>626.2</td>\n",
       "      <td>4615.8</td>\n",
       "      <td>3698</td>\n",
       "      <td>Double Kick</td>\n",
       "      <td>Sacred Sword</td>\n",
       "    </tr>\n",
       "  </tbody>\n",
       "</table>\n",
       "</div>"
      ],
      "text/plain": [
       "                Pokemon     DPS    TDO  Battle_Stat  Max_CP_Lv40  \\\n",
       "4092            Kartana  20.374  428.9       3627.7         3677   \n",
       "5207   Mega Charizard Y  21.764  758.0       7814.8         4455   \n",
       "5387        Mega Latios  20.704  829.4       7360.9         5007   \n",
       "8729   Shadow Dragonite  20.854  575.4       5218.5         3792   \n",
       "9745     Shadow Machamp  19.650  439.0       3330.3         3056   \n",
       "9855   Shadow Mamoswine  20.377  487.6       4125.6         3328   \n",
       "9954   Shadow Metagross  21.763  627.0       6462.6         3791   \n",
       "9972      Shadow Mewtwo  25.400  662.7      10859.6         4178   \n",
       "10739  Shadow Salamence  22.163  541.8       5898.5         3749   \n",
       "12588         Terrakion  19.461  626.2       4615.8         3698   \n",
       "\n",
       "           Fast_Move   Charged_Move  \n",
       "4092      Razor Leaf     Leaf Blade  \n",
       "5207       Fire Spin     Blast Burn  \n",
       "5387   Dragon Breath        Psychic  \n",
       "8729     Dragon Tail        Outrage  \n",
       "9745         Counter  Dynamic Punch  \n",
       "9855        Mud Slap      Avalanche  \n",
       "9954    Bullet Punch    Meteor Mash  \n",
       "9972       Confusion      Psystrike  \n",
       "10739    Dragon Tail        Outrage  \n",
       "12588    Double Kick   Sacred Sword  "
      ]
     },
     "execution_count": 162,
     "metadata": {},
     "output_type": "execute_result"
    }
   ],
   "source": [
    "df_S_tier_attackers"
   ]
  },
  {
   "cell_type": "code",
   "execution_count": 163,
   "id": "3e665851-d0ac-41c8-b534-ea7feb08e0e8",
   "metadata": {},
   "outputs": [
    {
     "data": {
      "text/html": [
       "<div>\n",
       "<style scoped>\n",
       "    .dataframe tbody tr th:only-of-type {\n",
       "        vertical-align: middle;\n",
       "    }\n",
       "\n",
       "    .dataframe tbody tr th {\n",
       "        vertical-align: top;\n",
       "    }\n",
       "\n",
       "    .dataframe thead th {\n",
       "        text-align: right;\n",
       "    }\n",
       "</style>\n",
       "<table border=\"1\" class=\"dataframe\">\n",
       "  <thead>\n",
       "    <tr style=\"text-align: right;\">\n",
       "      <th></th>\n",
       "      <th>Pokemon</th>\n",
       "      <th>DPS</th>\n",
       "      <th>TDO</th>\n",
       "      <th>Battle_Stat</th>\n",
       "      <th>Max_CP_Lv40</th>\n",
       "      <th>Fast_Move</th>\n",
       "      <th>Charged_Move</th>\n",
       "    </tr>\n",
       "  </thead>\n",
       "  <tbody>\n",
       "    <tr>\n",
       "      <th>9972</th>\n",
       "      <td>Shadow Mewtwo</td>\n",
       "      <td>25.4</td>\n",
       "      <td>662.7</td>\n",
       "      <td>10859.6</td>\n",
       "      <td>4178</td>\n",
       "      <td>Confusion</td>\n",
       "      <td>Psystrike</td>\n",
       "    </tr>\n",
       "  </tbody>\n",
       "</table>\n",
       "</div>"
      ],
      "text/plain": [
       "            Pokemon   DPS    TDO  Battle_Stat  Max_CP_Lv40  Fast_Move  \\\n",
       "9972  Shadow Mewtwo  25.4  662.7      10859.6         4178  Confusion   \n",
       "\n",
       "     Charged_Move  \n",
       "9972    Psystrike  "
      ]
     },
     "execution_count": 163,
     "metadata": {},
     "output_type": "execute_result"
    }
   ],
   "source": [
    "df_S_tier_attackers[df_S_tier_attackers.Battle_Stat == df_S_tier_attackers.Battle_Stat.max()]"
   ]
  },
  {
   "cell_type": "code",
   "execution_count": 164,
   "id": "7750eb7b-3798-4905-a079-02835fa97b5e",
   "metadata": {},
   "outputs": [
    {
     "data": {
      "text/html": [
       "<div>\n",
       "<style scoped>\n",
       "    .dataframe tbody tr th:only-of-type {\n",
       "        vertical-align: middle;\n",
       "    }\n",
       "\n",
       "    .dataframe tbody tr th {\n",
       "        vertical-align: top;\n",
       "    }\n",
       "\n",
       "    .dataframe thead th {\n",
       "        text-align: right;\n",
       "    }\n",
       "</style>\n",
       "<table border=\"1\" class=\"dataframe\">\n",
       "  <thead>\n",
       "    <tr style=\"text-align: right;\">\n",
       "      <th></th>\n",
       "      <th>Pokemon</th>\n",
       "      <th>DPS</th>\n",
       "      <th>TDO</th>\n",
       "      <th>Battle_Stat</th>\n",
       "      <th>Max_CP_Lv40</th>\n",
       "      <th>Fast_Move</th>\n",
       "      <th>Charged_Move</th>\n",
       "    </tr>\n",
       "  </thead>\n",
       "  <tbody>\n",
       "    <tr>\n",
       "      <th>9745</th>\n",
       "      <td>Shadow Machamp</td>\n",
       "      <td>19.65</td>\n",
       "      <td>439.0</td>\n",
       "      <td>3330.3</td>\n",
       "      <td>3056</td>\n",
       "      <td>Counter</td>\n",
       "      <td>Dynamic Punch</td>\n",
       "    </tr>\n",
       "  </tbody>\n",
       "</table>\n",
       "</div>"
      ],
      "text/plain": [
       "             Pokemon    DPS    TDO  Battle_Stat  Max_CP_Lv40 Fast_Move  \\\n",
       "9745  Shadow Machamp  19.65  439.0       3330.3         3056   Counter   \n",
       "\n",
       "       Charged_Move  \n",
       "9745  Dynamic Punch  "
      ]
     },
     "execution_count": 164,
     "metadata": {},
     "output_type": "execute_result"
    }
   ],
   "source": [
    "df_S_tier_attackers[df_S_tier_attackers.Battle_Stat == df_S_tier_attackers.Battle_Stat.min()]"
   ]
  },
  {
   "cell_type": "markdown",
   "id": "2c8d79a1-dc1d-4fda-bd4d-ccb403a3d46b",
   "metadata": {},
   "source": [
    "## What pokemon has the highest and lowest average battle stat between all of their move sets?"
   ]
  },
  {
   "cell_type": "code",
   "execution_count": 170,
   "id": "8a07b24b-dd65-420d-ac49-3eefeefb37c8",
   "metadata": {},
   "outputs": [
    {
     "data": {
      "text/html": [
       "<div>\n",
       "<style scoped>\n",
       "    .dataframe tbody tr th:only-of-type {\n",
       "        vertical-align: middle;\n",
       "    }\n",
       "\n",
       "    .dataframe tbody tr th {\n",
       "        vertical-align: top;\n",
       "    }\n",
       "\n",
       "    .dataframe thead th {\n",
       "        text-align: right;\n",
       "    }\n",
       "</style>\n",
       "<table border=\"1\" class=\"dataframe\">\n",
       "  <thead>\n",
       "    <tr style=\"text-align: right;\">\n",
       "      <th></th>\n",
       "      <th>DPS</th>\n",
       "      <th>TDO</th>\n",
       "      <th>Battle_Stat</th>\n",
       "      <th>CP</th>\n",
       "    </tr>\n",
       "    <tr>\n",
       "      <th>Pokemon</th>\n",
       "      <th></th>\n",
       "      <th></th>\n",
       "      <th></th>\n",
       "      <th></th>\n",
       "    </tr>\n",
       "  </thead>\n",
       "  <tbody>\n",
       "    <tr>\n",
       "      <th>Mega Mewtwo Y</th>\n",
       "      <td>21.9695</td>\n",
       "      <td>833.38125</td>\n",
       "      <td>9380.23125</td>\n",
       "      <td>5610.0</td>\n",
       "    </tr>\n",
       "  </tbody>\n",
       "</table>\n",
       "</div>"
      ],
      "text/plain": [
       "                   DPS        TDO  Battle_Stat      CP\n",
       "Pokemon                                               \n",
       "Mega Mewtwo Y  21.9695  833.38125   9380.23125  5610.0"
      ]
     },
     "execution_count": 170,
     "metadata": {},
     "output_type": "execute_result"
    }
   ],
   "source": [
    "df.groupby('Pokemon').mean('Battle_Stat').nlargest(1, columns = 'Battle_Stat')"
   ]
  },
  {
   "cell_type": "code",
   "execution_count": 171,
   "id": "d9fe42a4-7aca-4e2b-8e62-a912194ad0be",
   "metadata": {},
   "outputs": [
    {
     "data": {
      "text/html": [
       "<div>\n",
       "<style scoped>\n",
       "    .dataframe tbody tr th:only-of-type {\n",
       "        vertical-align: middle;\n",
       "    }\n",
       "\n",
       "    .dataframe tbody tr th {\n",
       "        vertical-align: top;\n",
       "    }\n",
       "\n",
       "    .dataframe thead th {\n",
       "        text-align: right;\n",
       "    }\n",
       "</style>\n",
       "<table border=\"1\" class=\"dataframe\">\n",
       "  <thead>\n",
       "    <tr style=\"text-align: right;\">\n",
       "      <th></th>\n",
       "      <th>DPS</th>\n",
       "      <th>TDO</th>\n",
       "      <th>Battle_Stat</th>\n",
       "      <th>CP</th>\n",
       "    </tr>\n",
       "    <tr>\n",
       "      <th>Pokemon</th>\n",
       "      <th></th>\n",
       "      <th></th>\n",
       "      <th></th>\n",
       "      <th></th>\n",
       "    </tr>\n",
       "  </thead>\n",
       "  <tbody>\n",
       "    <tr>\n",
       "      <th>Magikarp</th>\n",
       "      <td>1.381</td>\n",
       "      <td>9.6</td>\n",
       "      <td>0.0</td>\n",
       "      <td>274.0</td>\n",
       "    </tr>\n",
       "  </tbody>\n",
       "</table>\n",
       "</div>"
      ],
      "text/plain": [
       "            DPS  TDO  Battle_Stat     CP\n",
       "Pokemon                                 \n",
       "Magikarp  1.381  9.6          0.0  274.0"
      ]
     },
     "execution_count": 171,
     "metadata": {},
     "output_type": "execute_result"
    }
   ],
   "source": [
    "df.groupby('Pokemon').mean('Battle_Stat').nsmallest(1, columns = 'Battle_Stat')"
   ]
  },
  {
   "cell_type": "markdown",
   "id": "a118b40e-e0de-497f-b189-3089b7fd6ac2",
   "metadata": {},
   "source": [
    "## Looking at new csv for info from the other pokemon games\n"
   ]
  },
  {
   "cell_type": "code",
   "execution_count": 172,
   "id": "e180fdd7-9ef3-4884-831f-59862540708c",
   "metadata": {},
   "outputs": [],
   "source": [
    "df1 = pd.read_csv('Pokemon.csv')"
   ]
  },
  {
   "cell_type": "code",
   "execution_count": 173,
   "id": "12b2dd94-68dc-4abf-b5a2-772d9af66d7a",
   "metadata": {},
   "outputs": [
    {
     "data": {
      "text/html": [
       "<div>\n",
       "<style scoped>\n",
       "    .dataframe tbody tr th:only-of-type {\n",
       "        vertical-align: middle;\n",
       "    }\n",
       "\n",
       "    .dataframe tbody tr th {\n",
       "        vertical-align: top;\n",
       "    }\n",
       "\n",
       "    .dataframe thead th {\n",
       "        text-align: right;\n",
       "    }\n",
       "</style>\n",
       "<table border=\"1\" class=\"dataframe\">\n",
       "  <thead>\n",
       "    <tr style=\"text-align: right;\">\n",
       "      <th></th>\n",
       "      <th>#</th>\n",
       "      <th>Name</th>\n",
       "      <th>Type 1</th>\n",
       "      <th>Type 2</th>\n",
       "      <th>Total</th>\n",
       "      <th>HP</th>\n",
       "      <th>Attack</th>\n",
       "      <th>Defense</th>\n",
       "      <th>Sp. Atk</th>\n",
       "      <th>Sp. Def</th>\n",
       "      <th>Speed</th>\n",
       "      <th>Generation</th>\n",
       "      <th>Legendary</th>\n",
       "    </tr>\n",
       "  </thead>\n",
       "  <tbody>\n",
       "    <tr>\n",
       "      <th>0</th>\n",
       "      <td>1</td>\n",
       "      <td>Bulbasaur</td>\n",
       "      <td>Grass</td>\n",
       "      <td>Poison</td>\n",
       "      <td>318</td>\n",
       "      <td>45</td>\n",
       "      <td>49</td>\n",
       "      <td>49</td>\n",
       "      <td>65</td>\n",
       "      <td>65</td>\n",
       "      <td>45</td>\n",
       "      <td>1</td>\n",
       "      <td>False</td>\n",
       "    </tr>\n",
       "    <tr>\n",
       "      <th>1</th>\n",
       "      <td>2</td>\n",
       "      <td>Ivysaur</td>\n",
       "      <td>Grass</td>\n",
       "      <td>Poison</td>\n",
       "      <td>405</td>\n",
       "      <td>60</td>\n",
       "      <td>62</td>\n",
       "      <td>63</td>\n",
       "      <td>80</td>\n",
       "      <td>80</td>\n",
       "      <td>60</td>\n",
       "      <td>1</td>\n",
       "      <td>False</td>\n",
       "    </tr>\n",
       "    <tr>\n",
       "      <th>2</th>\n",
       "      <td>3</td>\n",
       "      <td>Venusaur</td>\n",
       "      <td>Grass</td>\n",
       "      <td>Poison</td>\n",
       "      <td>525</td>\n",
       "      <td>80</td>\n",
       "      <td>82</td>\n",
       "      <td>83</td>\n",
       "      <td>100</td>\n",
       "      <td>100</td>\n",
       "      <td>80</td>\n",
       "      <td>1</td>\n",
       "      <td>False</td>\n",
       "    </tr>\n",
       "    <tr>\n",
       "      <th>3</th>\n",
       "      <td>3</td>\n",
       "      <td>Mega Venusaur</td>\n",
       "      <td>Grass</td>\n",
       "      <td>Poison</td>\n",
       "      <td>625</td>\n",
       "      <td>80</td>\n",
       "      <td>100</td>\n",
       "      <td>123</td>\n",
       "      <td>122</td>\n",
       "      <td>120</td>\n",
       "      <td>80</td>\n",
       "      <td>1</td>\n",
       "      <td>False</td>\n",
       "    </tr>\n",
       "    <tr>\n",
       "      <th>4</th>\n",
       "      <td>4</td>\n",
       "      <td>Charmander</td>\n",
       "      <td>Fire</td>\n",
       "      <td>NaN</td>\n",
       "      <td>309</td>\n",
       "      <td>39</td>\n",
       "      <td>52</td>\n",
       "      <td>43</td>\n",
       "      <td>60</td>\n",
       "      <td>50</td>\n",
       "      <td>65</td>\n",
       "      <td>1</td>\n",
       "      <td>False</td>\n",
       "    </tr>\n",
       "  </tbody>\n",
       "</table>\n",
       "</div>"
      ],
      "text/plain": [
       "   #           Name Type 1  Type 2  Total  HP  Attack  Defense  Sp. Atk  \\\n",
       "0  1      Bulbasaur  Grass  Poison    318  45      49       49       65   \n",
       "1  2        Ivysaur  Grass  Poison    405  60      62       63       80   \n",
       "2  3       Venusaur  Grass  Poison    525  80      82       83      100   \n",
       "3  3  Mega Venusaur  Grass  Poison    625  80     100      123      122   \n",
       "4  4     Charmander   Fire     NaN    309  39      52       43       60   \n",
       "\n",
       "   Sp. Def  Speed  Generation  Legendary  \n",
       "0       65     45           1      False  \n",
       "1       80     60           1      False  \n",
       "2      100     80           1      False  \n",
       "3      120     80           1      False  \n",
       "4       50     65           1      False  "
      ]
     },
     "execution_count": 173,
     "metadata": {},
     "output_type": "execute_result"
    }
   ],
   "source": [
    "df1.head()"
   ]
  },
  {
   "cell_type": "markdown",
   "id": "510e18c2-553e-48d8-a66f-5009008ce866",
   "metadata": {},
   "source": [
    "## Lets join our 2 dataframes"
   ]
  },
  {
   "cell_type": "code",
   "execution_count": 188,
   "id": "7e916d14-ec46-4966-9b67-c9e0b8760f4a",
   "metadata": {},
   "outputs": [
    {
     "data": {
      "text/html": [
       "<div>\n",
       "<style scoped>\n",
       "    .dataframe tbody tr th:only-of-type {\n",
       "        vertical-align: middle;\n",
       "    }\n",
       "\n",
       "    .dataframe tbody tr th {\n",
       "        vertical-align: top;\n",
       "    }\n",
       "\n",
       "    .dataframe thead th {\n",
       "        text-align: right;\n",
       "    }\n",
       "</style>\n",
       "<table border=\"1\" class=\"dataframe\">\n",
       "  <thead>\n",
       "    <tr style=\"text-align: right;\">\n",
       "      <th></th>\n",
       "      <th>Pokemon</th>\n",
       "      <th>DPS</th>\n",
       "      <th>TDO</th>\n",
       "      <th>Battle_Stat</th>\n",
       "      <th>Max_CP_Lv40</th>\n",
       "      <th>Fast_Move</th>\n",
       "      <th>Charged_Move</th>\n",
       "    </tr>\n",
       "  </thead>\n",
       "  <tbody>\n",
       "    <tr>\n",
       "      <th>0</th>\n",
       "      <td>Flabébé</td>\n",
       "      <td>7.460</td>\n",
       "      <td>99.2</td>\n",
       "      <td>41.2</td>\n",
       "      <td>1063</td>\n",
       "      <td>Vine Whip</td>\n",
       "      <td>Dazzling Gleam</td>\n",
       "    </tr>\n",
       "    <tr>\n",
       "      <th>6</th>\n",
       "      <td>5th Anniversary Pikachu</td>\n",
       "      <td>8.366</td>\n",
       "      <td>81.2</td>\n",
       "      <td>47.5</td>\n",
       "      <td>938</td>\n",
       "      <td>Thunder Shock</td>\n",
       "      <td>Wild Charge</td>\n",
       "    </tr>\n",
       "    <tr>\n",
       "      <th>14</th>\n",
       "      <td>Abomasnow</td>\n",
       "      <td>12.094</td>\n",
       "      <td>322.3</td>\n",
       "      <td>570.1</td>\n",
       "      <td>2362</td>\n",
       "      <td>Razor Leaf</td>\n",
       "      <td>Weather Ball Ice</td>\n",
       "    </tr>\n",
       "    <tr>\n",
       "      <th>24</th>\n",
       "      <td>Abra</td>\n",
       "      <td>11.707</td>\n",
       "      <td>85.1</td>\n",
       "      <td>136.5</td>\n",
       "      <td>1342</td>\n",
       "      <td>Zen Headbutt</td>\n",
       "      <td>Psyshock</td>\n",
       "    </tr>\n",
       "    <tr>\n",
       "      <th>32</th>\n",
       "      <td>Absol</td>\n",
       "      <td>15.134</td>\n",
       "      <td>252.4</td>\n",
       "      <td>874.8</td>\n",
       "      <td>2526</td>\n",
       "      <td>Snarl</td>\n",
       "      <td>Return</td>\n",
       "    </tr>\n",
       "  </tbody>\n",
       "</table>\n",
       "</div>"
      ],
      "text/plain": [
       "                    Pokemon     DPS    TDO  Battle_Stat  Max_CP_Lv40  \\\n",
       "0                   Flabébé   7.460   99.2         41.2         1063   \n",
       "6   5th Anniversary Pikachu   8.366   81.2         47.5          938   \n",
       "14                Abomasnow  12.094  322.3        570.1         2362   \n",
       "24                     Abra  11.707   85.1        136.5         1342   \n",
       "32                    Absol  15.134  252.4        874.8         2526   \n",
       "\n",
       "        Fast_Move      Charged_Move  \n",
       "0       Vine Whip    Dazzling Gleam  \n",
       "6   Thunder Shock       Wild Charge  \n",
       "14     Razor Leaf  Weather Ball Ice  \n",
       "24   Zen Headbutt          Psyshock  \n",
       "32          Snarl            Return  "
      ]
     },
     "execution_count": 188,
     "metadata": {},
     "output_type": "execute_result"
    }
   ],
   "source": [
    "df_best_attack_set.head()"
   ]
  },
  {
   "cell_type": "code",
   "execution_count": 175,
   "id": "8954c1c5-9803-432e-bccf-ee26bda3c7eb",
   "metadata": {},
   "outputs": [
    {
     "data": {
      "text/html": [
       "<div>\n",
       "<style scoped>\n",
       "    .dataframe tbody tr th:only-of-type {\n",
       "        vertical-align: middle;\n",
       "    }\n",
       "\n",
       "    .dataframe tbody tr th {\n",
       "        vertical-align: top;\n",
       "    }\n",
       "\n",
       "    .dataframe thead th {\n",
       "        text-align: right;\n",
       "    }\n",
       "</style>\n",
       "<table border=\"1\" class=\"dataframe\">\n",
       "  <thead>\n",
       "    <tr style=\"text-align: right;\">\n",
       "      <th></th>\n",
       "      <th>#</th>\n",
       "      <th>Name</th>\n",
       "      <th>Type 1</th>\n",
       "      <th>Type 2</th>\n",
       "      <th>Total</th>\n",
       "      <th>HP</th>\n",
       "      <th>Attack</th>\n",
       "      <th>Defense</th>\n",
       "      <th>Sp. Atk</th>\n",
       "      <th>Sp. Def</th>\n",
       "      <th>Speed</th>\n",
       "      <th>Generation</th>\n",
       "      <th>Legendary</th>\n",
       "    </tr>\n",
       "  </thead>\n",
       "  <tbody>\n",
       "    <tr>\n",
       "      <th>0</th>\n",
       "      <td>1</td>\n",
       "      <td>Bulbasaur</td>\n",
       "      <td>Grass</td>\n",
       "      <td>Poison</td>\n",
       "      <td>318</td>\n",
       "      <td>45</td>\n",
       "      <td>49</td>\n",
       "      <td>49</td>\n",
       "      <td>65</td>\n",
       "      <td>65</td>\n",
       "      <td>45</td>\n",
       "      <td>1</td>\n",
       "      <td>False</td>\n",
       "    </tr>\n",
       "    <tr>\n",
       "      <th>1</th>\n",
       "      <td>2</td>\n",
       "      <td>Ivysaur</td>\n",
       "      <td>Grass</td>\n",
       "      <td>Poison</td>\n",
       "      <td>405</td>\n",
       "      <td>60</td>\n",
       "      <td>62</td>\n",
       "      <td>63</td>\n",
       "      <td>80</td>\n",
       "      <td>80</td>\n",
       "      <td>60</td>\n",
       "      <td>1</td>\n",
       "      <td>False</td>\n",
       "    </tr>\n",
       "    <tr>\n",
       "      <th>2</th>\n",
       "      <td>3</td>\n",
       "      <td>Venusaur</td>\n",
       "      <td>Grass</td>\n",
       "      <td>Poison</td>\n",
       "      <td>525</td>\n",
       "      <td>80</td>\n",
       "      <td>82</td>\n",
       "      <td>83</td>\n",
       "      <td>100</td>\n",
       "      <td>100</td>\n",
       "      <td>80</td>\n",
       "      <td>1</td>\n",
       "      <td>False</td>\n",
       "    </tr>\n",
       "    <tr>\n",
       "      <th>3</th>\n",
       "      <td>3</td>\n",
       "      <td>Mega Venusaur</td>\n",
       "      <td>Grass</td>\n",
       "      <td>Poison</td>\n",
       "      <td>625</td>\n",
       "      <td>80</td>\n",
       "      <td>100</td>\n",
       "      <td>123</td>\n",
       "      <td>122</td>\n",
       "      <td>120</td>\n",
       "      <td>80</td>\n",
       "      <td>1</td>\n",
       "      <td>False</td>\n",
       "    </tr>\n",
       "    <tr>\n",
       "      <th>4</th>\n",
       "      <td>4</td>\n",
       "      <td>Charmander</td>\n",
       "      <td>Fire</td>\n",
       "      <td>NaN</td>\n",
       "      <td>309</td>\n",
       "      <td>39</td>\n",
       "      <td>52</td>\n",
       "      <td>43</td>\n",
       "      <td>60</td>\n",
       "      <td>50</td>\n",
       "      <td>65</td>\n",
       "      <td>1</td>\n",
       "      <td>False</td>\n",
       "    </tr>\n",
       "  </tbody>\n",
       "</table>\n",
       "</div>"
      ],
      "text/plain": [
       "   #           Name Type 1  Type 2  Total  HP  Attack  Defense  Sp. Atk  \\\n",
       "0  1      Bulbasaur  Grass  Poison    318  45      49       49       65   \n",
       "1  2        Ivysaur  Grass  Poison    405  60      62       63       80   \n",
       "2  3       Venusaur  Grass  Poison    525  80      82       83      100   \n",
       "3  3  Mega Venusaur  Grass  Poison    625  80     100      123      122   \n",
       "4  4     Charmander   Fire     NaN    309  39      52       43       60   \n",
       "\n",
       "   Sp. Def  Speed  Generation  Legendary  \n",
       "0       65     45           1      False  \n",
       "1       80     60           1      False  \n",
       "2      100     80           1      False  \n",
       "3      120     80           1      False  \n",
       "4       50     65           1      False  "
      ]
     },
     "execution_count": 175,
     "metadata": {},
     "output_type": "execute_result"
    }
   ],
   "source": [
    "df1.head()"
   ]
  },
  {
   "cell_type": "code",
   "execution_count": 176,
   "id": "a1e78171-d865-4dd9-8fb0-12cfe21f8411",
   "metadata": {},
   "outputs": [],
   "source": [
    "df1.rename(columns = {'Name' : 'Pokemon'}, inplace = True)"
   ]
  },
  {
   "cell_type": "code",
   "execution_count": 190,
   "id": "297f68c2-41f9-486c-8f62-fe37c61fc4e2",
   "metadata": {},
   "outputs": [],
   "source": [
    "df_best_attack_set = df_best_attack_set.merge(df1, on='Pokemon', how='left')"
   ]
  },
  {
   "cell_type": "code",
   "execution_count": 191,
   "id": "0b72a0dd-05c0-4b03-9362-a7ef08ad8f05",
   "metadata": {},
   "outputs": [
    {
     "data": {
      "text/html": [
       "<div>\n",
       "<style scoped>\n",
       "    .dataframe tbody tr th:only-of-type {\n",
       "        vertical-align: middle;\n",
       "    }\n",
       "\n",
       "    .dataframe tbody tr th {\n",
       "        vertical-align: top;\n",
       "    }\n",
       "\n",
       "    .dataframe thead th {\n",
       "        text-align: right;\n",
       "    }\n",
       "</style>\n",
       "<table border=\"1\" class=\"dataframe\">\n",
       "  <thead>\n",
       "    <tr style=\"text-align: right;\">\n",
       "      <th></th>\n",
       "      <th>Pokemon</th>\n",
       "      <th>DPS</th>\n",
       "      <th>TDO</th>\n",
       "      <th>Battle_Stat</th>\n",
       "      <th>Max_CP_Lv40</th>\n",
       "      <th>Fast_Move</th>\n",
       "      <th>Charged_Move</th>\n",
       "      <th>#</th>\n",
       "      <th>Type 1</th>\n",
       "      <th>Type 2</th>\n",
       "      <th>Total</th>\n",
       "      <th>HP</th>\n",
       "      <th>Attack</th>\n",
       "      <th>Defense</th>\n",
       "      <th>Sp. Atk</th>\n",
       "      <th>Sp. Def</th>\n",
       "      <th>Speed</th>\n",
       "      <th>Generation</th>\n",
       "      <th>Legendary</th>\n",
       "    </tr>\n",
       "  </thead>\n",
       "  <tbody>\n",
       "    <tr>\n",
       "      <th>0</th>\n",
       "      <td>Flabébé</td>\n",
       "      <td>7.460</td>\n",
       "      <td>99.2</td>\n",
       "      <td>41.2</td>\n",
       "      <td>1063</td>\n",
       "      <td>Vine Whip</td>\n",
       "      <td>Dazzling Gleam</td>\n",
       "      <td>NaN</td>\n",
       "      <td>NaN</td>\n",
       "      <td>NaN</td>\n",
       "      <td>NaN</td>\n",
       "      <td>NaN</td>\n",
       "      <td>NaN</td>\n",
       "      <td>NaN</td>\n",
       "      <td>NaN</td>\n",
       "      <td>NaN</td>\n",
       "      <td>NaN</td>\n",
       "      <td>NaN</td>\n",
       "      <td>NaN</td>\n",
       "    </tr>\n",
       "    <tr>\n",
       "      <th>1</th>\n",
       "      <td>5th Anniversary Pikachu</td>\n",
       "      <td>8.366</td>\n",
       "      <td>81.2</td>\n",
       "      <td>47.5</td>\n",
       "      <td>938</td>\n",
       "      <td>Thunder Shock</td>\n",
       "      <td>Wild Charge</td>\n",
       "      <td>NaN</td>\n",
       "      <td>NaN</td>\n",
       "      <td>NaN</td>\n",
       "      <td>NaN</td>\n",
       "      <td>NaN</td>\n",
       "      <td>NaN</td>\n",
       "      <td>NaN</td>\n",
       "      <td>NaN</td>\n",
       "      <td>NaN</td>\n",
       "      <td>NaN</td>\n",
       "      <td>NaN</td>\n",
       "      <td>NaN</td>\n",
       "    </tr>\n",
       "    <tr>\n",
       "      <th>2</th>\n",
       "      <td>Abomasnow</td>\n",
       "      <td>12.094</td>\n",
       "      <td>322.3</td>\n",
       "      <td>570.1</td>\n",
       "      <td>2362</td>\n",
       "      <td>Razor Leaf</td>\n",
       "      <td>Weather Ball Ice</td>\n",
       "      <td>460.0</td>\n",
       "      <td>Grass</td>\n",
       "      <td>Ice</td>\n",
       "      <td>494.0</td>\n",
       "      <td>90.0</td>\n",
       "      <td>92.0</td>\n",
       "      <td>75.0</td>\n",
       "      <td>92.0</td>\n",
       "      <td>85.0</td>\n",
       "      <td>60.0</td>\n",
       "      <td>4.0</td>\n",
       "      <td>False</td>\n",
       "    </tr>\n",
       "    <tr>\n",
       "      <th>3</th>\n",
       "      <td>Abra</td>\n",
       "      <td>11.707</td>\n",
       "      <td>85.1</td>\n",
       "      <td>136.5</td>\n",
       "      <td>1342</td>\n",
       "      <td>Zen Headbutt</td>\n",
       "      <td>Psyshock</td>\n",
       "      <td>63.0</td>\n",
       "      <td>Psychic</td>\n",
       "      <td>NaN</td>\n",
       "      <td>310.0</td>\n",
       "      <td>25.0</td>\n",
       "      <td>20.0</td>\n",
       "      <td>15.0</td>\n",
       "      <td>105.0</td>\n",
       "      <td>55.0</td>\n",
       "      <td>90.0</td>\n",
       "      <td>1.0</td>\n",
       "      <td>False</td>\n",
       "    </tr>\n",
       "    <tr>\n",
       "      <th>4</th>\n",
       "      <td>Absol</td>\n",
       "      <td>15.134</td>\n",
       "      <td>252.4</td>\n",
       "      <td>874.8</td>\n",
       "      <td>2526</td>\n",
       "      <td>Snarl</td>\n",
       "      <td>Return</td>\n",
       "      <td>359.0</td>\n",
       "      <td>Dark</td>\n",
       "      <td>NaN</td>\n",
       "      <td>465.0</td>\n",
       "      <td>65.0</td>\n",
       "      <td>130.0</td>\n",
       "      <td>60.0</td>\n",
       "      <td>75.0</td>\n",
       "      <td>60.0</td>\n",
       "      <td>75.0</td>\n",
       "      <td>3.0</td>\n",
       "      <td>False</td>\n",
       "    </tr>\n",
       "  </tbody>\n",
       "</table>\n",
       "</div>"
      ],
      "text/plain": [
       "                   Pokemon     DPS    TDO  Battle_Stat  Max_CP_Lv40  \\\n",
       "0                  Flabébé   7.460   99.2         41.2         1063   \n",
       "1  5th Anniversary Pikachu   8.366   81.2         47.5          938   \n",
       "2                Abomasnow  12.094  322.3        570.1         2362   \n",
       "3                     Abra  11.707   85.1        136.5         1342   \n",
       "4                    Absol  15.134  252.4        874.8         2526   \n",
       "\n",
       "       Fast_Move      Charged_Move      #   Type 1 Type 2  Total    HP  \\\n",
       "0      Vine Whip    Dazzling Gleam    NaN      NaN    NaN    NaN   NaN   \n",
       "1  Thunder Shock       Wild Charge    NaN      NaN    NaN    NaN   NaN   \n",
       "2     Razor Leaf  Weather Ball Ice  460.0    Grass    Ice  494.0  90.0   \n",
       "3   Zen Headbutt          Psyshock   63.0  Psychic    NaN  310.0  25.0   \n",
       "4          Snarl            Return  359.0     Dark    NaN  465.0  65.0   \n",
       "\n",
       "   Attack  Defense  Sp. Atk  Sp. Def  Speed  Generation Legendary  \n",
       "0     NaN      NaN      NaN      NaN    NaN         NaN       NaN  \n",
       "1     NaN      NaN      NaN      NaN    NaN         NaN       NaN  \n",
       "2    92.0     75.0     92.0     85.0   60.0         4.0     False  \n",
       "3    20.0     15.0    105.0     55.0   90.0         1.0     False  \n",
       "4   130.0     60.0     75.0     60.0   75.0         3.0     False  "
      ]
     },
     "execution_count": 191,
     "metadata": {},
     "output_type": "execute_result"
    }
   ],
   "source": [
    "df_best_attack_set.head()"
   ]
  },
  {
   "cell_type": "code",
   "execution_count": 194,
   "id": "5d1dc72e-5d54-412a-bc9a-038794e0fcfa",
   "metadata": {},
   "outputs": [
    {
     "data": {
      "text/plain": [
       "(1317, 19)"
      ]
     },
     "execution_count": 194,
     "metadata": {},
     "output_type": "execute_result"
    }
   ],
   "source": [
    "df_best_attack_set.shape"
   ]
  },
  {
   "cell_type": "code",
   "execution_count": 192,
   "id": "db2cec8f-1d58-46ec-ae43-4a91b6c1aad2",
   "metadata": {},
   "outputs": [
    {
     "data": {
      "text/plain": [
       "Pokemon           0\n",
       "DPS               0\n",
       "TDO               0\n",
       "Battle_Stat       0\n",
       "Max_CP_Lv40       0\n",
       "Fast_Move         0\n",
       "Charged_Move      0\n",
       "#               509\n",
       "Type 1          509\n",
       "Type 2          899\n",
       "Total           509\n",
       "HP              509\n",
       "Attack          509\n",
       "Defense         509\n",
       "Sp. Atk         509\n",
       "Sp. Def         509\n",
       "Speed           509\n",
       "Generation      509\n",
       "Legendary       509\n",
       "dtype: int64"
      ]
     },
     "execution_count": 192,
     "metadata": {},
     "output_type": "execute_result"
    }
   ],
   "source": [
    "df_best_attack_set.isnull().sum()"
   ]
  },
  {
   "cell_type": "markdown",
   "id": "1b31a849-a0b8-41f7-9dea-2bc2716b7804",
   "metadata": {},
   "source": [
    "## How do we handle nulls?"
   ]
  },
  {
   "cell_type": "markdown",
   "id": "0bb66f5f-f592-4662-8d72-dd247c9ead95",
   "metadata": {},
   "source": [
    "### This is tricky because the nulls need to be filled with specific data for each pokemon. The null is occuring because of all the unique pokemon names in pokemon go. (ex. 5th Anniversary Pikachu) In the main series pokemon games there is just 'Pikachu'. "
   ]
  },
  {
   "cell_type": "markdown",
   "id": "410487ac-1c93-42c3-84c1-2b0b18a9cf01",
   "metadata": {},
   "source": [
    "### I'm first going to export it into a CSV to get a better look at all the data."
   ]
  },
  {
   "cell_type": "code",
   "execution_count": 195,
   "id": "b80fdaa9-b0c2-49f7-a7d6-b12b52da5c80",
   "metadata": {},
   "outputs": [],
   "source": [
    "df_best_attack_set.to_csv('Best_Attack_Set.csv')"
   ]
  },
  {
   "cell_type": "markdown",
   "id": "23d7473a-e33c-4ad1-9258-8ab71751d3e4",
   "metadata": {},
   "source": [
    "### It apears the CSV's used are outdated I will manually adjust nulls as many names and stats are wrong and dated. From there I will reimport an updated CSV."
   ]
  },
  {
   "cell_type": "markdown",
   "id": "4a9842d2-65d3-4212-8ccd-65a2a729fe09",
   "metadata": {},
   "source": [
    "## While I work on the updated CSV on the side lets look at some of the data from the main series games."
   ]
  },
  {
   "cell_type": "code",
   "execution_count": 196,
   "id": "e8ab852f-9e9a-4925-ad51-7c48212bb890",
   "metadata": {},
   "outputs": [
    {
     "data": {
      "text/html": [
       "<div>\n",
       "<style scoped>\n",
       "    .dataframe tbody tr th:only-of-type {\n",
       "        vertical-align: middle;\n",
       "    }\n",
       "\n",
       "    .dataframe tbody tr th {\n",
       "        vertical-align: top;\n",
       "    }\n",
       "\n",
       "    .dataframe thead th {\n",
       "        text-align: right;\n",
       "    }\n",
       "</style>\n",
       "<table border=\"1\" class=\"dataframe\">\n",
       "  <thead>\n",
       "    <tr style=\"text-align: right;\">\n",
       "      <th></th>\n",
       "      <th>#</th>\n",
       "      <th>Pokemon</th>\n",
       "      <th>Type 1</th>\n",
       "      <th>Type 2</th>\n",
       "      <th>Total</th>\n",
       "      <th>HP</th>\n",
       "      <th>Attack</th>\n",
       "      <th>Defense</th>\n",
       "      <th>Sp. Atk</th>\n",
       "      <th>Sp. Def</th>\n",
       "      <th>Speed</th>\n",
       "      <th>Generation</th>\n",
       "      <th>Legendary</th>\n",
       "    </tr>\n",
       "  </thead>\n",
       "  <tbody>\n",
       "    <tr>\n",
       "      <th>0</th>\n",
       "      <td>1</td>\n",
       "      <td>Bulbasaur</td>\n",
       "      <td>Grass</td>\n",
       "      <td>Poison</td>\n",
       "      <td>318</td>\n",
       "      <td>45</td>\n",
       "      <td>49</td>\n",
       "      <td>49</td>\n",
       "      <td>65</td>\n",
       "      <td>65</td>\n",
       "      <td>45</td>\n",
       "      <td>1</td>\n",
       "      <td>False</td>\n",
       "    </tr>\n",
       "    <tr>\n",
       "      <th>1</th>\n",
       "      <td>2</td>\n",
       "      <td>Ivysaur</td>\n",
       "      <td>Grass</td>\n",
       "      <td>Poison</td>\n",
       "      <td>405</td>\n",
       "      <td>60</td>\n",
       "      <td>62</td>\n",
       "      <td>63</td>\n",
       "      <td>80</td>\n",
       "      <td>80</td>\n",
       "      <td>60</td>\n",
       "      <td>1</td>\n",
       "      <td>False</td>\n",
       "    </tr>\n",
       "    <tr>\n",
       "      <th>2</th>\n",
       "      <td>3</td>\n",
       "      <td>Venusaur</td>\n",
       "      <td>Grass</td>\n",
       "      <td>Poison</td>\n",
       "      <td>525</td>\n",
       "      <td>80</td>\n",
       "      <td>82</td>\n",
       "      <td>83</td>\n",
       "      <td>100</td>\n",
       "      <td>100</td>\n",
       "      <td>80</td>\n",
       "      <td>1</td>\n",
       "      <td>False</td>\n",
       "    </tr>\n",
       "    <tr>\n",
       "      <th>3</th>\n",
       "      <td>3</td>\n",
       "      <td>Mega Venusaur</td>\n",
       "      <td>Grass</td>\n",
       "      <td>Poison</td>\n",
       "      <td>625</td>\n",
       "      <td>80</td>\n",
       "      <td>100</td>\n",
       "      <td>123</td>\n",
       "      <td>122</td>\n",
       "      <td>120</td>\n",
       "      <td>80</td>\n",
       "      <td>1</td>\n",
       "      <td>False</td>\n",
       "    </tr>\n",
       "    <tr>\n",
       "      <th>4</th>\n",
       "      <td>4</td>\n",
       "      <td>Charmander</td>\n",
       "      <td>Fire</td>\n",
       "      <td>NaN</td>\n",
       "      <td>309</td>\n",
       "      <td>39</td>\n",
       "      <td>52</td>\n",
       "      <td>43</td>\n",
       "      <td>60</td>\n",
       "      <td>50</td>\n",
       "      <td>65</td>\n",
       "      <td>1</td>\n",
       "      <td>False</td>\n",
       "    </tr>\n",
       "  </tbody>\n",
       "</table>\n",
       "</div>"
      ],
      "text/plain": [
       "   #        Pokemon Type 1  Type 2  Total  HP  Attack  Defense  Sp. Atk  \\\n",
       "0  1      Bulbasaur  Grass  Poison    318  45      49       49       65   \n",
       "1  2        Ivysaur  Grass  Poison    405  60      62       63       80   \n",
       "2  3       Venusaur  Grass  Poison    525  80      82       83      100   \n",
       "3  3  Mega Venusaur  Grass  Poison    625  80     100      123      122   \n",
       "4  4     Charmander   Fire     NaN    309  39      52       43       60   \n",
       "\n",
       "   Sp. Def  Speed  Generation  Legendary  \n",
       "0       65     45           1      False  \n",
       "1       80     60           1      False  \n",
       "2      100     80           1      False  \n",
       "3      120     80           1      False  \n",
       "4       50     65           1      False  "
      ]
     },
     "execution_count": 196,
     "metadata": {},
     "output_type": "execute_result"
    }
   ],
   "source": [
    "df1.head()"
   ]
  },
  {
   "cell_type": "code",
   "execution_count": 199,
   "id": "28834853-bdd1-4954-8fa7-a1d62f04618d",
   "metadata": {},
   "outputs": [],
   "source": [
    "avg_stats_by_primary_type = df1.groupby('Type 1').mean()"
   ]
  },
  {
   "cell_type": "code",
   "execution_count": 201,
   "id": "ba64d010-fc57-4174-b14b-4f6ce71553ac",
   "metadata": {},
   "outputs": [
    {
     "data": {
      "text/html": [
       "<div>\n",
       "<style scoped>\n",
       "    .dataframe tbody tr th:only-of-type {\n",
       "        vertical-align: middle;\n",
       "    }\n",
       "\n",
       "    .dataframe tbody tr th {\n",
       "        vertical-align: top;\n",
       "    }\n",
       "\n",
       "    .dataframe thead th {\n",
       "        text-align: right;\n",
       "    }\n",
       "</style>\n",
       "<table border=\"1\" class=\"dataframe\">\n",
       "  <thead>\n",
       "    <tr style=\"text-align: right;\">\n",
       "      <th></th>\n",
       "      <th>#</th>\n",
       "      <th>Total</th>\n",
       "      <th>HP</th>\n",
       "      <th>Attack</th>\n",
       "      <th>Defense</th>\n",
       "      <th>Sp. Atk</th>\n",
       "      <th>Sp. Def</th>\n",
       "      <th>Speed</th>\n",
       "      <th>Generation</th>\n",
       "      <th>Legendary</th>\n",
       "    </tr>\n",
       "    <tr>\n",
       "      <th>Type 1</th>\n",
       "      <th></th>\n",
       "      <th></th>\n",
       "      <th></th>\n",
       "      <th></th>\n",
       "      <th></th>\n",
       "      <th></th>\n",
       "      <th></th>\n",
       "      <th></th>\n",
       "      <th></th>\n",
       "      <th></th>\n",
       "    </tr>\n",
       "  </thead>\n",
       "  <tbody>\n",
       "    <tr>\n",
       "      <th>Bug</th>\n",
       "      <td>334.492754</td>\n",
       "      <td>378.927536</td>\n",
       "      <td>56.884058</td>\n",
       "      <td>70.971014</td>\n",
       "      <td>70.724638</td>\n",
       "      <td>53.869565</td>\n",
       "      <td>64.797101</td>\n",
       "      <td>61.681159</td>\n",
       "      <td>3.217391</td>\n",
       "      <td>0.000000</td>\n",
       "    </tr>\n",
       "    <tr>\n",
       "      <th>Dark</th>\n",
       "      <td>461.354839</td>\n",
       "      <td>445.741935</td>\n",
       "      <td>66.806452</td>\n",
       "      <td>88.387097</td>\n",
       "      <td>70.225806</td>\n",
       "      <td>74.645161</td>\n",
       "      <td>69.516129</td>\n",
       "      <td>76.161290</td>\n",
       "      <td>4.032258</td>\n",
       "      <td>0.064516</td>\n",
       "    </tr>\n",
       "    <tr>\n",
       "      <th>Dragon</th>\n",
       "      <td>474.375000</td>\n",
       "      <td>550.531250</td>\n",
       "      <td>83.312500</td>\n",
       "      <td>112.125000</td>\n",
       "      <td>86.375000</td>\n",
       "      <td>96.843750</td>\n",
       "      <td>88.843750</td>\n",
       "      <td>83.031250</td>\n",
       "      <td>3.875000</td>\n",
       "      <td>0.375000</td>\n",
       "    </tr>\n",
       "    <tr>\n",
       "      <th>Electric</th>\n",
       "      <td>363.500000</td>\n",
       "      <td>443.409091</td>\n",
       "      <td>59.795455</td>\n",
       "      <td>69.090909</td>\n",
       "      <td>66.295455</td>\n",
       "      <td>90.022727</td>\n",
       "      <td>73.704545</td>\n",
       "      <td>84.500000</td>\n",
       "      <td>3.272727</td>\n",
       "      <td>0.090909</td>\n",
       "    </tr>\n",
       "    <tr>\n",
       "      <th>Fairy</th>\n",
       "      <td>449.529412</td>\n",
       "      <td>413.176471</td>\n",
       "      <td>74.117647</td>\n",
       "      <td>61.529412</td>\n",
       "      <td>65.705882</td>\n",
       "      <td>78.529412</td>\n",
       "      <td>84.705882</td>\n",
       "      <td>48.588235</td>\n",
       "      <td>4.117647</td>\n",
       "      <td>0.058824</td>\n",
       "    </tr>\n",
       "  </tbody>\n",
       "</table>\n",
       "</div>"
      ],
      "text/plain": [
       "                   #       Total         HP      Attack    Defense    Sp. Atk  \\\n",
       "Type 1                                                                          \n",
       "Bug       334.492754  378.927536  56.884058   70.971014  70.724638  53.869565   \n",
       "Dark      461.354839  445.741935  66.806452   88.387097  70.225806  74.645161   \n",
       "Dragon    474.375000  550.531250  83.312500  112.125000  86.375000  96.843750   \n",
       "Electric  363.500000  443.409091  59.795455   69.090909  66.295455  90.022727   \n",
       "Fairy     449.529412  413.176471  74.117647   61.529412  65.705882  78.529412   \n",
       "\n",
       "            Sp. Def      Speed  Generation  Legendary  \n",
       "Type 1                                                 \n",
       "Bug       64.797101  61.681159    3.217391   0.000000  \n",
       "Dark      69.516129  76.161290    4.032258   0.064516  \n",
       "Dragon    88.843750  83.031250    3.875000   0.375000  \n",
       "Electric  73.704545  84.500000    3.272727   0.090909  \n",
       "Fairy     84.705882  48.588235    4.117647   0.058824  "
      ]
     },
     "execution_count": 201,
     "metadata": {},
     "output_type": "execute_result"
    }
   ],
   "source": [
    "avg_stats_by_primary_type.head()"
   ]
  },
  {
   "cell_type": "code",
   "execution_count": 222,
   "id": "4dd6d2a0-94d0-418c-8e35-0b2d5dd277b5",
   "metadata": {},
   "outputs": [],
   "source": [
    "avg_stats_by_primary_type_total = avg_stats_by_primary_type.sort_values('Total', ascending=False)"
   ]
  },
  {
   "cell_type": "code",
   "execution_count": 223,
   "id": "3266b225-e966-454a-a079-66958e0ab21a",
   "metadata": {},
   "outputs": [
    {
     "data": {
      "text/plain": [
       "<AxesSubplot:xlabel='Type 1', ylabel='Total'>"
      ]
     },
     "execution_count": 223,
     "metadata": {},
     "output_type": "execute_result"
    },
    {
     "data": {
      "image/png": "[encoded data removed]",
      "text/plain": [
       "<Figure size 1080x576 with 1 Axes>"
      ]
     },
     "metadata": {
      "needs_background": "light"
     },
     "output_type": "display_data"
    }
   ],
   "source": [
    "plt.figure(figsize=(15, 8))\n",
    "sns.barplot(x = avg_stats_by_primary_type_total.index, y = avg_stats_by_primary_type_total.Total)"
   ]
  },
  {
   "cell_type": "code",
   "execution_count": null,
   "id": "a49d6812-bc7b-4d37-bd5b-3a09460e5d49",
   "metadata": {},
   "outputs": [],
   "source": [
    "avg_stats_by_primary_type_attack = avg_stats_by_primary_type.sort_values('Attack', ascending=False)"
   ]
  },
  {
   "cell_type": "code",
   "execution_count": 221,
   "id": "e5bfa3a8-f73f-4f49-a6d0-dea3ec52ada0",
   "metadata": {},
   "outputs": [
    {
     "data": {
      "text/plain": [
       "<AxesSubplot:xlabel='Type 1', ylabel='Attack'>"
      ]
     },
     "execution_count": 221,
     "metadata": {},
     "output_type": "execute_result"
    },
    {
     "data": {
      "image/png": "[encoded data removed]",
      "text/plain": [
       "<Figure size 1080x576 with 1 Axes>"
      ]
     },
     "metadata": {
      "needs_background": "light"
     },
     "output_type": "display_data"
    }
   ],
   "source": [
    "plt.figure(figsize=(15, 8))\n",
    "sns.barplot(x = avg_stats_by_primary_type_attack.index, y = avg_stats_by_primary_type_attack.Attack)"
   ]
  },
  {
   "cell_type": "code",
   "execution_count": 224,
   "id": "cccd2bc2-d77f-4f7a-a417-f9912ef9d827",
   "metadata": {},
   "outputs": [],
   "source": [
    "avg_stats_by_primary_type_hp = avg_stats_by_primary_type.sort_values('HP', ascending=False)"
   ]
  },
  {
   "cell_type": "code",
   "execution_count": 225,
   "id": "b347cb76-9a1d-4856-b3a4-7bb847048caa",
   "metadata": {},
   "outputs": [
    {
     "data": {
      "text/plain": [
       "<AxesSubplot:xlabel='Type 1', ylabel='HP'>"
      ]
     },
     "execution_count": 225,
     "metadata": {},
     "output_type": "execute_result"
    },
    {
     "data": {
      "image/png": "[encoded data removed]",
      "text/plain": [
       "<Figure size 1080x576 with 1 Axes>"
      ]
     },
     "metadata": {
      "needs_background": "light"
     },
     "output_type": "display_data"
    }
   ],
   "source": [
    "plt.figure(figsize=(15, 8))\n",
    "sns.barplot(x = avg_stats_by_primary_type_hp.index, y = avg_stats_by_primary_type_hp.HP)"
   ]
  },
  {
   "cell_type": "code",
   "execution_count": 226,
   "id": "f0d92dd3-f83e-454f-9f42-57f42c2aa184",
   "metadata": {},
   "outputs": [],
   "source": [
    "avg_stats_by_primary_type_defense = avg_stats_by_primary_type.sort_values('Defense', ascending=False)"
   ]
  },
  {
   "cell_type": "code",
   "execution_count": 227,
   "id": "92b836e5-deaf-4e80-8d9c-0c01f6265c30",
   "metadata": {},
   "outputs": [
    {
     "data": {
      "text/plain": [
       "<AxesSubplot:xlabel='Type 1', ylabel='Defense'>"
      ]
     },
     "execution_count": 227,
     "metadata": {},
     "output_type": "execute_result"
    },
    {
     "data": {
      "image/png": "[encoded data removed]",
      "text/plain": [
       "<Figure size 1080x576 with 1 Axes>"
      ]
     },
     "metadata": {
      "needs_background": "light"
     },
     "output_type": "display_data"
    }
   ],
   "source": [
    "plt.figure(figsize=(15, 8))\n",
    "sns.barplot(x = avg_stats_by_primary_type_defense.index, y = avg_stats_by_primary_type_defense.Defense)"
   ]
  },
  {
   "cell_type": "code",
   "execution_count": 228,
   "id": "ee0dbc22-fc39-4c34-a034-1ba6cdb279f8",
   "metadata": {},
   "outputs": [],
   "source": [
    "avg_stats_by_primary_type_sp_attack = avg_stats_by_primary_type.sort_values('Sp. Atk', ascending=False)"
   ]
  },
  {
   "cell_type": "code",
   "execution_count": 229,
   "id": "df8d9940-91ae-46cb-91ad-b6dca94f78a5",
   "metadata": {},
   "outputs": [
    {
     "data": {
      "text/plain": [
       "<AxesSubplot:xlabel='Type 1', ylabel='Sp. Atk'>"
      ]
     },
     "execution_count": 229,
     "metadata": {},
     "output_type": "execute_result"
    },
    {
     "data": {
      "image/png": "[encoded data removed]",
      "text/plain": [
       "<Figure size 1080x576 with 1 Axes>"
      ]
     },
     "metadata": {
      "needs_background": "light"
     },
     "output_type": "display_data"
    }
   ],
   "source": [
    "plt.figure(figsize=(15, 8))\n",
    "sns.barplot(x = avg_stats_by_primary_type_sp_attack.index, y = avg_stats_by_primary_type_sp_attack['Sp. Atk'])"
   ]
  },
  {
   "cell_type": "code",
   "execution_count": 230,
   "id": "48535401-40b0-4c0c-94be-d5b1a6cf7436",
   "metadata": {},
   "outputs": [],
   "source": [
    "avg_stats_by_primary_type_sp_defense = avg_stats_by_primary_type.sort_values('Sp. Def', ascending=False)"
   ]
  },
  {
   "cell_type": "code",
   "execution_count": 231,
   "id": "47a249c4-29dc-490b-aebf-7c13b6b63985",
   "metadata": {},
   "outputs": [
    {
     "data": {
      "text/plain": [
       "<AxesSubplot:xlabel='Type 1', ylabel='Sp. Def'>"
      ]
     },
     "execution_count": 231,
     "metadata": {},
     "output_type": "execute_result"
    },
    {
     "data": {
      "image/png": "[encoded data removed]",
      "text/plain": [
       "<Figure size 1080x576 with 1 Axes>"
      ]
     },
     "metadata": {
      "needs_background": "light"
     },
     "output_type": "display_data"
    }
   ],
   "source": [
    "plt.figure(figsize=(15, 8))\n",
    "sns.barplot(x = avg_stats_by_primary_type_sp_defense.index, y = avg_stats_by_primary_type_sp_defense['Sp. Def'])"
   ]
  },
  {
   "cell_type": "code",
   "execution_count": 232,
   "id": "150f3fbc-bc54-4e51-94a4-7449bb5b7882",
   "metadata": {},
   "outputs": [],
   "source": [
    "avg_stats_by_primary_type_speed = avg_stats_by_primary_type.sort_values('Speed', ascending=False)"
   ]
  },
  {
   "cell_type": "code",
   "execution_count": 233,
   "id": "49e5683a-a32e-4cb7-9ba2-816ce3f09645",
   "metadata": {},
   "outputs": [
    {
     "data": {
      "text/plain": [
       "<AxesSubplot:xlabel='Type 1', ylabel='Speed'>"
      ]
     },
     "execution_count": 233,
     "metadata": {},
     "output_type": "execute_result"
    },
    {
     "data": {
      "image/png": "[encoded data removed]",
      "text/plain": [
       "<Figure size 1080x576 with 1 Axes>"
      ]
     },
     "metadata": {
      "needs_background": "light"
     },
     "output_type": "display_data"
    }
   ],
   "source": [
    "plt.figure(figsize=(15, 8))\n",
    "sns.barplot(x = avg_stats_by_primary_type_speed.index, y = avg_stats_by_primary_type_speed.Speed)"
   ]
  },
  {
   "cell_type": "code",
   "execution_count": null,
   "id": "16003be6-7b87-4c99-b678-5e0a5ad6f5c9",
   "metadata": {},
   "outputs": [],
   "source": []
  }
 ],
 "metadata": {
  "kernelspec": {
   "display_name": "Python 3 (ipykernel)",
   "language": "python",
   "name": "python3"
  },
  "language_info": {
   "codemirror_mode": {
    "name": "ipython",
    "version": 3
   },
   "file_extension": ".py",
   "mimetype": "text/x-python",
   "name": "python",
   "nbconvert_exporter": "python",
   "pygments_lexer": "ipython3",
   "version": "3.9.12"
  }
 },
 "nbformat": 4,
 "nbformat_minor": 5
}
