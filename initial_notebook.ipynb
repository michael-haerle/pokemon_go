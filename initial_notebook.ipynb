{
 "cells": [
  {
   "cell_type": "markdown",
   "id": "8abfba91-41db-4e40-8dc5-e94c6edfceae",
   "metadata": {},
   "source": [
    "# Exploratory Analysis on Pokemon GO and the Main Series Games\n"
   ]
  },
  {
   "cell_type": "code",
   "execution_count": 277,
   "id": "ade9cfb8-1d65-46ab-b04b-bdb12a174cad",
   "metadata": {},
   "outputs": [],
   "source": [
    "import pandas as pd\n",
    "import matplotlib.pyplot as plt\n",
    "import seaborn as sns\n",
    "from scipy.stats import spearmanr\n"
   ]
  },
  {
   "cell_type": "code",
   "execution_count": 69,
   "id": "77cb466f-28f5-407a-8dc3-6851ceaa9fc3",
   "metadata": {},
   "outputs": [],
   "source": [
    "df = pd.read_csv('comprehensive_dps.csv')"
   ]
  },
  {
   "cell_type": "code",
   "execution_count": 70,
   "id": "b6da59d1-f552-4133-a97e-780ecef62008",
   "metadata": {},
   "outputs": [
    {
     "data": {
      "text/html": [
       "<div>\n",
       "<style scoped>\n",
       "    .dataframe tbody tr th:only-of-type {\n",
       "        vertical-align: middle;\n",
       "    }\n",
       "\n",
       "    .dataframe tbody tr th {\n",
       "        vertical-align: top;\n",
       "    }\n",
       "\n",
       "    .dataframe thead th {\n",
       "        text-align: right;\n",
       "    }\n",
       "</style>\n",
       "<table border=\"1\" class=\"dataframe\">\n",
       "  <thead>\n",
       "    <tr style=\"text-align: right;\">\n",
       "      <th></th>\n",
       "      <th>Pokemon</th>\n",
       "      <th>Fast Move</th>\n",
       "      <th>Charged Move</th>\n",
       "      <th>DPS</th>\n",
       "      <th>TDO</th>\n",
       "      <th>DPS^3*TDO</th>\n",
       "      <th>CP</th>\n",
       "    </tr>\n",
       "  </thead>\n",
       "  <tbody>\n",
       "    <tr>\n",
       "      <th>0</th>\n",
       "      <td>Mega Mewtwo Y</td>\n",
       "      <td>Confusion</td>\n",
       "      <td>Psystrike</td>\n",
       "      <td>26.355</td>\n",
       "      <td>999.7</td>\n",
       "      <td>18299.9</td>\n",
       "      <td>5610</td>\n",
       "    </tr>\n",
       "    <tr>\n",
       "      <th>1</th>\n",
       "      <td>Mega Mewtwo Y</td>\n",
       "      <td>Psycho Cut</td>\n",
       "      <td>Psystrike</td>\n",
       "      <td>26.207</td>\n",
       "      <td>994.1</td>\n",
       "      <td>17893.2</td>\n",
       "      <td>5610</td>\n",
       "    </tr>\n",
       "    <tr>\n",
       "      <th>2</th>\n",
       "      <td>Mega Mewtwo X</td>\n",
       "      <td>Confusion</td>\n",
       "      <td>Psystrike</td>\n",
       "      <td>25.513</td>\n",
       "      <td>967.8</td>\n",
       "      <td>16073.1</td>\n",
       "      <td>5429</td>\n",
       "    </tr>\n",
       "    <tr>\n",
       "      <th>3</th>\n",
       "      <td>Shadow Mewtwo</td>\n",
       "      <td>Confusion</td>\n",
       "      <td>Psystrike</td>\n",
       "      <td>25.400</td>\n",
       "      <td>662.7</td>\n",
       "      <td>10859.6</td>\n",
       "      <td>4178</td>\n",
       "    </tr>\n",
       "    <tr>\n",
       "      <th>4</th>\n",
       "      <td>Mega Mewtwo X</td>\n",
       "      <td>Psycho Cut</td>\n",
       "      <td>Psystrike</td>\n",
       "      <td>25.380</td>\n",
       "      <td>962.8</td>\n",
       "      <td>15739.4</td>\n",
       "      <td>5429</td>\n",
       "    </tr>\n",
       "  </tbody>\n",
       "</table>\n",
       "</div>"
      ],
      "text/plain": [
       "         Pokemon   Fast Move Charged Move     DPS    TDO  DPS^3*TDO    CP\n",
       "0  Mega Mewtwo Y   Confusion    Psystrike  26.355  999.7    18299.9  5610\n",
       "1  Mega Mewtwo Y  Psycho Cut    Psystrike  26.207  994.1    17893.2  5610\n",
       "2  Mega Mewtwo X   Confusion    Psystrike  25.513  967.8    16073.1  5429\n",
       "3  Shadow Mewtwo   Confusion    Psystrike  25.400  662.7    10859.6  4178\n",
       "4  Mega Mewtwo X  Psycho Cut    Psystrike  25.380  962.8    15739.4  5429"
      ]
     },
     "execution_count": 70,
     "metadata": {},
     "output_type": "execute_result"
    }
   ],
   "source": [
    "df.head()"
   ]
  },
  {
   "cell_type": "code",
   "execution_count": 71,
   "id": "8fbd15cb-13d8-4f85-bc42-ff6772499e70",
   "metadata": {},
   "outputs": [],
   "source": [
    "df.rename(columns = {'DPS^3*TDO' : 'Battle_Stat'}, inplace = True)"
   ]
  },
  {
   "cell_type": "code",
   "execution_count": 72,
   "id": "474d205d-1c3e-4916-a9fd-19fb70c8d3a8",
   "metadata": {},
   "outputs": [
    {
     "data": {
      "text/html": [
       "<div>\n",
       "<style scoped>\n",
       "    .dataframe tbody tr th:only-of-type {\n",
       "        vertical-align: middle;\n",
       "    }\n",
       "\n",
       "    .dataframe tbody tr th {\n",
       "        vertical-align: top;\n",
       "    }\n",
       "\n",
       "    .dataframe thead th {\n",
       "        text-align: right;\n",
       "    }\n",
       "</style>\n",
       "<table border=\"1\" class=\"dataframe\">\n",
       "  <thead>\n",
       "    <tr style=\"text-align: right;\">\n",
       "      <th></th>\n",
       "      <th>Pokemon</th>\n",
       "      <th>Fast Move</th>\n",
       "      <th>Charged Move</th>\n",
       "      <th>DPS</th>\n",
       "      <th>TDO</th>\n",
       "      <th>Battle_Stat</th>\n",
       "      <th>CP</th>\n",
       "    </tr>\n",
       "  </thead>\n",
       "  <tbody>\n",
       "    <tr>\n",
       "      <th>0</th>\n",
       "      <td>Mega Mewtwo Y</td>\n",
       "      <td>Confusion</td>\n",
       "      <td>Psystrike</td>\n",
       "      <td>26.355</td>\n",
       "      <td>999.7</td>\n",
       "      <td>18299.9</td>\n",
       "      <td>5610</td>\n",
       "    </tr>\n",
       "    <tr>\n",
       "      <th>1</th>\n",
       "      <td>Mega Mewtwo Y</td>\n",
       "      <td>Psycho Cut</td>\n",
       "      <td>Psystrike</td>\n",
       "      <td>26.207</td>\n",
       "      <td>994.1</td>\n",
       "      <td>17893.2</td>\n",
       "      <td>5610</td>\n",
       "    </tr>\n",
       "    <tr>\n",
       "      <th>2</th>\n",
       "      <td>Mega Mewtwo X</td>\n",
       "      <td>Confusion</td>\n",
       "      <td>Psystrike</td>\n",
       "      <td>25.513</td>\n",
       "      <td>967.8</td>\n",
       "      <td>16073.1</td>\n",
       "      <td>5429</td>\n",
       "    </tr>\n",
       "    <tr>\n",
       "      <th>3</th>\n",
       "      <td>Shadow Mewtwo</td>\n",
       "      <td>Confusion</td>\n",
       "      <td>Psystrike</td>\n",
       "      <td>25.400</td>\n",
       "      <td>662.7</td>\n",
       "      <td>10859.6</td>\n",
       "      <td>4178</td>\n",
       "    </tr>\n",
       "    <tr>\n",
       "      <th>4</th>\n",
       "      <td>Mega Mewtwo X</td>\n",
       "      <td>Psycho Cut</td>\n",
       "      <td>Psystrike</td>\n",
       "      <td>25.380</td>\n",
       "      <td>962.8</td>\n",
       "      <td>15739.4</td>\n",
       "      <td>5429</td>\n",
       "    </tr>\n",
       "  </tbody>\n",
       "</table>\n",
       "</div>"
      ],
      "text/plain": [
       "         Pokemon   Fast Move Charged Move     DPS    TDO  Battle_Stat    CP\n",
       "0  Mega Mewtwo Y   Confusion    Psystrike  26.355  999.7      18299.9  5610\n",
       "1  Mega Mewtwo Y  Psycho Cut    Psystrike  26.207  994.1      17893.2  5610\n",
       "2  Mega Mewtwo X   Confusion    Psystrike  25.513  967.8      16073.1  5429\n",
       "3  Shadow Mewtwo   Confusion    Psystrike  25.400  662.7      10859.6  4178\n",
       "4  Mega Mewtwo X  Psycho Cut    Psystrike  25.380  962.8      15739.4  5429"
      ]
     },
     "execution_count": 72,
     "metadata": {},
     "output_type": "execute_result"
    }
   ],
   "source": [
    "df.head()"
   ]
  },
  {
   "cell_type": "code",
   "execution_count": 73,
   "id": "989ca434-4071-4902-b3dc-5e7fa07c3d18",
   "metadata": {},
   "outputs": [
    {
     "data": {
      "text/plain": [
       "Pokemon         0\n",
       "Fast Move       0\n",
       "Charged Move    0\n",
       "DPS             0\n",
       "TDO             0\n",
       "Battle_Stat     0\n",
       "CP              0\n",
       "dtype: int64"
      ]
     },
     "execution_count": 73,
     "metadata": {},
     "output_type": "execute_result"
    }
   ],
   "source": [
    "df.isnull().sum()"
   ]
  },
  {
   "cell_type": "code",
   "execution_count": 235,
   "id": "adc596e0-2f4d-40ba-890a-64ca56f693b9",
   "metadata": {},
   "outputs": [
    {
     "name": "stdout",
     "output_type": "stream",
     "text": [
      "<class 'pandas.core.frame.DataFrame'>\n",
      "RangeIndex: 13761 entries, 0 to 13760\n",
      "Data columns (total 7 columns):\n",
      " #   Column        Non-Null Count  Dtype  \n",
      "---  ------        --------------  -----  \n",
      " 0   Pokemon       13761 non-null  object \n",
      " 1   Fast Move     13761 non-null  object \n",
      " 2   Charged Move  13761 non-null  object \n",
      " 3   DPS           13761 non-null  float64\n",
      " 4   TDO           13761 non-null  float64\n",
      " 5   Battle_Stat   13761 non-null  float64\n",
      " 6   CP            13761 non-null  int64  \n",
      "dtypes: float64(3), int64(1), object(3)\n",
      "memory usage: 752.7+ KB\n"
     ]
    }
   ],
   "source": [
    "df.info()"
   ]
  },
  {
   "cell_type": "code",
   "execution_count": 177,
   "id": "96600b3b-3cfe-4789-8a91-45224155aeb8",
   "metadata": {},
   "outputs": [],
   "source": [
    "df_best_attack_set = df.groupby('Pokemon').max('Battle_Stat')"
   ]
  },
  {
   "cell_type": "code",
   "execution_count": 178,
   "id": "08ef9635-aab4-4d12-a1a1-2ae5b871b151",
   "metadata": {},
   "outputs": [
    {
     "data": {
      "text/html": [
       "<div>\n",
       "<style scoped>\n",
       "    .dataframe tbody tr th:only-of-type {\n",
       "        vertical-align: middle;\n",
       "    }\n",
       "\n",
       "    .dataframe tbody tr th {\n",
       "        vertical-align: top;\n",
       "    }\n",
       "\n",
       "    .dataframe thead th {\n",
       "        text-align: right;\n",
       "    }\n",
       "</style>\n",
       "<table border=\"1\" class=\"dataframe\">\n",
       "  <thead>\n",
       "    <tr style=\"text-align: right;\">\n",
       "      <th></th>\n",
       "      <th>DPS</th>\n",
       "      <th>TDO</th>\n",
       "      <th>Battle_Stat</th>\n",
       "      <th>CP</th>\n",
       "    </tr>\n",
       "    <tr>\n",
       "      <th>Pokemon</th>\n",
       "      <th></th>\n",
       "      <th></th>\n",
       "      <th></th>\n",
       "      <th></th>\n",
       "    </tr>\n",
       "  </thead>\n",
       "  <tbody>\n",
       "    <tr>\n",
       "      <th>Flabébé</th>\n",
       "      <td>7.460</td>\n",
       "      <td>99.2</td>\n",
       "      <td>41.2</td>\n",
       "      <td>1063</td>\n",
       "    </tr>\n",
       "    <tr>\n",
       "      <th>5th Anniversary Pikachu</th>\n",
       "      <td>8.366</td>\n",
       "      <td>81.2</td>\n",
       "      <td>47.5</td>\n",
       "      <td>938</td>\n",
       "    </tr>\n",
       "    <tr>\n",
       "      <th>Abomasnow</th>\n",
       "      <td>12.094</td>\n",
       "      <td>322.3</td>\n",
       "      <td>570.1</td>\n",
       "      <td>2362</td>\n",
       "    </tr>\n",
       "    <tr>\n",
       "      <th>Abra</th>\n",
       "      <td>11.707</td>\n",
       "      <td>85.1</td>\n",
       "      <td>136.5</td>\n",
       "      <td>1342</td>\n",
       "    </tr>\n",
       "    <tr>\n",
       "      <th>Absol</th>\n",
       "      <td>15.134</td>\n",
       "      <td>252.4</td>\n",
       "      <td>874.8</td>\n",
       "      <td>2526</td>\n",
       "    </tr>\n",
       "  </tbody>\n",
       "</table>\n",
       "</div>"
      ],
      "text/plain": [
       "                            DPS    TDO  Battle_Stat    CP\n",
       "Pokemon                                                  \n",
       " Flabébé                  7.460   99.2         41.2  1063\n",
       "5th Anniversary Pikachu   8.366   81.2         47.5   938\n",
       "Abomasnow                12.094  322.3        570.1  2362\n",
       "Abra                     11.707   85.1        136.5  1342\n",
       "Absol                    15.134  252.4        874.8  2526"
      ]
     },
     "execution_count": 178,
     "metadata": {},
     "output_type": "execute_result"
    }
   ],
   "source": [
    "df_best_attack_set.head()"
   ]
  },
  {
   "cell_type": "code",
   "execution_count": 179,
   "id": "0a68f06c-ecd9-486a-a7ad-ac6587f0610e",
   "metadata": {},
   "outputs": [],
   "source": [
    "df_best_attack_set = df_best_attack_set.merge(df, on='Pokemon', how='left')"
   ]
  },
  {
   "cell_type": "code",
   "execution_count": 180,
   "id": "2497e9c6-f11f-4252-8ff5-1ceb5212c2e7",
   "metadata": {},
   "outputs": [
    {
     "data": {
      "text/html": [
       "<div>\n",
       "<style scoped>\n",
       "    .dataframe tbody tr th:only-of-type {\n",
       "        vertical-align: middle;\n",
       "    }\n",
       "\n",
       "    .dataframe tbody tr th {\n",
       "        vertical-align: top;\n",
       "    }\n",
       "\n",
       "    .dataframe thead th {\n",
       "        text-align: right;\n",
       "    }\n",
       "</style>\n",
       "<table border=\"1\" class=\"dataframe\">\n",
       "  <thead>\n",
       "    <tr style=\"text-align: right;\">\n",
       "      <th></th>\n",
       "      <th>Pokemon</th>\n",
       "      <th>DPS_x</th>\n",
       "      <th>TDO_x</th>\n",
       "      <th>Battle_Stat_x</th>\n",
       "      <th>CP_x</th>\n",
       "      <th>Fast Move</th>\n",
       "      <th>Charged Move</th>\n",
       "      <th>DPS_y</th>\n",
       "      <th>TDO_y</th>\n",
       "      <th>Battle_Stat_y</th>\n",
       "      <th>CP_y</th>\n",
       "    </tr>\n",
       "  </thead>\n",
       "  <tbody>\n",
       "    <tr>\n",
       "      <th>0</th>\n",
       "      <td>Flabébé</td>\n",
       "      <td>7.46</td>\n",
       "      <td>99.2</td>\n",
       "      <td>41.2</td>\n",
       "      <td>1063</td>\n",
       "      <td>Vine Whip</td>\n",
       "      <td>Dazzling Gleam</td>\n",
       "      <td>7.460</td>\n",
       "      <td>99.2</td>\n",
       "      <td>41.2</td>\n",
       "      <td>1063</td>\n",
       "    </tr>\n",
       "    <tr>\n",
       "      <th>1</th>\n",
       "      <td>Flabébé</td>\n",
       "      <td>7.46</td>\n",
       "      <td>99.2</td>\n",
       "      <td>41.2</td>\n",
       "      <td>1063</td>\n",
       "      <td>Tackle</td>\n",
       "      <td>Dazzling Gleam</td>\n",
       "      <td>7.300</td>\n",
       "      <td>97.1</td>\n",
       "      <td>37.8</td>\n",
       "      <td>1063</td>\n",
       "    </tr>\n",
       "    <tr>\n",
       "      <th>2</th>\n",
       "      <td>Flabébé</td>\n",
       "      <td>7.46</td>\n",
       "      <td>99.2</td>\n",
       "      <td>41.2</td>\n",
       "      <td>1063</td>\n",
       "      <td>Vine Whip</td>\n",
       "      <td>Psychic</td>\n",
       "      <td>6.797</td>\n",
       "      <td>90.4</td>\n",
       "      <td>28.4</td>\n",
       "      <td>1063</td>\n",
       "    </tr>\n",
       "    <tr>\n",
       "      <th>3</th>\n",
       "      <td>Flabébé</td>\n",
       "      <td>7.46</td>\n",
       "      <td>99.2</td>\n",
       "      <td>41.2</td>\n",
       "      <td>1063</td>\n",
       "      <td>Tackle</td>\n",
       "      <td>Psychic</td>\n",
       "      <td>6.613</td>\n",
       "      <td>88.0</td>\n",
       "      <td>25.4</td>\n",
       "      <td>1063</td>\n",
       "    </tr>\n",
       "    <tr>\n",
       "      <th>4</th>\n",
       "      <td>Flabébé</td>\n",
       "      <td>7.46</td>\n",
       "      <td>99.2</td>\n",
       "      <td>41.2</td>\n",
       "      <td>1063</td>\n",
       "      <td>Vine Whip</td>\n",
       "      <td>Petal Blizzard</td>\n",
       "      <td>6.071</td>\n",
       "      <td>80.8</td>\n",
       "      <td>18.1</td>\n",
       "      <td>1063</td>\n",
       "    </tr>\n",
       "  </tbody>\n",
       "</table>\n",
       "</div>"
      ],
      "text/plain": [
       "    Pokemon  DPS_x  TDO_x  Battle_Stat_x  CP_x  Fast Move    Charged Move  \\\n",
       "0   Flabébé   7.46   99.2           41.2  1063  Vine Whip  Dazzling Gleam   \n",
       "1   Flabébé   7.46   99.2           41.2  1063     Tackle  Dazzling Gleam   \n",
       "2   Flabébé   7.46   99.2           41.2  1063  Vine Whip         Psychic   \n",
       "3   Flabébé   7.46   99.2           41.2  1063     Tackle         Psychic   \n",
       "4   Flabébé   7.46   99.2           41.2  1063  Vine Whip  Petal Blizzard   \n",
       "\n",
       "   DPS_y  TDO_y  Battle_Stat_y  CP_y  \n",
       "0  7.460   99.2           41.2  1063  \n",
       "1  7.300   97.1           37.8  1063  \n",
       "2  6.797   90.4           28.4  1063  \n",
       "3  6.613   88.0           25.4  1063  \n",
       "4  6.071   80.8           18.1  1063  "
      ]
     },
     "execution_count": 180,
     "metadata": {},
     "output_type": "execute_result"
    }
   ],
   "source": [
    "df_best_attack_set.head()"
   ]
  },
  {
   "cell_type": "code",
   "execution_count": 181,
   "id": "80da8e18-01f1-4130-be87-096a7d7873c9",
   "metadata": {},
   "outputs": [],
   "source": [
    "df_best_attack_set = df_best_attack_set[(df_best_attack_set['Battle_Stat_x'] == df_best_attack_set['Battle_Stat_y'])]\n"
   ]
  },
  {
   "cell_type": "code",
   "execution_count": 182,
   "id": "ca53ff81-0430-4306-a973-7de69af01aca",
   "metadata": {},
   "outputs": [
    {
     "data": {
      "text/html": [
       "<div>\n",
       "<style scoped>\n",
       "    .dataframe tbody tr th:only-of-type {\n",
       "        vertical-align: middle;\n",
       "    }\n",
       "\n",
       "    .dataframe tbody tr th {\n",
       "        vertical-align: top;\n",
       "    }\n",
       "\n",
       "    .dataframe thead th {\n",
       "        text-align: right;\n",
       "    }\n",
       "</style>\n",
       "<table border=\"1\" class=\"dataframe\">\n",
       "  <thead>\n",
       "    <tr style=\"text-align: right;\">\n",
       "      <th></th>\n",
       "      <th>Pokemon</th>\n",
       "      <th>DPS_x</th>\n",
       "      <th>TDO_x</th>\n",
       "      <th>Battle_Stat_x</th>\n",
       "      <th>CP_x</th>\n",
       "      <th>Fast Move</th>\n",
       "      <th>Charged Move</th>\n",
       "      <th>DPS_y</th>\n",
       "      <th>TDO_y</th>\n",
       "      <th>Battle_Stat_y</th>\n",
       "      <th>CP_y</th>\n",
       "    </tr>\n",
       "  </thead>\n",
       "  <tbody>\n",
       "    <tr>\n",
       "      <th>0</th>\n",
       "      <td>Flabébé</td>\n",
       "      <td>7.460</td>\n",
       "      <td>99.2</td>\n",
       "      <td>41.2</td>\n",
       "      <td>1063</td>\n",
       "      <td>Vine Whip</td>\n",
       "      <td>Dazzling Gleam</td>\n",
       "      <td>7.460</td>\n",
       "      <td>99.2</td>\n",
       "      <td>41.2</td>\n",
       "      <td>1063</td>\n",
       "    </tr>\n",
       "    <tr>\n",
       "      <th>6</th>\n",
       "      <td>5th Anniversary Pikachu</td>\n",
       "      <td>8.366</td>\n",
       "      <td>81.2</td>\n",
       "      <td>47.5</td>\n",
       "      <td>938</td>\n",
       "      <td>Thunder Shock</td>\n",
       "      <td>Wild Charge</td>\n",
       "      <td>8.366</td>\n",
       "      <td>81.2</td>\n",
       "      <td>47.5</td>\n",
       "      <td>938</td>\n",
       "    </tr>\n",
       "    <tr>\n",
       "      <th>14</th>\n",
       "      <td>Abomasnow</td>\n",
       "      <td>12.094</td>\n",
       "      <td>322.3</td>\n",
       "      <td>570.1</td>\n",
       "      <td>2362</td>\n",
       "      <td>Razor Leaf</td>\n",
       "      <td>Weather Ball Ice</td>\n",
       "      <td>12.094</td>\n",
       "      <td>322.3</td>\n",
       "      <td>570.1</td>\n",
       "      <td>2362</td>\n",
       "    </tr>\n",
       "    <tr>\n",
       "      <th>24</th>\n",
       "      <td>Abra</td>\n",
       "      <td>11.707</td>\n",
       "      <td>85.1</td>\n",
       "      <td>136.5</td>\n",
       "      <td>1342</td>\n",
       "      <td>Zen Headbutt</td>\n",
       "      <td>Psyshock</td>\n",
       "      <td>11.707</td>\n",
       "      <td>85.1</td>\n",
       "      <td>136.5</td>\n",
       "      <td>1342</td>\n",
       "    </tr>\n",
       "    <tr>\n",
       "      <th>32</th>\n",
       "      <td>Absol</td>\n",
       "      <td>15.134</td>\n",
       "      <td>252.4</td>\n",
       "      <td>874.8</td>\n",
       "      <td>2526</td>\n",
       "      <td>Snarl</td>\n",
       "      <td>Return</td>\n",
       "      <td>15.134</td>\n",
       "      <td>252.4</td>\n",
       "      <td>874.8</td>\n",
       "      <td>2526</td>\n",
       "    </tr>\n",
       "  </tbody>\n",
       "</table>\n",
       "</div>"
      ],
      "text/plain": [
       "                    Pokemon   DPS_x  TDO_x  Battle_Stat_x  CP_x  \\\n",
       "0                   Flabébé   7.460   99.2           41.2  1063   \n",
       "6   5th Anniversary Pikachu   8.366   81.2           47.5   938   \n",
       "14                Abomasnow  12.094  322.3          570.1  2362   \n",
       "24                     Abra  11.707   85.1          136.5  1342   \n",
       "32                    Absol  15.134  252.4          874.8  2526   \n",
       "\n",
       "        Fast Move      Charged Move   DPS_y  TDO_y  Battle_Stat_y  CP_y  \n",
       "0       Vine Whip    Dazzling Gleam   7.460   99.2           41.2  1063  \n",
       "6   Thunder Shock       Wild Charge   8.366   81.2           47.5   938  \n",
       "14     Razor Leaf  Weather Ball Ice  12.094  322.3          570.1  2362  \n",
       "24   Zen Headbutt          Psyshock  11.707   85.1          136.5  1342  \n",
       "32          Snarl            Return  15.134  252.4          874.8  2526  "
      ]
     },
     "execution_count": 182,
     "metadata": {},
     "output_type": "execute_result"
    }
   ],
   "source": [
    "df_best_attack_set.head()"
   ]
  },
  {
   "cell_type": "code",
   "execution_count": 183,
   "id": "53422b83-e121-4be5-878a-0900e3857c0a",
   "metadata": {},
   "outputs": [],
   "source": [
    "df_best_attack_set.drop(columns = ['DPS_y', 'TDO_y', 'Battle_Stat_y', 'CP_y'], inplace = True)"
   ]
  },
  {
   "cell_type": "code",
   "execution_count": 184,
   "id": "67ad7e82-b682-4312-b102-9adc00a1aa1c",
   "metadata": {},
   "outputs": [],
   "source": [
    "df_best_attack_set.rename(columns = {'DPS_x' : 'DPS', 'TDO_x' : 'TDO',\n",
    "                                     'Battle_Stat_x' : 'Battle_Stat', 'CP_x' : 'Max_CP_Lv40',\n",
    "                                    'Fast Move' : 'Fast_Move', 'Charged Move' : 'Charged_Move'}, inplace = True)"
   ]
  },
  {
   "cell_type": "code",
   "execution_count": 185,
   "id": "1d842fb7-f647-4085-bffe-6e4de9dde8a4",
   "metadata": {},
   "outputs": [
    {
     "data": {
      "text/html": [
       "<div>\n",
       "<style scoped>\n",
       "    .dataframe tbody tr th:only-of-type {\n",
       "        vertical-align: middle;\n",
       "    }\n",
       "\n",
       "    .dataframe tbody tr th {\n",
       "        vertical-align: top;\n",
       "    }\n",
       "\n",
       "    .dataframe thead th {\n",
       "        text-align: right;\n",
       "    }\n",
       "</style>\n",
       "<table border=\"1\" class=\"dataframe\">\n",
       "  <thead>\n",
       "    <tr style=\"text-align: right;\">\n",
       "      <th></th>\n",
       "      <th>Pokemon</th>\n",
       "      <th>DPS</th>\n",
       "      <th>TDO</th>\n",
       "      <th>Battle_Stat</th>\n",
       "      <th>Max_CP_Lv40</th>\n",
       "      <th>Fast_Move</th>\n",
       "      <th>Charged_Move</th>\n",
       "    </tr>\n",
       "  </thead>\n",
       "  <tbody>\n",
       "    <tr>\n",
       "      <th>0</th>\n",
       "      <td>Flabébé</td>\n",
       "      <td>7.460</td>\n",
       "      <td>99.2</td>\n",
       "      <td>41.2</td>\n",
       "      <td>1063</td>\n",
       "      <td>Vine Whip</td>\n",
       "      <td>Dazzling Gleam</td>\n",
       "    </tr>\n",
       "    <tr>\n",
       "      <th>6</th>\n",
       "      <td>5th Anniversary Pikachu</td>\n",
       "      <td>8.366</td>\n",
       "      <td>81.2</td>\n",
       "      <td>47.5</td>\n",
       "      <td>938</td>\n",
       "      <td>Thunder Shock</td>\n",
       "      <td>Wild Charge</td>\n",
       "    </tr>\n",
       "    <tr>\n",
       "      <th>14</th>\n",
       "      <td>Abomasnow</td>\n",
       "      <td>12.094</td>\n",
       "      <td>322.3</td>\n",
       "      <td>570.1</td>\n",
       "      <td>2362</td>\n",
       "      <td>Razor Leaf</td>\n",
       "      <td>Weather Ball Ice</td>\n",
       "    </tr>\n",
       "    <tr>\n",
       "      <th>24</th>\n",
       "      <td>Abra</td>\n",
       "      <td>11.707</td>\n",
       "      <td>85.1</td>\n",
       "      <td>136.5</td>\n",
       "      <td>1342</td>\n",
       "      <td>Zen Headbutt</td>\n",
       "      <td>Psyshock</td>\n",
       "    </tr>\n",
       "    <tr>\n",
       "      <th>32</th>\n",
       "      <td>Absol</td>\n",
       "      <td>15.134</td>\n",
       "      <td>252.4</td>\n",
       "      <td>874.8</td>\n",
       "      <td>2526</td>\n",
       "      <td>Snarl</td>\n",
       "      <td>Return</td>\n",
       "    </tr>\n",
       "  </tbody>\n",
       "</table>\n",
       "</div>"
      ],
      "text/plain": [
       "                    Pokemon     DPS    TDO  Battle_Stat  Max_CP_Lv40  \\\n",
       "0                   Flabébé   7.460   99.2         41.2         1063   \n",
       "6   5th Anniversary Pikachu   8.366   81.2         47.5          938   \n",
       "14                Abomasnow  12.094  322.3        570.1         2362   \n",
       "24                     Abra  11.707   85.1        136.5         1342   \n",
       "32                    Absol  15.134  252.4        874.8         2526   \n",
       "\n",
       "        Fast_Move      Charged_Move  \n",
       "0       Vine Whip    Dazzling Gleam  \n",
       "6   Thunder Shock       Wild Charge  \n",
       "14     Razor Leaf  Weather Ball Ice  \n",
       "24   Zen Headbutt          Psyshock  \n",
       "32          Snarl            Return  "
      ]
     },
     "execution_count": 185,
     "metadata": {},
     "output_type": "execute_result"
    }
   ],
   "source": [
    "df_best_attack_set.head()"
   ]
  },
  {
   "cell_type": "code",
   "execution_count": 186,
   "id": "b3d1dc43-f229-47d4-aa52-596926d03f6e",
   "metadata": {},
   "outputs": [
    {
     "data": {
      "text/html": [
       "<div>\n",
       "<style scoped>\n",
       "    .dataframe tbody tr th:only-of-type {\n",
       "        vertical-align: middle;\n",
       "    }\n",
       "\n",
       "    .dataframe tbody tr th {\n",
       "        vertical-align: top;\n",
       "    }\n",
       "\n",
       "    .dataframe thead th {\n",
       "        text-align: right;\n",
       "    }\n",
       "</style>\n",
       "<table border=\"1\" class=\"dataframe\">\n",
       "  <thead>\n",
       "    <tr style=\"text-align: right;\">\n",
       "      <th></th>\n",
       "      <th>Pokemon</th>\n",
       "      <th>DPS</th>\n",
       "      <th>TDO</th>\n",
       "      <th>Battle_Stat</th>\n",
       "      <th>Max_CP_Lv40</th>\n",
       "      <th>Fast_Move</th>\n",
       "      <th>Charged_Move</th>\n",
       "    </tr>\n",
       "  </thead>\n",
       "  <tbody>\n",
       "  </tbody>\n",
       "</table>\n",
       "</div>"
      ],
      "text/plain": [
       "Empty DataFrame\n",
       "Columns: [Pokemon, DPS, TDO, Battle_Stat, Max_CP_Lv40, Fast_Move, Charged_Move]\n",
       "Index: []"
      ]
     },
     "execution_count": 186,
     "metadata": {},
     "output_type": "execute_result"
    }
   ],
   "source": [
    "df_best_attack_set[df_best_attack_set.Pokemon == 'Pumpkaboo']"
   ]
  },
  {
   "cell_type": "code",
   "execution_count": 187,
   "id": "f6a8ae03-a026-4719-978b-fed2608a34ef",
   "metadata": {},
   "outputs": [],
   "source": [
    "def base_function(df_best_attack_set):\n",
    "    x = input('Type a Pokemons name to find its best moveset.')\n",
    "    result = df_best_attack_set[df_best_attack_set.Pokemon == x]\n",
    "    print(result)\n",
    "\n",
    "\n",
    "def find_best_moveset(df_best_attack_set):\n",
    "    x = input('Type a Pokemons name to find its best moveset.')\n",
    "    result = df_best_attack_set[df_best_attack_set.Pokemon == x]\n",
    "    print(result)\n",
    "    loop = 'active'\n",
    "    while loop == 'active':\n",
    "        choice = input('Would you like to check another Pokemon? Y/N')\n",
    "        if choice == 'Y':\n",
    "            base_function(df_best_attack_set)\n",
    "        elif choice == 'N':\n",
    "            print('Thank you have a great day!')\n",
    "            break\n",
    "        else:\n",
    "            print('Please enter Y or N')"
   ]
  },
  {
   "cell_type": "code",
   "execution_count": 62,
   "id": "c15decdb-4b9d-4e8d-a0b3-5c81123382c6",
   "metadata": {},
   "outputs": [
    {
     "name": "stdin",
     "output_type": "stream",
     "text": [
      "Type a Pokemons name to find its best moveset. Pumpkaboo - Super Size\n"
     ]
    },
    {
     "name": "stdout",
     "output_type": "stream",
     "text": [
      "                     Pokemon    DPS    TDO  Battle_Stat    CP   Fast_Move  \\\n",
      "7446  Pumpkaboo - Super Size  8.569  134.9         84.9  1250  Razor Leaf   \n",
      "\n",
      "     Charged_Move  \n",
      "7446   Grass Knot  \n"
     ]
    },
    {
     "name": "stdin",
     "output_type": "stream",
     "text": [
      "Would you like to check another Pokemon? Y/N Y\n",
      "Type a Pokemons name to find its best moveset. Tyrunt\n"
     ]
    },
    {
     "name": "stdout",
     "output_type": "stream",
     "text": [
      "      Pokemon     DPS    TDO  Battle_Stat    CP    Fast_Move Charged_Move\n",
      "13048  Tyrunt  10.603  168.6        200.9  1635  Dragon Tail  Dragon Claw\n"
     ]
    },
    {
     "name": "stdin",
     "output_type": "stream",
     "text": [
      "Would you like to check another Pokemon? Y/N Y\n",
      "Type a Pokemons name to find its best moveset. Furret\n"
     ]
    },
    {
     "name": "stdout",
     "output_type": "stream",
     "text": [
      "     Pokemon    DPS    TDO  Battle_Stat    CP     Fast_Move Charged_Move\n",
      "2625  Furret  9.834  203.5        193.5  1758  Quick Attack   Hyper Beam\n"
     ]
    },
    {
     "name": "stdin",
     "output_type": "stream",
     "text": [
      "Would you like to check another Pokemon? Y/N N\n"
     ]
    },
    {
     "name": "stdout",
     "output_type": "stream",
     "text": [
      "Thank you have a great day!\n"
     ]
    }
   ],
   "source": [
    "find_best_moveset(df_best_attack_set)"
   ]
  },
  {
   "cell_type": "markdown",
   "id": "f0e7bd39-245c-4f91-abf4-464a1c34a0b3",
   "metadata": {},
   "source": [
    "## What pokemon has the highest and lowest cp?"
   ]
  },
  {
   "cell_type": "code",
   "execution_count": 86,
   "id": "a4335ca5-bce7-4754-ac01-f4bdf40f6f73",
   "metadata": {},
   "outputs": [
    {
     "data": {
      "text/html": [
       "<div>\n",
       "<style scoped>\n",
       "    .dataframe tbody tr th:only-of-type {\n",
       "        vertical-align: middle;\n",
       "    }\n",
       "\n",
       "    .dataframe tbody tr th {\n",
       "        vertical-align: top;\n",
       "    }\n",
       "\n",
       "    .dataframe thead th {\n",
       "        text-align: right;\n",
       "    }\n",
       "</style>\n",
       "<table border=\"1\" class=\"dataframe\">\n",
       "  <thead>\n",
       "    <tr style=\"text-align: right;\">\n",
       "      <th></th>\n",
       "      <th>Pokemon</th>\n",
       "      <th>DPS</th>\n",
       "      <th>TDO</th>\n",
       "      <th>Battle_Stat</th>\n",
       "      <th>Max_CP_Lv40</th>\n",
       "      <th>Fast_Move</th>\n",
       "      <th>Charged_Move</th>\n",
       "    </tr>\n",
       "  </thead>\n",
       "  <tbody>\n",
       "    <tr>\n",
       "      <th>2330</th>\n",
       "      <td>Eternamax Eternatus</td>\n",
       "      <td>14.836</td>\n",
       "      <td>2500.2</td>\n",
       "      <td>8164.7</td>\n",
       "      <td>8187</td>\n",
       "      <td>Dragon Tail</td>\n",
       "      <td>Hyper Beam</td>\n",
       "    </tr>\n",
       "  </tbody>\n",
       "</table>\n",
       "</div>"
      ],
      "text/plain": [
       "                  Pokemon     DPS     TDO  Battle_Stat  Max_CP_Lv40  \\\n",
       "2330  Eternamax Eternatus  14.836  2500.2       8164.7         8187   \n",
       "\n",
       "        Fast_Move Charged_Move  \n",
       "2330  Dragon Tail   Hyper Beam  "
      ]
     },
     "execution_count": 86,
     "metadata": {},
     "output_type": "execute_result"
    }
   ],
   "source": [
    "df_best_attack_set[df_best_attack_set.Max_CP_Lv40 == df_best_attack_set.Max_CP_Lv40.max()]"
   ]
  },
  {
   "cell_type": "code",
   "execution_count": 87,
   "id": "a4ed6dd1-a1dd-4a06-a760-884cb54d2439",
   "metadata": {},
   "outputs": [
    {
     "data": {
      "text/html": [
       "<div>\n",
       "<style scoped>\n",
       "    .dataframe tbody tr th:only-of-type {\n",
       "        vertical-align: middle;\n",
       "    }\n",
       "\n",
       "    .dataframe tbody tr th {\n",
       "        vertical-align: top;\n",
       "    }\n",
       "\n",
       "    .dataframe thead th {\n",
       "        text-align: right;\n",
       "    }\n",
       "</style>\n",
       "<table border=\"1\" class=\"dataframe\">\n",
       "  <thead>\n",
       "    <tr style=\"text-align: right;\">\n",
       "      <th></th>\n",
       "      <th>Pokemon</th>\n",
       "      <th>DPS</th>\n",
       "      <th>TDO</th>\n",
       "      <th>Battle_Stat</th>\n",
       "      <th>Max_CP_Lv40</th>\n",
       "      <th>Fast_Move</th>\n",
       "      <th>Charged_Move</th>\n",
       "    </tr>\n",
       "  </thead>\n",
       "  <tbody>\n",
       "    <tr>\n",
       "      <th>2411</th>\n",
       "      <td>Feebas</td>\n",
       "      <td>2.333</td>\n",
       "      <td>16.2</td>\n",
       "      <td>0.2</td>\n",
       "      <td>274</td>\n",
       "      <td>Tackle</td>\n",
       "      <td>Mirror Coat</td>\n",
       "    </tr>\n",
       "    <tr>\n",
       "      <th>4791</th>\n",
       "      <td>Magikarp</td>\n",
       "      <td>1.630</td>\n",
       "      <td>11.3</td>\n",
       "      <td>0.0</td>\n",
       "      <td>274</td>\n",
       "      <td>Splash</td>\n",
       "      <td>Return</td>\n",
       "    </tr>\n",
       "    <tr>\n",
       "      <th>4792</th>\n",
       "      <td>Magikarp</td>\n",
       "      <td>1.630</td>\n",
       "      <td>11.3</td>\n",
       "      <td>0.0</td>\n",
       "      <td>274</td>\n",
       "      <td>Splash</td>\n",
       "      <td>Struggle</td>\n",
       "    </tr>\n",
       "    <tr>\n",
       "      <th>9794</th>\n",
       "      <td>Shadow Magikarp</td>\n",
       "      <td>1.336</td>\n",
       "      <td>7.7</td>\n",
       "      <td>0.0</td>\n",
       "      <td>274</td>\n",
       "      <td>Splash</td>\n",
       "      <td>Struggle</td>\n",
       "    </tr>\n",
       "    <tr>\n",
       "      <th>9795</th>\n",
       "      <td>Shadow Magikarp</td>\n",
       "      <td>1.336</td>\n",
       "      <td>7.7</td>\n",
       "      <td>0.0</td>\n",
       "      <td>274</td>\n",
       "      <td>Splash</td>\n",
       "      <td>Frustration</td>\n",
       "    </tr>\n",
       "  </tbody>\n",
       "</table>\n",
       "</div>"
      ],
      "text/plain": [
       "              Pokemon    DPS   TDO  Battle_Stat  Max_CP_Lv40 Fast_Move  \\\n",
       "2411           Feebas  2.333  16.2          0.2          274    Tackle   \n",
       "4791         Magikarp  1.630  11.3          0.0          274    Splash   \n",
       "4792         Magikarp  1.630  11.3          0.0          274    Splash   \n",
       "9794  Shadow Magikarp  1.336   7.7          0.0          274    Splash   \n",
       "9795  Shadow Magikarp  1.336   7.7          0.0          274    Splash   \n",
       "\n",
       "     Charged_Move  \n",
       "2411  Mirror Coat  \n",
       "4791       Return  \n",
       "4792     Struggle  \n",
       "9794     Struggle  \n",
       "9795  Frustration  "
      ]
     },
     "execution_count": 87,
     "metadata": {},
     "output_type": "execute_result"
    }
   ],
   "source": [
    "df_best_attack_set[df_best_attack_set.Max_CP_Lv40 == df_best_attack_set.Max_CP_Lv40.min()]"
   ]
  },
  {
   "cell_type": "markdown",
   "id": "62b9824d-3db9-4e98-bbe0-1fbb48ef54ba",
   "metadata": {},
   "source": [
    "## Lets look at the S tier pokemon for attackers as determined by general consensus"
   ]
  },
  {
   "cell_type": "code",
   "execution_count": 114,
   "id": "12590671-1863-4994-b651-3432b874c6b3",
   "metadata": {},
   "outputs": [],
   "source": [
    "S_tier_attackers = ['Kartana', 'Terrakion', 'Shadow Metagross', 'Shadow Machamp',\n",
    "                    'Shadow Mewtwo', 'Shadow Salamence', 'Shadow Dragonite', 'Mega Latios',\n",
    "                    'Mega Gengar', 'Mega Charizard Y', 'Shadow Mamoswine']"
   ]
  },
  {
   "cell_type": "code",
   "execution_count": 153,
   "id": "50bf3948-3b60-4494-ad73-fdc86a7c11e9",
   "metadata": {
    "tags": []
   },
   "outputs": [
    {
     "name": "stdout",
     "output_type": "stream",
     "text": [
      "      Pokemon     DPS    TDO  Battle_Stat  Max_CP_Lv40   Fast_Move  \\\n",
      "4092  Kartana  20.374  428.9       3627.7         3677  Razor Leaf   \n",
      "\n",
      "     Charged_Move  \n",
      "4092   Leaf Blade  \n",
      "         Pokemon     DPS    TDO  Battle_Stat  Max_CP_Lv40    Fast_Move  \\\n",
      "12588  Terrakion  19.461  626.2       4615.8         3698  Double Kick   \n",
      "\n",
      "       Charged_Move  \n",
      "12588  Sacred Sword  \n",
      "               Pokemon     DPS    TDO  Battle_Stat  Max_CP_Lv40     Fast_Move  \\\n",
      "9954  Shadow Metagross  21.763  627.0       6462.6         3791  Bullet Punch   \n",
      "\n",
      "     Charged_Move  \n",
      "9954  Meteor Mash  \n",
      "             Pokemon    DPS    TDO  Battle_Stat  Max_CP_Lv40 Fast_Move  \\\n",
      "9745  Shadow Machamp  19.65  439.0       3330.3         3056   Counter   \n",
      "\n",
      "       Charged_Move  \n",
      "9745  Dynamic Punch  \n",
      "            Pokemon   DPS    TDO  Battle_Stat  Max_CP_Lv40  Fast_Move  \\\n",
      "9972  Shadow Mewtwo  25.4  662.7      10859.6         4178  Confusion   \n",
      "\n",
      "     Charged_Move  \n",
      "9972    Psystrike  \n",
      "                Pokemon     DPS    TDO  Battle_Stat  Max_CP_Lv40    Fast_Move  \\\n",
      "10739  Shadow Salamence  22.163  541.8       5898.5         3749  Dragon Tail   \n",
      "\n",
      "      Charged_Move  \n",
      "10739      Outrage  \n",
      "               Pokemon     DPS    TDO  Battle_Stat  Max_CP_Lv40    Fast_Move  \\\n",
      "8729  Shadow Dragonite  20.854  575.4       5218.5         3792  Dragon Tail   \n",
      "\n",
      "     Charged_Move  \n",
      "8729      Outrage  \n",
      "          Pokemon     DPS    TDO  Battle_Stat  Max_CP_Lv40      Fast_Move  \\\n",
      "5387  Mega Latios  20.704  829.4       7360.9         5007  Dragon Breath   \n",
      "\n",
      "     Charged_Move  \n",
      "5387      Psychic  \n",
      "          Pokemon     DPS    TDO  Battle_Stat  Max_CP_Lv40 Fast_Move  \\\n",
      "5283  Mega Gengar  23.173  643.5       8008.2         4336      Lick   \n",
      "\n",
      "     Charged_Move  \n",
      "5283  Shadow Ball  \n",
      "               Pokemon     DPS    TDO  Battle_Stat  Max_CP_Lv40  Fast_Move  \\\n",
      "5207  Mega Charizard Y  21.764  758.0       7814.8         4455  Fire Spin   \n",
      "\n",
      "     Charged_Move  \n",
      "5207   Blast Burn  \n",
      "               Pokemon     DPS    TDO  Battle_Stat  Max_CP_Lv40 Fast_Move  \\\n",
      "9855  Shadow Mamoswine  20.377  487.6       4125.6         3328  Mud Slap   \n",
      "\n",
      "     Charged_Move  \n",
      "9855    Avalanche  \n"
     ]
    }
   ],
   "source": [
    "for x in S_tier_attackers:\n",
    "    result = df_best_attack_set[df_best_attack_set.Pokemon == x]\n",
    "    print(result)"
   ]
  },
  {
   "cell_type": "code",
   "execution_count": 161,
   "id": "35eb530a-b437-4ce7-8b77-4bd7b5a83dc1",
   "metadata": {},
   "outputs": [],
   "source": [
    "df_S_tier_attackers = df_best_attack_set[(df_best_attack_set.Pokemon == 'Kartana') | (df_best_attack_set.Pokemon == 'Terrakion') |\n",
    "                  (df_best_attack_set.Pokemon == 'Shadow Metagross') | (df_best_attack_set.Pokemon == 'Shadow Machamp') |\n",
    "                  (df_best_attack_set.Pokemon == 'Shadow Mewtwo') | (df_best_attack_set.Pokemon == 'Shadow Salamence') |\n",
    "                  (df_best_attack_set.Pokemon == 'Shadow Dragonite') | (df_best_attack_set.Pokemon == 'Mega Latios') |\n",
    "                  (df_best_attack_set.Pokemon == 'Shadow Gengar') | (df_best_attack_set.Pokemon == 'Mega Charizard Y') |\n",
    "                  (df_best_attack_set.Pokemon == 'Shadow Mamoswine')]"
   ]
  },
  {
   "cell_type": "code",
   "execution_count": 162,
   "id": "34640a67-964b-4f38-b00b-4fe1094fa83d",
   "metadata": {},
   "outputs": [
    {
     "data": {
      "text/html": [
       "<div>\n",
       "<style scoped>\n",
       "    .dataframe tbody tr th:only-of-type {\n",
       "        vertical-align: middle;\n",
       "    }\n",
       "\n",
       "    .dataframe tbody tr th {\n",
       "        vertical-align: top;\n",
       "    }\n",
       "\n",
       "    .dataframe thead th {\n",
       "        text-align: right;\n",
       "    }\n",
       "</style>\n",
       "<table border=\"1\" class=\"dataframe\">\n",
       "  <thead>\n",
       "    <tr style=\"text-align: right;\">\n",
       "      <th></th>\n",
       "      <th>Pokemon</th>\n",
       "      <th>DPS</th>\n",
       "      <th>TDO</th>\n",
       "      <th>Battle_Stat</th>\n",
       "      <th>Max_CP_Lv40</th>\n",
       "      <th>Fast_Move</th>\n",
       "      <th>Charged_Move</th>\n",
       "    </tr>\n",
       "  </thead>\n",
       "  <tbody>\n",
       "    <tr>\n",
       "      <th>4092</th>\n",
       "      <td>Kartana</td>\n",
       "      <td>20.374</td>\n",
       "      <td>428.9</td>\n",
       "      <td>3627.7</td>\n",
       "      <td>3677</td>\n",
       "      <td>Razor Leaf</td>\n",
       "      <td>Leaf Blade</td>\n",
       "    </tr>\n",
       "    <tr>\n",
       "      <th>5207</th>\n",
       "      <td>Mega Charizard Y</td>\n",
       "      <td>21.764</td>\n",
       "      <td>758.0</td>\n",
       "      <td>7814.8</td>\n",
       "      <td>4455</td>\n",
       "      <td>Fire Spin</td>\n",
       "      <td>Blast Burn</td>\n",
       "    </tr>\n",
       "    <tr>\n",
       "      <th>5387</th>\n",
       "      <td>Mega Latios</td>\n",
       "      <td>20.704</td>\n",
       "      <td>829.4</td>\n",
       "      <td>7360.9</td>\n",
       "      <td>5007</td>\n",
       "      <td>Dragon Breath</td>\n",
       "      <td>Psychic</td>\n",
       "    </tr>\n",
       "    <tr>\n",
       "      <th>8729</th>\n",
       "      <td>Shadow Dragonite</td>\n",
       "      <td>20.854</td>\n",
       "      <td>575.4</td>\n",
       "      <td>5218.5</td>\n",
       "      <td>3792</td>\n",
       "      <td>Dragon Tail</td>\n",
       "      <td>Outrage</td>\n",
       "    </tr>\n",
       "    <tr>\n",
       "      <th>9745</th>\n",
       "      <td>Shadow Machamp</td>\n",
       "      <td>19.650</td>\n",
       "      <td>439.0</td>\n",
       "      <td>3330.3</td>\n",
       "      <td>3056</td>\n",
       "      <td>Counter</td>\n",
       "      <td>Dynamic Punch</td>\n",
       "    </tr>\n",
       "    <tr>\n",
       "      <th>9855</th>\n",
       "      <td>Shadow Mamoswine</td>\n",
       "      <td>20.377</td>\n",
       "      <td>487.6</td>\n",
       "      <td>4125.6</td>\n",
       "      <td>3328</td>\n",
       "      <td>Mud Slap</td>\n",
       "      <td>Avalanche</td>\n",
       "    </tr>\n",
       "    <tr>\n",
       "      <th>9954</th>\n",
       "      <td>Shadow Metagross</td>\n",
       "      <td>21.763</td>\n",
       "      <td>627.0</td>\n",
       "      <td>6462.6</td>\n",
       "      <td>3791</td>\n",
       "      <td>Bullet Punch</td>\n",
       "      <td>Meteor Mash</td>\n",
       "    </tr>\n",
       "    <tr>\n",
       "      <th>9972</th>\n",
       "      <td>Shadow Mewtwo</td>\n",
       "      <td>25.400</td>\n",
       "      <td>662.7</td>\n",
       "      <td>10859.6</td>\n",
       "      <td>4178</td>\n",
       "      <td>Confusion</td>\n",
       "      <td>Psystrike</td>\n",
       "    </tr>\n",
       "    <tr>\n",
       "      <th>10739</th>\n",
       "      <td>Shadow Salamence</td>\n",
       "      <td>22.163</td>\n",
       "      <td>541.8</td>\n",
       "      <td>5898.5</td>\n",
       "      <td>3749</td>\n",
       "      <td>Dragon Tail</td>\n",
       "      <td>Outrage</td>\n",
       "    </tr>\n",
       "    <tr>\n",
       "      <th>12588</th>\n",
       "      <td>Terrakion</td>\n",
       "      <td>19.461</td>\n",
       "      <td>626.2</td>\n",
       "      <td>4615.8</td>\n",
       "      <td>3698</td>\n",
       "      <td>Double Kick</td>\n",
       "      <td>Sacred Sword</td>\n",
       "    </tr>\n",
       "  </tbody>\n",
       "</table>\n",
       "</div>"
      ],
      "text/plain": [
       "                Pokemon     DPS    TDO  Battle_Stat  Max_CP_Lv40  \\\n",
       "4092            Kartana  20.374  428.9       3627.7         3677   \n",
       "5207   Mega Charizard Y  21.764  758.0       7814.8         4455   \n",
       "5387        Mega Latios  20.704  829.4       7360.9         5007   \n",
       "8729   Shadow Dragonite  20.854  575.4       5218.5         3792   \n",
       "9745     Shadow Machamp  19.650  439.0       3330.3         3056   \n",
       "9855   Shadow Mamoswine  20.377  487.6       4125.6         3328   \n",
       "9954   Shadow Metagross  21.763  627.0       6462.6         3791   \n",
       "9972      Shadow Mewtwo  25.400  662.7      10859.6         4178   \n",
       "10739  Shadow Salamence  22.163  541.8       5898.5         3749   \n",
       "12588         Terrakion  19.461  626.2       4615.8         3698   \n",
       "\n",
       "           Fast_Move   Charged_Move  \n",
       "4092      Razor Leaf     Leaf Blade  \n",
       "5207       Fire Spin     Blast Burn  \n",
       "5387   Dragon Breath        Psychic  \n",
       "8729     Dragon Tail        Outrage  \n",
       "9745         Counter  Dynamic Punch  \n",
       "9855        Mud Slap      Avalanche  \n",
       "9954    Bullet Punch    Meteor Mash  \n",
       "9972       Confusion      Psystrike  \n",
       "10739    Dragon Tail        Outrage  \n",
       "12588    Double Kick   Sacred Sword  "
      ]
     },
     "execution_count": 162,
     "metadata": {},
     "output_type": "execute_result"
    }
   ],
   "source": [
    "df_S_tier_attackers"
   ]
  },
  {
   "cell_type": "code",
   "execution_count": 163,
   "id": "3e665851-d0ac-41c8-b534-ea7feb08e0e8",
   "metadata": {},
   "outputs": [
    {
     "data": {
      "text/html": [
       "<div>\n",
       "<style scoped>\n",
       "    .dataframe tbody tr th:only-of-type {\n",
       "        vertical-align: middle;\n",
       "    }\n",
       "\n",
       "    .dataframe tbody tr th {\n",
       "        vertical-align: top;\n",
       "    }\n",
       "\n",
       "    .dataframe thead th {\n",
       "        text-align: right;\n",
       "    }\n",
       "</style>\n",
       "<table border=\"1\" class=\"dataframe\">\n",
       "  <thead>\n",
       "    <tr style=\"text-align: right;\">\n",
       "      <th></th>\n",
       "      <th>Pokemon</th>\n",
       "      <th>DPS</th>\n",
       "      <th>TDO</th>\n",
       "      <th>Battle_Stat</th>\n",
       "      <th>Max_CP_Lv40</th>\n",
       "      <th>Fast_Move</th>\n",
       "      <th>Charged_Move</th>\n",
       "    </tr>\n",
       "  </thead>\n",
       "  <tbody>\n",
       "    <tr>\n",
       "      <th>9972</th>\n",
       "      <td>Shadow Mewtwo</td>\n",
       "      <td>25.4</td>\n",
       "      <td>662.7</td>\n",
       "      <td>10859.6</td>\n",
       "      <td>4178</td>\n",
       "      <td>Confusion</td>\n",
       "      <td>Psystrike</td>\n",
       "    </tr>\n",
       "  </tbody>\n",
       "</table>\n",
       "</div>"
      ],
      "text/plain": [
       "            Pokemon   DPS    TDO  Battle_Stat  Max_CP_Lv40  Fast_Move  \\\n",
       "9972  Shadow Mewtwo  25.4  662.7      10859.6         4178  Confusion   \n",
       "\n",
       "     Charged_Move  \n",
       "9972    Psystrike  "
      ]
     },
     "execution_count": 163,
     "metadata": {},
     "output_type": "execute_result"
    }
   ],
   "source": [
    "df_S_tier_attackers[df_S_tier_attackers.Battle_Stat == df_S_tier_attackers.Battle_Stat.max()]"
   ]
  },
  {
   "cell_type": "code",
   "execution_count": 164,
   "id": "7750eb7b-3798-4905-a079-02835fa97b5e",
   "metadata": {},
   "outputs": [
    {
     "data": {
      "text/html": [
       "<div>\n",
       "<style scoped>\n",
       "    .dataframe tbody tr th:only-of-type {\n",
       "        vertical-align: middle;\n",
       "    }\n",
       "\n",
       "    .dataframe tbody tr th {\n",
       "        vertical-align: top;\n",
       "    }\n",
       "\n",
       "    .dataframe thead th {\n",
       "        text-align: right;\n",
       "    }\n",
       "</style>\n",
       "<table border=\"1\" class=\"dataframe\">\n",
       "  <thead>\n",
       "    <tr style=\"text-align: right;\">\n",
       "      <th></th>\n",
       "      <th>Pokemon</th>\n",
       "      <th>DPS</th>\n",
       "      <th>TDO</th>\n",
       "      <th>Battle_Stat</th>\n",
       "      <th>Max_CP_Lv40</th>\n",
       "      <th>Fast_Move</th>\n",
       "      <th>Charged_Move</th>\n",
       "    </tr>\n",
       "  </thead>\n",
       "  <tbody>\n",
       "    <tr>\n",
       "      <th>9745</th>\n",
       "      <td>Shadow Machamp</td>\n",
       "      <td>19.65</td>\n",
       "      <td>439.0</td>\n",
       "      <td>3330.3</td>\n",
       "      <td>3056</td>\n",
       "      <td>Counter</td>\n",
       "      <td>Dynamic Punch</td>\n",
       "    </tr>\n",
       "  </tbody>\n",
       "</table>\n",
       "</div>"
      ],
      "text/plain": [
       "             Pokemon    DPS    TDO  Battle_Stat  Max_CP_Lv40 Fast_Move  \\\n",
       "9745  Shadow Machamp  19.65  439.0       3330.3         3056   Counter   \n",
       "\n",
       "       Charged_Move  \n",
       "9745  Dynamic Punch  "
      ]
     },
     "execution_count": 164,
     "metadata": {},
     "output_type": "execute_result"
    }
   ],
   "source": [
    "df_S_tier_attackers[df_S_tier_attackers.Battle_Stat == df_S_tier_attackers.Battle_Stat.min()]"
   ]
  },
  {
   "cell_type": "markdown",
   "id": "2c8d79a1-dc1d-4fda-bd4d-ccb403a3d46b",
   "metadata": {},
   "source": [
    "## What pokemon has the highest and lowest average battle stat between all of their move sets?"
   ]
  },
  {
   "cell_type": "code",
   "execution_count": 170,
   "id": "8a07b24b-dd65-420d-ac49-3eefeefb37c8",
   "metadata": {},
   "outputs": [
    {
     "data": {
      "text/html": [
       "<div>\n",
       "<style scoped>\n",
       "    .dataframe tbody tr th:only-of-type {\n",
       "        vertical-align: middle;\n",
       "    }\n",
       "\n",
       "    .dataframe tbody tr th {\n",
       "        vertical-align: top;\n",
       "    }\n",
       "\n",
       "    .dataframe thead th {\n",
       "        text-align: right;\n",
       "    }\n",
       "</style>\n",
       "<table border=\"1\" class=\"dataframe\">\n",
       "  <thead>\n",
       "    <tr style=\"text-align: right;\">\n",
       "      <th></th>\n",
       "      <th>DPS</th>\n",
       "      <th>TDO</th>\n",
       "      <th>Battle_Stat</th>\n",
       "      <th>CP</th>\n",
       "    </tr>\n",
       "    <tr>\n",
       "      <th>Pokemon</th>\n",
       "      <th></th>\n",
       "      <th></th>\n",
       "      <th></th>\n",
       "      <th></th>\n",
       "    </tr>\n",
       "  </thead>\n",
       "  <tbody>\n",
       "    <tr>\n",
       "      <th>Mega Mewtwo Y</th>\n",
       "      <td>21.9695</td>\n",
       "      <td>833.38125</td>\n",
       "      <td>9380.23125</td>\n",
       "      <td>5610.0</td>\n",
       "    </tr>\n",
       "  </tbody>\n",
       "</table>\n",
       "</div>"
      ],
      "text/plain": [
       "                   DPS        TDO  Battle_Stat      CP\n",
       "Pokemon                                               \n",
       "Mega Mewtwo Y  21.9695  833.38125   9380.23125  5610.0"
      ]
     },
     "execution_count": 170,
     "metadata": {},
     "output_type": "execute_result"
    }
   ],
   "source": [
    "df.groupby('Pokemon').mean('Battle_Stat').nlargest(1, columns = 'Battle_Stat')"
   ]
  },
  {
   "cell_type": "code",
   "execution_count": 171,
   "id": "d9fe42a4-7aca-4e2b-8e62-a912194ad0be",
   "metadata": {},
   "outputs": [
    {
     "data": {
      "text/html": [
       "<div>\n",
       "<style scoped>\n",
       "    .dataframe tbody tr th:only-of-type {\n",
       "        vertical-align: middle;\n",
       "    }\n",
       "\n",
       "    .dataframe tbody tr th {\n",
       "        vertical-align: top;\n",
       "    }\n",
       "\n",
       "    .dataframe thead th {\n",
       "        text-align: right;\n",
       "    }\n",
       "</style>\n",
       "<table border=\"1\" class=\"dataframe\">\n",
       "  <thead>\n",
       "    <tr style=\"text-align: right;\">\n",
       "      <th></th>\n",
       "      <th>DPS</th>\n",
       "      <th>TDO</th>\n",
       "      <th>Battle_Stat</th>\n",
       "      <th>CP</th>\n",
       "    </tr>\n",
       "    <tr>\n",
       "      <th>Pokemon</th>\n",
       "      <th></th>\n",
       "      <th></th>\n",
       "      <th></th>\n",
       "      <th></th>\n",
       "    </tr>\n",
       "  </thead>\n",
       "  <tbody>\n",
       "    <tr>\n",
       "      <th>Magikarp</th>\n",
       "      <td>1.381</td>\n",
       "      <td>9.6</td>\n",
       "      <td>0.0</td>\n",
       "      <td>274.0</td>\n",
       "    </tr>\n",
       "  </tbody>\n",
       "</table>\n",
       "</div>"
      ],
      "text/plain": [
       "            DPS  TDO  Battle_Stat     CP\n",
       "Pokemon                                 \n",
       "Magikarp  1.381  9.6          0.0  274.0"
      ]
     },
     "execution_count": 171,
     "metadata": {},
     "output_type": "execute_result"
    }
   ],
   "source": [
    "df.groupby('Pokemon').mean('Battle_Stat').nsmallest(1, columns = 'Battle_Stat')"
   ]
  },
  {
   "cell_type": "code",
   "execution_count": 274,
   "id": "c2412ca2-fef0-4f8d-876a-76afbc7d7b20",
   "metadata": {},
   "outputs": [
    {
     "data": {
      "image/png": "[encoded data removed]",
      "text/plain": [
       "<Figure size 1080x576 with 1 Axes>"
      ]
     },
     "metadata": {
      "needs_background": "light"
     },
     "output_type": "display_data"
    }
   ],
   "source": [
    "plt.figure(figsize=(15, 8))\n",
    "sns.scatterplot(data = df_best_attack_set, x = 'Battle_Stat', y = 'Max_CP_Lv40', s=10)\n",
    "plt.xlim(-100, 5000)\n",
    "plt.ylim(0, 5000)\n",
    "plt.show()"
   ]
  },
  {
   "cell_type": "code",
   "execution_count": 275,
   "id": "5c4a684d-8cb1-4578-82c4-4a56796fc714",
   "metadata": {},
   "outputs": [
    {
     "data": {
      "text/plain": [
       "(array([1.144e+03, 1.180e+02, 2.900e+01, 1.400e+01, 7.000e+00, 3.000e+00,\n",
       "        0.000e+00, 0.000e+00, 1.000e+00, 1.000e+00]),\n",
       " array([    0.  ,  1829.99,  3659.98,  5489.97,  7319.96,  9149.95,\n",
       "        10979.94, 12809.93, 14639.92, 16469.91, 18299.9 ]),\n",
       " <BarContainer object of 10 artists>)"
      ]
     },
     "execution_count": 275,
     "metadata": {},
     "output_type": "execute_result"
    },
    {
     "data": {
      "image/png": "[encoded data removed]",
      "text/plain": [
       "<Figure size 432x288 with 1 Axes>"
      ]
     },
     "metadata": {
      "needs_background": "light"
     },
     "output_type": "display_data"
    }
   ],
   "source": [
    "plt.hist(df_best_attack_set.Battle_Stat)\n"
   ]
  },
  {
   "cell_type": "code",
   "execution_count": 276,
   "id": "2b9064b8-5f9d-4c9e-94d5-7a35b01f28f2",
   "metadata": {},
   "outputs": [
    {
     "data": {
      "text/plain": [
       "(array([267., 329., 345., 247.,  99.,  21.,   8.,   0.,   0.,   1.]),\n",
       " array([ 274. , 1065.3, 1856.6, 2647.9, 3439.2, 4230.5, 5021.8, 5813.1,\n",
       "        6604.4, 7395.7, 8187. ]),\n",
       " <BarContainer object of 10 artists>)"
      ]
     },
     "execution_count": 276,
     "metadata": {},
     "output_type": "execute_result"
    },
    {
     "data": {
      "image/png": "[encoded data removed]",
      "text/plain": [
       "<Figure size 432x288 with 1 Axes>"
      ]
     },
     "metadata": {
      "needs_background": "light"
     },
     "output_type": "display_data"
    }
   ],
   "source": [
    "plt.hist(df_best_attack_set.Max_CP_Lv40)\n"
   ]
  },
  {
   "cell_type": "code",
   "execution_count": 278,
   "id": "76cf15ff-0617-4973-8828-1a420c866657",
   "metadata": {},
   "outputs": [
    {
     "name": "stdout",
     "output_type": "stream",
     "text": [
      "0.9657505245075169 0.0\n"
     ]
    }
   ],
   "source": [
    "corr, p = spearmanr(df_best_attack_set['Battle_Stat'], df_best_attack_set['Max_CP_Lv40'])\n",
    "print(corr, p)"
   ]
  },
  {
   "cell_type": "markdown",
   "id": "a118b40e-e0de-497f-b189-3089b7fd6ac2",
   "metadata": {},
   "source": [
    "## Looking at new csv for info from the other pokemon games\n"
   ]
  },
  {
   "cell_type": "code",
   "execution_count": 172,
   "id": "e180fdd7-9ef3-4884-831f-59862540708c",
   "metadata": {},
   "outputs": [],
   "source": [
    "df1 = pd.read_csv('Pokemon.csv')"
   ]
  },
  {
   "cell_type": "code",
   "execution_count": 173,
   "id": "12b2dd94-68dc-4abf-b5a2-772d9af66d7a",
   "metadata": {},
   "outputs": [
    {
     "data": {
      "text/html": [
       "<div>\n",
       "<style scoped>\n",
       "    .dataframe tbody tr th:only-of-type {\n",
       "        vertical-align: middle;\n",
       "    }\n",
       "\n",
       "    .dataframe tbody tr th {\n",
       "        vertical-align: top;\n",
       "    }\n",
       "\n",
       "    .dataframe thead th {\n",
       "        text-align: right;\n",
       "    }\n",
       "</style>\n",
       "<table border=\"1\" class=\"dataframe\">\n",
       "  <thead>\n",
       "    <tr style=\"text-align: right;\">\n",
       "      <th></th>\n",
       "      <th>#</th>\n",
       "      <th>Name</th>\n",
       "      <th>Type 1</th>\n",
       "      <th>Type 2</th>\n",
       "      <th>Total</th>\n",
       "      <th>HP</th>\n",
       "      <th>Attack</th>\n",
       "      <th>Defense</th>\n",
       "      <th>Sp. Atk</th>\n",
       "      <th>Sp. Def</th>\n",
       "      <th>Speed</th>\n",
       "      <th>Generation</th>\n",
       "      <th>Legendary</th>\n",
       "    </tr>\n",
       "  </thead>\n",
       "  <tbody>\n",
       "    <tr>\n",
       "      <th>0</th>\n",
       "      <td>1</td>\n",
       "      <td>Bulbasaur</td>\n",
       "      <td>Grass</td>\n",
       "      <td>Poison</td>\n",
       "      <td>318</td>\n",
       "      <td>45</td>\n",
       "      <td>49</td>\n",
       "      <td>49</td>\n",
       "      <td>65</td>\n",
       "      <td>65</td>\n",
       "      <td>45</td>\n",
       "      <td>1</td>\n",
       "      <td>False</td>\n",
       "    </tr>\n",
       "    <tr>\n",
       "      <th>1</th>\n",
       "      <td>2</td>\n",
       "      <td>Ivysaur</td>\n",
       "      <td>Grass</td>\n",
       "      <td>Poison</td>\n",
       "      <td>405</td>\n",
       "      <td>60</td>\n",
       "      <td>62</td>\n",
       "      <td>63</td>\n",
       "      <td>80</td>\n",
       "      <td>80</td>\n",
       "      <td>60</td>\n",
       "      <td>1</td>\n",
       "      <td>False</td>\n",
       "    </tr>\n",
       "    <tr>\n",
       "      <th>2</th>\n",
       "      <td>3</td>\n",
       "      <td>Venusaur</td>\n",
       "      <td>Grass</td>\n",
       "      <td>Poison</td>\n",
       "      <td>525</td>\n",
       "      <td>80</td>\n",
       "      <td>82</td>\n",
       "      <td>83</td>\n",
       "      <td>100</td>\n",
       "      <td>100</td>\n",
       "      <td>80</td>\n",
       "      <td>1</td>\n",
       "      <td>False</td>\n",
       "    </tr>\n",
       "    <tr>\n",
       "      <th>3</th>\n",
       "      <td>3</td>\n",
       "      <td>Mega Venusaur</td>\n",
       "      <td>Grass</td>\n",
       "      <td>Poison</td>\n",
       "      <td>625</td>\n",
       "      <td>80</td>\n",
       "      <td>100</td>\n",
       "      <td>123</td>\n",
       "      <td>122</td>\n",
       "      <td>120</td>\n",
       "      <td>80</td>\n",
       "      <td>1</td>\n",
       "      <td>False</td>\n",
       "    </tr>\n",
       "    <tr>\n",
       "      <th>4</th>\n",
       "      <td>4</td>\n",
       "      <td>Charmander</td>\n",
       "      <td>Fire</td>\n",
       "      <td>NaN</td>\n",
       "      <td>309</td>\n",
       "      <td>39</td>\n",
       "      <td>52</td>\n",
       "      <td>43</td>\n",
       "      <td>60</td>\n",
       "      <td>50</td>\n",
       "      <td>65</td>\n",
       "      <td>1</td>\n",
       "      <td>False</td>\n",
       "    </tr>\n",
       "  </tbody>\n",
       "</table>\n",
       "</div>"
      ],
      "text/plain": [
       "   #           Name Type 1  Type 2  Total  HP  Attack  Defense  Sp. Atk  \\\n",
       "0  1      Bulbasaur  Grass  Poison    318  45      49       49       65   \n",
       "1  2        Ivysaur  Grass  Poison    405  60      62       63       80   \n",
       "2  3       Venusaur  Grass  Poison    525  80      82       83      100   \n",
       "3  3  Mega Venusaur  Grass  Poison    625  80     100      123      122   \n",
       "4  4     Charmander   Fire     NaN    309  39      52       43       60   \n",
       "\n",
       "   Sp. Def  Speed  Generation  Legendary  \n",
       "0       65     45           1      False  \n",
       "1       80     60           1      False  \n",
       "2      100     80           1      False  \n",
       "3      120     80           1      False  \n",
       "4       50     65           1      False  "
      ]
     },
     "execution_count": 173,
     "metadata": {},
     "output_type": "execute_result"
    }
   ],
   "source": [
    "df1.head()"
   ]
  },
  {
   "cell_type": "markdown",
   "id": "510e18c2-553e-48d8-a66f-5009008ce866",
   "metadata": {},
   "source": [
    "## Lets join our 2 dataframes"
   ]
  },
  {
   "cell_type": "code",
   "execution_count": 188,
   "id": "7e916d14-ec46-4966-9b67-c9e0b8760f4a",
   "metadata": {},
   "outputs": [
    {
     "data": {
      "text/html": [
       "<div>\n",
       "<style scoped>\n",
       "    .dataframe tbody tr th:only-of-type {\n",
       "        vertical-align: middle;\n",
       "    }\n",
       "\n",
       "    .dataframe tbody tr th {\n",
       "        vertical-align: top;\n",
       "    }\n",
       "\n",
       "    .dataframe thead th {\n",
       "        text-align: right;\n",
       "    }\n",
       "</style>\n",
       "<table border=\"1\" class=\"dataframe\">\n",
       "  <thead>\n",
       "    <tr style=\"text-align: right;\">\n",
       "      <th></th>\n",
       "      <th>Pokemon</th>\n",
       "      <th>DPS</th>\n",
       "      <th>TDO</th>\n",
       "      <th>Battle_Stat</th>\n",
       "      <th>Max_CP_Lv40</th>\n",
       "      <th>Fast_Move</th>\n",
       "      <th>Charged_Move</th>\n",
       "    </tr>\n",
       "  </thead>\n",
       "  <tbody>\n",
       "    <tr>\n",
       "      <th>0</th>\n",
       "      <td>Flabébé</td>\n",
       "      <td>7.460</td>\n",
       "      <td>99.2</td>\n",
       "      <td>41.2</td>\n",
       "      <td>1063</td>\n",
       "      <td>Vine Whip</td>\n",
       "      <td>Dazzling Gleam</td>\n",
       "    </tr>\n",
       "    <tr>\n",
       "      <th>6</th>\n",
       "      <td>5th Anniversary Pikachu</td>\n",
       "      <td>8.366</td>\n",
       "      <td>81.2</td>\n",
       "      <td>47.5</td>\n",
       "      <td>938</td>\n",
       "      <td>Thunder Shock</td>\n",
       "      <td>Wild Charge</td>\n",
       "    </tr>\n",
       "    <tr>\n",
       "      <th>14</th>\n",
       "      <td>Abomasnow</td>\n",
       "      <td>12.094</td>\n",
       "      <td>322.3</td>\n",
       "      <td>570.1</td>\n",
       "      <td>2362</td>\n",
       "      <td>Razor Leaf</td>\n",
       "      <td>Weather Ball Ice</td>\n",
       "    </tr>\n",
       "    <tr>\n",
       "      <th>24</th>\n",
       "      <td>Abra</td>\n",
       "      <td>11.707</td>\n",
       "      <td>85.1</td>\n",
       "      <td>136.5</td>\n",
       "      <td>1342</td>\n",
       "      <td>Zen Headbutt</td>\n",
       "      <td>Psyshock</td>\n",
       "    </tr>\n",
       "    <tr>\n",
       "      <th>32</th>\n",
       "      <td>Absol</td>\n",
       "      <td>15.134</td>\n",
       "      <td>252.4</td>\n",
       "      <td>874.8</td>\n",
       "      <td>2526</td>\n",
       "      <td>Snarl</td>\n",
       "      <td>Return</td>\n",
       "    </tr>\n",
       "  </tbody>\n",
       "</table>\n",
       "</div>"
      ],
      "text/plain": [
       "                    Pokemon     DPS    TDO  Battle_Stat  Max_CP_Lv40  \\\n",
       "0                   Flabébé   7.460   99.2         41.2         1063   \n",
       "6   5th Anniversary Pikachu   8.366   81.2         47.5          938   \n",
       "14                Abomasnow  12.094  322.3        570.1         2362   \n",
       "24                     Abra  11.707   85.1        136.5         1342   \n",
       "32                    Absol  15.134  252.4        874.8         2526   \n",
       "\n",
       "        Fast_Move      Charged_Move  \n",
       "0       Vine Whip    Dazzling Gleam  \n",
       "6   Thunder Shock       Wild Charge  \n",
       "14     Razor Leaf  Weather Ball Ice  \n",
       "24   Zen Headbutt          Psyshock  \n",
       "32          Snarl            Return  "
      ]
     },
     "execution_count": 188,
     "metadata": {},
     "output_type": "execute_result"
    }
   ],
   "source": [
    "df_best_attack_set.head()"
   ]
  },
  {
   "cell_type": "code",
   "execution_count": 175,
   "id": "8954c1c5-9803-432e-bccf-ee26bda3c7eb",
   "metadata": {},
   "outputs": [
    {
     "data": {
      "text/html": [
       "<div>\n",
       "<style scoped>\n",
       "    .dataframe tbody tr th:only-of-type {\n",
       "        vertical-align: middle;\n",
       "    }\n",
       "\n",
       "    .dataframe tbody tr th {\n",
       "        vertical-align: top;\n",
       "    }\n",
       "\n",
       "    .dataframe thead th {\n",
       "        text-align: right;\n",
       "    }\n",
       "</style>\n",
       "<table border=\"1\" class=\"dataframe\">\n",
       "  <thead>\n",
       "    <tr style=\"text-align: right;\">\n",
       "      <th></th>\n",
       "      <th>#</th>\n",
       "      <th>Name</th>\n",
       "      <th>Type 1</th>\n",
       "      <th>Type 2</th>\n",
       "      <th>Total</th>\n",
       "      <th>HP</th>\n",
       "      <th>Attack</th>\n",
       "      <th>Defense</th>\n",
       "      <th>Sp. Atk</th>\n",
       "      <th>Sp. Def</th>\n",
       "      <th>Speed</th>\n",
       "      <th>Generation</th>\n",
       "      <th>Legendary</th>\n",
       "    </tr>\n",
       "  </thead>\n",
       "  <tbody>\n",
       "    <tr>\n",
       "      <th>0</th>\n",
       "      <td>1</td>\n",
       "      <td>Bulbasaur</td>\n",
       "      <td>Grass</td>\n",
       "      <td>Poison</td>\n",
       "      <td>318</td>\n",
       "      <td>45</td>\n",
       "      <td>49</td>\n",
       "      <td>49</td>\n",
       "      <td>65</td>\n",
       "      <td>65</td>\n",
       "      <td>45</td>\n",
       "      <td>1</td>\n",
       "      <td>False</td>\n",
       "    </tr>\n",
       "    <tr>\n",
       "      <th>1</th>\n",
       "      <td>2</td>\n",
       "      <td>Ivysaur</td>\n",
       "      <td>Grass</td>\n",
       "      <td>Poison</td>\n",
       "      <td>405</td>\n",
       "      <td>60</td>\n",
       "      <td>62</td>\n",
       "      <td>63</td>\n",
       "      <td>80</td>\n",
       "      <td>80</td>\n",
       "      <td>60</td>\n",
       "      <td>1</td>\n",
       "      <td>False</td>\n",
       "    </tr>\n",
       "    <tr>\n",
       "      <th>2</th>\n",
       "      <td>3</td>\n",
       "      <td>Venusaur</td>\n",
       "      <td>Grass</td>\n",
       "      <td>Poison</td>\n",
       "      <td>525</td>\n",
       "      <td>80</td>\n",
       "      <td>82</td>\n",
       "      <td>83</td>\n",
       "      <td>100</td>\n",
       "      <td>100</td>\n",
       "      <td>80</td>\n",
       "      <td>1</td>\n",
       "      <td>False</td>\n",
       "    </tr>\n",
       "    <tr>\n",
       "      <th>3</th>\n",
       "      <td>3</td>\n",
       "      <td>Mega Venusaur</td>\n",
       "      <td>Grass</td>\n",
       "      <td>Poison</td>\n",
       "      <td>625</td>\n",
       "      <td>80</td>\n",
       "      <td>100</td>\n",
       "      <td>123</td>\n",
       "      <td>122</td>\n",
       "      <td>120</td>\n",
       "      <td>80</td>\n",
       "      <td>1</td>\n",
       "      <td>False</td>\n",
       "    </tr>\n",
       "    <tr>\n",
       "      <th>4</th>\n",
       "      <td>4</td>\n",
       "      <td>Charmander</td>\n",
       "      <td>Fire</td>\n",
       "      <td>NaN</td>\n",
       "      <td>309</td>\n",
       "      <td>39</td>\n",
       "      <td>52</td>\n",
       "      <td>43</td>\n",
       "      <td>60</td>\n",
       "      <td>50</td>\n",
       "      <td>65</td>\n",
       "      <td>1</td>\n",
       "      <td>False</td>\n",
       "    </tr>\n",
       "  </tbody>\n",
       "</table>\n",
       "</div>"
      ],
      "text/plain": [
       "   #           Name Type 1  Type 2  Total  HP  Attack  Defense  Sp. Atk  \\\n",
       "0  1      Bulbasaur  Grass  Poison    318  45      49       49       65   \n",
       "1  2        Ivysaur  Grass  Poison    405  60      62       63       80   \n",
       "2  3       Venusaur  Grass  Poison    525  80      82       83      100   \n",
       "3  3  Mega Venusaur  Grass  Poison    625  80     100      123      122   \n",
       "4  4     Charmander   Fire     NaN    309  39      52       43       60   \n",
       "\n",
       "   Sp. Def  Speed  Generation  Legendary  \n",
       "0       65     45           1      False  \n",
       "1       80     60           1      False  \n",
       "2      100     80           1      False  \n",
       "3      120     80           1      False  \n",
       "4       50     65           1      False  "
      ]
     },
     "execution_count": 175,
     "metadata": {},
     "output_type": "execute_result"
    }
   ],
   "source": [
    "df1.head()"
   ]
  },
  {
   "cell_type": "code",
   "execution_count": 176,
   "id": "a1e78171-d865-4dd9-8fb0-12cfe21f8411",
   "metadata": {},
   "outputs": [],
   "source": [
    "df1.rename(columns = {'Name' : 'Pokemon'}, inplace = True)"
   ]
  },
  {
   "cell_type": "code",
   "execution_count": 190,
   "id": "297f68c2-41f9-486c-8f62-fe37c61fc4e2",
   "metadata": {},
   "outputs": [],
   "source": [
    "df_best_attack_set = df_best_attack_set.merge(df1, on='Pokemon', how='left')"
   ]
  },
  {
   "cell_type": "code",
   "execution_count": 191,
   "id": "0b72a0dd-05c0-4b03-9362-a7ef08ad8f05",
   "metadata": {},
   "outputs": [
    {
     "data": {
      "text/html": [
       "<div>\n",
       "<style scoped>\n",
       "    .dataframe tbody tr th:only-of-type {\n",
       "        vertical-align: middle;\n",
       "    }\n",
       "\n",
       "    .dataframe tbody tr th {\n",
       "        vertical-align: top;\n",
       "    }\n",
       "\n",
       "    .dataframe thead th {\n",
       "        text-align: right;\n",
       "    }\n",
       "</style>\n",
       "<table border=\"1\" class=\"dataframe\">\n",
       "  <thead>\n",
       "    <tr style=\"text-align: right;\">\n",
       "      <th></th>\n",
       "      <th>Pokemon</th>\n",
       "      <th>DPS</th>\n",
       "      <th>TDO</th>\n",
       "      <th>Battle_Stat</th>\n",
       "      <th>Max_CP_Lv40</th>\n",
       "      <th>Fast_Move</th>\n",
       "      <th>Charged_Move</th>\n",
       "      <th>#</th>\n",
       "      <th>Type 1</th>\n",
       "      <th>Type 2</th>\n",
       "      <th>Total</th>\n",
       "      <th>HP</th>\n",
       "      <th>Attack</th>\n",
       "      <th>Defense</th>\n",
       "      <th>Sp. Atk</th>\n",
       "      <th>Sp. Def</th>\n",
       "      <th>Speed</th>\n",
       "      <th>Generation</th>\n",
       "      <th>Legendary</th>\n",
       "    </tr>\n",
       "  </thead>\n",
       "  <tbody>\n",
       "    <tr>\n",
       "      <th>0</th>\n",
       "      <td>Flabébé</td>\n",
       "      <td>7.460</td>\n",
       "      <td>99.2</td>\n",
       "      <td>41.2</td>\n",
       "      <td>1063</td>\n",
       "      <td>Vine Whip</td>\n",
       "      <td>Dazzling Gleam</td>\n",
       "      <td>NaN</td>\n",
       "      <td>NaN</td>\n",
       "      <td>NaN</td>\n",
       "      <td>NaN</td>\n",
       "      <td>NaN</td>\n",
       "      <td>NaN</td>\n",
       "      <td>NaN</td>\n",
       "      <td>NaN</td>\n",
       "      <td>NaN</td>\n",
       "      <td>NaN</td>\n",
       "      <td>NaN</td>\n",
       "      <td>NaN</td>\n",
       "    </tr>\n",
       "    <tr>\n",
       "      <th>1</th>\n",
       "      <td>5th Anniversary Pikachu</td>\n",
       "      <td>8.366</td>\n",
       "      <td>81.2</td>\n",
       "      <td>47.5</td>\n",
       "      <td>938</td>\n",
       "      <td>Thunder Shock</td>\n",
       "      <td>Wild Charge</td>\n",
       "      <td>NaN</td>\n",
       "      <td>NaN</td>\n",
       "      <td>NaN</td>\n",
       "      <td>NaN</td>\n",
       "      <td>NaN</td>\n",
       "      <td>NaN</td>\n",
       "      <td>NaN</td>\n",
       "      <td>NaN</td>\n",
       "      <td>NaN</td>\n",
       "      <td>NaN</td>\n",
       "      <td>NaN</td>\n",
       "      <td>NaN</td>\n",
       "    </tr>\n",
       "    <tr>\n",
       "      <th>2</th>\n",
       "      <td>Abomasnow</td>\n",
       "      <td>12.094</td>\n",
       "      <td>322.3</td>\n",
       "      <td>570.1</td>\n",
       "      <td>2362</td>\n",
       "      <td>Razor Leaf</td>\n",
       "      <td>Weather Ball Ice</td>\n",
       "      <td>460.0</td>\n",
       "      <td>Grass</td>\n",
       "      <td>Ice</td>\n",
       "      <td>494.0</td>\n",
       "      <td>90.0</td>\n",
       "      <td>92.0</td>\n",
       "      <td>75.0</td>\n",
       "      <td>92.0</td>\n",
       "      <td>85.0</td>\n",
       "      <td>60.0</td>\n",
       "      <td>4.0</td>\n",
       "      <td>False</td>\n",
       "    </tr>\n",
       "    <tr>\n",
       "      <th>3</th>\n",
       "      <td>Abra</td>\n",
       "      <td>11.707</td>\n",
       "      <td>85.1</td>\n",
       "      <td>136.5</td>\n",
       "      <td>1342</td>\n",
       "      <td>Zen Headbutt</td>\n",
       "      <td>Psyshock</td>\n",
       "      <td>63.0</td>\n",
       "      <td>Psychic</td>\n",
       "      <td>NaN</td>\n",
       "      <td>310.0</td>\n",
       "      <td>25.0</td>\n",
       "      <td>20.0</td>\n",
       "      <td>15.0</td>\n",
       "      <td>105.0</td>\n",
       "      <td>55.0</td>\n",
       "      <td>90.0</td>\n",
       "      <td>1.0</td>\n",
       "      <td>False</td>\n",
       "    </tr>\n",
       "    <tr>\n",
       "      <th>4</th>\n",
       "      <td>Absol</td>\n",
       "      <td>15.134</td>\n",
       "      <td>252.4</td>\n",
       "      <td>874.8</td>\n",
       "      <td>2526</td>\n",
       "      <td>Snarl</td>\n",
       "      <td>Return</td>\n",
       "      <td>359.0</td>\n",
       "      <td>Dark</td>\n",
       "      <td>NaN</td>\n",
       "      <td>465.0</td>\n",
       "      <td>65.0</td>\n",
       "      <td>130.0</td>\n",
       "      <td>60.0</td>\n",
       "      <td>75.0</td>\n",
       "      <td>60.0</td>\n",
       "      <td>75.0</td>\n",
       "      <td>3.0</td>\n",
       "      <td>False</td>\n",
       "    </tr>\n",
       "  </tbody>\n",
       "</table>\n",
       "</div>"
      ],
      "text/plain": [
       "                   Pokemon     DPS    TDO  Battle_Stat  Max_CP_Lv40  \\\n",
       "0                  Flabébé   7.460   99.2         41.2         1063   \n",
       "1  5th Anniversary Pikachu   8.366   81.2         47.5          938   \n",
       "2                Abomasnow  12.094  322.3        570.1         2362   \n",
       "3                     Abra  11.707   85.1        136.5         1342   \n",
       "4                    Absol  15.134  252.4        874.8         2526   \n",
       "\n",
       "       Fast_Move      Charged_Move      #   Type 1 Type 2  Total    HP  \\\n",
       "0      Vine Whip    Dazzling Gleam    NaN      NaN    NaN    NaN   NaN   \n",
       "1  Thunder Shock       Wild Charge    NaN      NaN    NaN    NaN   NaN   \n",
       "2     Razor Leaf  Weather Ball Ice  460.0    Grass    Ice  494.0  90.0   \n",
       "3   Zen Headbutt          Psyshock   63.0  Psychic    NaN  310.0  25.0   \n",
       "4          Snarl            Return  359.0     Dark    NaN  465.0  65.0   \n",
       "\n",
       "   Attack  Defense  Sp. Atk  Sp. Def  Speed  Generation Legendary  \n",
       "0     NaN      NaN      NaN      NaN    NaN         NaN       NaN  \n",
       "1     NaN      NaN      NaN      NaN    NaN         NaN       NaN  \n",
       "2    92.0     75.0     92.0     85.0   60.0         4.0     False  \n",
       "3    20.0     15.0    105.0     55.0   90.0         1.0     False  \n",
       "4   130.0     60.0     75.0     60.0   75.0         3.0     False  "
      ]
     },
     "execution_count": 191,
     "metadata": {},
     "output_type": "execute_result"
    }
   ],
   "source": [
    "df_best_attack_set.head()"
   ]
  },
  {
   "cell_type": "code",
   "execution_count": 194,
   "id": "5d1dc72e-5d54-412a-bc9a-038794e0fcfa",
   "metadata": {},
   "outputs": [
    {
     "data": {
      "text/plain": [
       "(1317, 19)"
      ]
     },
     "execution_count": 194,
     "metadata": {},
     "output_type": "execute_result"
    }
   ],
   "source": [
    "df_best_attack_set.shape"
   ]
  },
  {
   "cell_type": "code",
   "execution_count": 192,
   "id": "db2cec8f-1d58-46ec-ae43-4a91b6c1aad2",
   "metadata": {},
   "outputs": [
    {
     "data": {
      "text/plain": [
       "Pokemon           0\n",
       "DPS               0\n",
       "TDO               0\n",
       "Battle_Stat       0\n",
       "Max_CP_Lv40       0\n",
       "Fast_Move         0\n",
       "Charged_Move      0\n",
       "#               509\n",
       "Type 1          509\n",
       "Type 2          899\n",
       "Total           509\n",
       "HP              509\n",
       "Attack          509\n",
       "Defense         509\n",
       "Sp. Atk         509\n",
       "Sp. Def         509\n",
       "Speed           509\n",
       "Generation      509\n",
       "Legendary       509\n",
       "dtype: int64"
      ]
     },
     "execution_count": 192,
     "metadata": {},
     "output_type": "execute_result"
    }
   ],
   "source": [
    "df_best_attack_set.isnull().sum()"
   ]
  },
  {
   "cell_type": "markdown",
   "id": "1b31a849-a0b8-41f7-9dea-2bc2716b7804",
   "metadata": {},
   "source": [
    "## How do we handle nulls?"
   ]
  },
  {
   "cell_type": "markdown",
   "id": "0bb66f5f-f592-4662-8d72-dd247c9ead95",
   "metadata": {},
   "source": [
    "### This is tricky because the nulls need to be filled with specific data for each pokemon. The null is occuring because of all the unique pokemon names in pokemon go. (ex. 5th Anniversary Pikachu) In the main series pokemon games there is just 'Pikachu'. "
   ]
  },
  {
   "cell_type": "markdown",
   "id": "410487ac-1c93-42c3-84c1-2b0b18a9cf01",
   "metadata": {},
   "source": [
    "### I'm first going to export it into a CSV to get a better look at all the data."
   ]
  },
  {
   "cell_type": "code",
   "execution_count": 195,
   "id": "b80fdaa9-b0c2-49f7-a7d6-b12b52da5c80",
   "metadata": {},
   "outputs": [],
   "source": [
    "df_best_attack_set.to_csv('Best_Attack_Set.csv')"
   ]
  },
  {
   "cell_type": "markdown",
   "id": "23d7473a-e33c-4ad1-9258-8ab71751d3e4",
   "metadata": {},
   "source": [
    "### It apears the CSV's used are outdated I will manually adjust nulls as many names and stats are wrong and dated. From there I will reimport an updated CSV."
   ]
  },
  {
   "cell_type": "markdown",
   "id": "4a9842d2-65d3-4212-8ccd-65a2a729fe09",
   "metadata": {},
   "source": [
    "## While I work on the updated CSV on the side lets look at some of the data from the main series games."
   ]
  },
  {
   "cell_type": "code",
   "execution_count": 196,
   "id": "e8ab852f-9e9a-4925-ad51-7c48212bb890",
   "metadata": {},
   "outputs": [
    {
     "data": {
      "text/html": [
       "<div>\n",
       "<style scoped>\n",
       "    .dataframe tbody tr th:only-of-type {\n",
       "        vertical-align: middle;\n",
       "    }\n",
       "\n",
       "    .dataframe tbody tr th {\n",
       "        vertical-align: top;\n",
       "    }\n",
       "\n",
       "    .dataframe thead th {\n",
       "        text-align: right;\n",
       "    }\n",
       "</style>\n",
       "<table border=\"1\" class=\"dataframe\">\n",
       "  <thead>\n",
       "    <tr style=\"text-align: right;\">\n",
       "      <th></th>\n",
       "      <th>#</th>\n",
       "      <th>Pokemon</th>\n",
       "      <th>Type 1</th>\n",
       "      <th>Type 2</th>\n",
       "      <th>Total</th>\n",
       "      <th>HP</th>\n",
       "      <th>Attack</th>\n",
       "      <th>Defense</th>\n",
       "      <th>Sp. Atk</th>\n",
       "      <th>Sp. Def</th>\n",
       "      <th>Speed</th>\n",
       "      <th>Generation</th>\n",
       "      <th>Legendary</th>\n",
       "    </tr>\n",
       "  </thead>\n",
       "  <tbody>\n",
       "    <tr>\n",
       "      <th>0</th>\n",
       "      <td>1</td>\n",
       "      <td>Bulbasaur</td>\n",
       "      <td>Grass</td>\n",
       "      <td>Poison</td>\n",
       "      <td>318</td>\n",
       "      <td>45</td>\n",
       "      <td>49</td>\n",
       "      <td>49</td>\n",
       "      <td>65</td>\n",
       "      <td>65</td>\n",
       "      <td>45</td>\n",
       "      <td>1</td>\n",
       "      <td>False</td>\n",
       "    </tr>\n",
       "    <tr>\n",
       "      <th>1</th>\n",
       "      <td>2</td>\n",
       "      <td>Ivysaur</td>\n",
       "      <td>Grass</td>\n",
       "      <td>Poison</td>\n",
       "      <td>405</td>\n",
       "      <td>60</td>\n",
       "      <td>62</td>\n",
       "      <td>63</td>\n",
       "      <td>80</td>\n",
       "      <td>80</td>\n",
       "      <td>60</td>\n",
       "      <td>1</td>\n",
       "      <td>False</td>\n",
       "    </tr>\n",
       "    <tr>\n",
       "      <th>2</th>\n",
       "      <td>3</td>\n",
       "      <td>Venusaur</td>\n",
       "      <td>Grass</td>\n",
       "      <td>Poison</td>\n",
       "      <td>525</td>\n",
       "      <td>80</td>\n",
       "      <td>82</td>\n",
       "      <td>83</td>\n",
       "      <td>100</td>\n",
       "      <td>100</td>\n",
       "      <td>80</td>\n",
       "      <td>1</td>\n",
       "      <td>False</td>\n",
       "    </tr>\n",
       "    <tr>\n",
       "      <th>3</th>\n",
       "      <td>3</td>\n",
       "      <td>Mega Venusaur</td>\n",
       "      <td>Grass</td>\n",
       "      <td>Poison</td>\n",
       "      <td>625</td>\n",
       "      <td>80</td>\n",
       "      <td>100</td>\n",
       "      <td>123</td>\n",
       "      <td>122</td>\n",
       "      <td>120</td>\n",
       "      <td>80</td>\n",
       "      <td>1</td>\n",
       "      <td>False</td>\n",
       "    </tr>\n",
       "    <tr>\n",
       "      <th>4</th>\n",
       "      <td>4</td>\n",
       "      <td>Charmander</td>\n",
       "      <td>Fire</td>\n",
       "      <td>NaN</td>\n",
       "      <td>309</td>\n",
       "      <td>39</td>\n",
       "      <td>52</td>\n",
       "      <td>43</td>\n",
       "      <td>60</td>\n",
       "      <td>50</td>\n",
       "      <td>65</td>\n",
       "      <td>1</td>\n",
       "      <td>False</td>\n",
       "    </tr>\n",
       "  </tbody>\n",
       "</table>\n",
       "</div>"
      ],
      "text/plain": [
       "   #        Pokemon Type 1  Type 2  Total  HP  Attack  Defense  Sp. Atk  \\\n",
       "0  1      Bulbasaur  Grass  Poison    318  45      49       49       65   \n",
       "1  2        Ivysaur  Grass  Poison    405  60      62       63       80   \n",
       "2  3       Venusaur  Grass  Poison    525  80      82       83      100   \n",
       "3  3  Mega Venusaur  Grass  Poison    625  80     100      123      122   \n",
       "4  4     Charmander   Fire     NaN    309  39      52       43       60   \n",
       "\n",
       "   Sp. Def  Speed  Generation  Legendary  \n",
       "0       65     45           1      False  \n",
       "1       80     60           1      False  \n",
       "2      100     80           1      False  \n",
       "3      120     80           1      False  \n",
       "4       50     65           1      False  "
      ]
     },
     "execution_count": 196,
     "metadata": {},
     "output_type": "execute_result"
    }
   ],
   "source": [
    "df1.head()"
   ]
  },
  {
   "cell_type": "code",
   "execution_count": 199,
   "id": "28834853-bdd1-4954-8fa7-a1d62f04618d",
   "metadata": {},
   "outputs": [],
   "source": [
    "avg_stats_by_primary_type = df1.groupby('Type 1').mean()"
   ]
  },
  {
   "cell_type": "code",
   "execution_count": 201,
   "id": "ba64d010-fc57-4174-b14b-4f6ce71553ac",
   "metadata": {},
   "outputs": [
    {
     "data": {
      "text/html": [
       "<div>\n",
       "<style scoped>\n",
       "    .dataframe tbody tr th:only-of-type {\n",
       "        vertical-align: middle;\n",
       "    }\n",
       "\n",
       "    .dataframe tbody tr th {\n",
       "        vertical-align: top;\n",
       "    }\n",
       "\n",
       "    .dataframe thead th {\n",
       "        text-align: right;\n",
       "    }\n",
       "</style>\n",
       "<table border=\"1\" class=\"dataframe\">\n",
       "  <thead>\n",
       "    <tr style=\"text-align: right;\">\n",
       "      <th></th>\n",
       "      <th>#</th>\n",
       "      <th>Total</th>\n",
       "      <th>HP</th>\n",
       "      <th>Attack</th>\n",
       "      <th>Defense</th>\n",
       "      <th>Sp. Atk</th>\n",
       "      <th>Sp. Def</th>\n",
       "      <th>Speed</th>\n",
       "      <th>Generation</th>\n",
       "      <th>Legendary</th>\n",
       "    </tr>\n",
       "    <tr>\n",
       "      <th>Type 1</th>\n",
       "      <th></th>\n",
       "      <th></th>\n",
       "      <th></th>\n",
       "      <th></th>\n",
       "      <th></th>\n",
       "      <th></th>\n",
       "      <th></th>\n",
       "      <th></th>\n",
       "      <th></th>\n",
       "      <th></th>\n",
       "    </tr>\n",
       "  </thead>\n",
       "  <tbody>\n",
       "    <tr>\n",
       "      <th>Bug</th>\n",
       "      <td>334.492754</td>\n",
       "      <td>378.927536</td>\n",
       "      <td>56.884058</td>\n",
       "      <td>70.971014</td>\n",
       "      <td>70.724638</td>\n",
       "      <td>53.869565</td>\n",
       "      <td>64.797101</td>\n",
       "      <td>61.681159</td>\n",
       "      <td>3.217391</td>\n",
       "      <td>0.000000</td>\n",
       "    </tr>\n",
       "    <tr>\n",
       "      <th>Dark</th>\n",
       "      <td>461.354839</td>\n",
       "      <td>445.741935</td>\n",
       "      <td>66.806452</td>\n",
       "      <td>88.387097</td>\n",
       "      <td>70.225806</td>\n",
       "      <td>74.645161</td>\n",
       "      <td>69.516129</td>\n",
       "      <td>76.161290</td>\n",
       "      <td>4.032258</td>\n",
       "      <td>0.064516</td>\n",
       "    </tr>\n",
       "    <tr>\n",
       "      <th>Dragon</th>\n",
       "      <td>474.375000</td>\n",
       "      <td>550.531250</td>\n",
       "      <td>83.312500</td>\n",
       "      <td>112.125000</td>\n",
       "      <td>86.375000</td>\n",
       "      <td>96.843750</td>\n",
       "      <td>88.843750</td>\n",
       "      <td>83.031250</td>\n",
       "      <td>3.875000</td>\n",
       "      <td>0.375000</td>\n",
       "    </tr>\n",
       "    <tr>\n",
       "      <th>Electric</th>\n",
       "      <td>363.500000</td>\n",
       "      <td>443.409091</td>\n",
       "      <td>59.795455</td>\n",
       "      <td>69.090909</td>\n",
       "      <td>66.295455</td>\n",
       "      <td>90.022727</td>\n",
       "      <td>73.704545</td>\n",
       "      <td>84.500000</td>\n",
       "      <td>3.272727</td>\n",
       "      <td>0.090909</td>\n",
       "    </tr>\n",
       "    <tr>\n",
       "      <th>Fairy</th>\n",
       "      <td>449.529412</td>\n",
       "      <td>413.176471</td>\n",
       "      <td>74.117647</td>\n",
       "      <td>61.529412</td>\n",
       "      <td>65.705882</td>\n",
       "      <td>78.529412</td>\n",
       "      <td>84.705882</td>\n",
       "      <td>48.588235</td>\n",
       "      <td>4.117647</td>\n",
       "      <td>0.058824</td>\n",
       "    </tr>\n",
       "  </tbody>\n",
       "</table>\n",
       "</div>"
      ],
      "text/plain": [
       "                   #       Total         HP      Attack    Defense    Sp. Atk  \\\n",
       "Type 1                                                                          \n",
       "Bug       334.492754  378.927536  56.884058   70.971014  70.724638  53.869565   \n",
       "Dark      461.354839  445.741935  66.806452   88.387097  70.225806  74.645161   \n",
       "Dragon    474.375000  550.531250  83.312500  112.125000  86.375000  96.843750   \n",
       "Electric  363.500000  443.409091  59.795455   69.090909  66.295455  90.022727   \n",
       "Fairy     449.529412  413.176471  74.117647   61.529412  65.705882  78.529412   \n",
       "\n",
       "            Sp. Def      Speed  Generation  Legendary  \n",
       "Type 1                                                 \n",
       "Bug       64.797101  61.681159    3.217391   0.000000  \n",
       "Dark      69.516129  76.161290    4.032258   0.064516  \n",
       "Dragon    88.843750  83.031250    3.875000   0.375000  \n",
       "Electric  73.704545  84.500000    3.272727   0.090909  \n",
       "Fairy     84.705882  48.588235    4.117647   0.058824  "
      ]
     },
     "execution_count": 201,
     "metadata": {},
     "output_type": "execute_result"
    }
   ],
   "source": [
    "avg_stats_by_primary_type.head()"
   ]
  },
  {
   "cell_type": "code",
   "execution_count": 222,
   "id": "4dd6d2a0-94d0-418c-8e35-0b2d5dd277b5",
   "metadata": {},
   "outputs": [],
   "source": [
    "avg_stats_by_primary_type_total = avg_stats_by_primary_type.sort_values('Total', ascending=False)"
   ]
  },
  {
   "cell_type": "code",
   "execution_count": 223,
   "id": "3266b225-e966-454a-a079-66958e0ab21a",
   "metadata": {},
   "outputs": [
    {
     "data": {
      "text/plain": [
       "<AxesSubplot:xlabel='Type 1', ylabel='Total'>"
      ]
     },
     "execution_count": 223,
     "metadata": {},
     "output_type": "execute_result"
    },
    {
     "data": {
      "image/png": "[encoded data removed]",
      "text/plain": [
       "<Figure size 1080x576 with 1 Axes>"
      ]
     },
     "metadata": {
      "needs_background": "light"
     },
     "output_type": "display_data"
    }
   ],
   "source": [
    "plt.figure(figsize=(15, 8))\n",
    "sns.barplot(x = avg_stats_by_primary_type_total.index, y = avg_stats_by_primary_type_total.Total)"
   ]
  },
  {
   "cell_type": "code",
   "execution_count": null,
   "id": "a49d6812-bc7b-4d37-bd5b-3a09460e5d49",
   "metadata": {},
   "outputs": [],
   "source": [
    "avg_stats_by_primary_type_attack = avg_stats_by_primary_type.sort_values('Attack', ascending=False)"
   ]
  },
  {
   "cell_type": "code",
   "execution_count": 221,
   "id": "e5bfa3a8-f73f-4f49-a6d0-dea3ec52ada0",
   "metadata": {},
   "outputs": [
    {
     "data": {
      "text/plain": [
       "<AxesSubplot:xlabel='Type 1', ylabel='Attack'>"
      ]
     },
     "execution_count": 221,
     "metadata": {},
     "output_type": "execute_result"
    },
    {
     "data": {
      "image/png": "[encoded data removed]",
      "text/plain": [
       "<Figure size 1080x576 with 1 Axes>"
      ]
     },
     "metadata": {
      "needs_background": "light"
     },
     "output_type": "display_data"
    }
   ],
   "source": [
    "plt.figure(figsize=(15, 8))\n",
    "sns.barplot(x = avg_stats_by_primary_type_attack.index, y = avg_stats_by_primary_type_attack.Attack)"
   ]
  },
  {
   "cell_type": "code",
   "execution_count": 224,
   "id": "cccd2bc2-d77f-4f7a-a417-f9912ef9d827",
   "metadata": {},
   "outputs": [],
   "source": [
    "avg_stats_by_primary_type_hp = avg_stats_by_primary_type.sort_values('HP', ascending=False)"
   ]
  },
  {
   "cell_type": "code",
   "execution_count": 225,
   "id": "b347cb76-9a1d-4856-b3a4-7bb847048caa",
   "metadata": {},
   "outputs": [
    {
     "data": {
      "text/plain": [
       "<AxesSubplot:xlabel='Type 1', ylabel='HP'>"
      ]
     },
     "execution_count": 225,
     "metadata": {},
     "output_type": "execute_result"
    },
    {
     "data": {
      "image/png": "[encoded data removed]",
      "text/plain": [
       "<Figure size 1080x576 with 1 Axes>"
      ]
     },
     "metadata": {
      "needs_background": "light"
     },
     "output_type": "display_data"
    }
   ],
   "source": [
    "plt.figure(figsize=(15, 8))\n",
    "sns.barplot(x = avg_stats_by_primary_type_hp.index, y = avg_stats_by_primary_type_hp.HP)"
   ]
  },
  {
   "cell_type": "code",
   "execution_count": 226,
   "id": "f0d92dd3-f83e-454f-9f42-57f42c2aa184",
   "metadata": {},
   "outputs": [],
   "source": [
    "avg_stats_by_primary_type_defense = avg_stats_by_primary_type.sort_values('Defense', ascending=False)"
   ]
  },
  {
   "cell_type": "code",
   "execution_count": 227,
   "id": "92b836e5-deaf-4e80-8d9c-0c01f6265c30",
   "metadata": {},
   "outputs": [
    {
     "data": {
      "text/plain": [
       "<AxesSubplot:xlabel='Type 1', ylabel='Defense'>"
      ]
     },
     "execution_count": 227,
     "metadata": {},
     "output_type": "execute_result"
    },
    {
     "data": {
      "image/png": "[encoded data removed]",
      "text/plain": [
       "<Figure size 1080x576 with 1 Axes>"
      ]
     },
     "metadata": {
      "needs_background": "light"
     },
     "output_type": "display_data"
    }
   ],
   "source": [
    "plt.figure(figsize=(15, 8))\n",
    "sns.barplot(x = avg_stats_by_primary_type_defense.index, y = avg_stats_by_primary_type_defense.Defense)"
   ]
  },
  {
   "cell_type": "code",
   "execution_count": 228,
   "id": "ee0dbc22-fc39-4c34-a034-1ba6cdb279f8",
   "metadata": {},
   "outputs": [],
   "source": [
    "avg_stats_by_primary_type_sp_attack = avg_stats_by_primary_type.sort_values('Sp. Atk', ascending=False)"
   ]
  },
  {
   "cell_type": "code",
   "execution_count": 229,
   "id": "df8d9940-91ae-46cb-91ad-b6dca94f78a5",
   "metadata": {},
   "outputs": [
    {
     "data": {
      "text/plain": [
       "<AxesSubplot:xlabel='Type 1', ylabel='Sp. Atk'>"
      ]
     },
     "execution_count": 229,
     "metadata": {},
     "output_type": "execute_result"
    },
    {
     "data": {
      "image/png": "[encoded data removed]",
      "text/plain": [
       "<Figure size 1080x576 with 1 Axes>"
      ]
     },
     "metadata": {
      "needs_background": "light"
     },
     "output_type": "display_data"
    }
   ],
   "source": [
    "plt.figure(figsize=(15, 8))\n",
    "sns.barplot(x = avg_stats_by_primary_type_sp_attack.index, y = avg_stats_by_primary_type_sp_attack['Sp. Atk'])"
   ]
  },
  {
   "cell_type": "code",
   "execution_count": 230,
   "id": "48535401-40b0-4c0c-94be-d5b1a6cf7436",
   "metadata": {},
   "outputs": [],
   "source": [
    "avg_stats_by_primary_type_sp_defense = avg_stats_by_primary_type.sort_values('Sp. Def', ascending=False)"
   ]
  },
  {
   "cell_type": "code",
   "execution_count": 231,
   "id": "47a249c4-29dc-490b-aebf-7c13b6b63985",
   "metadata": {},
   "outputs": [
    {
     "data": {
      "text/plain": [
       "<AxesSubplot:xlabel='Type 1', ylabel='Sp. Def'>"
      ]
     },
     "execution_count": 231,
     "metadata": {},
     "output_type": "execute_result"
    },
    {
     "data": {
      "image/png": "[encoded data removed]",
      "text/plain": [
       "<Figure size 1080x576 with 1 Axes>"
      ]
     },
     "metadata": {
      "needs_background": "light"
     },
     "output_type": "display_data"
    }
   ],
   "source": [
    "plt.figure(figsize=(15, 8))\n",
    "sns.barplot(x = avg_stats_by_primary_type_sp_defense.index, y = avg_stats_by_primary_type_sp_defense['Sp. Def'])"
   ]
  },
  {
   "cell_type": "code",
   "execution_count": 232,
   "id": "150f3fbc-bc54-4e51-94a4-7449bb5b7882",
   "metadata": {},
   "outputs": [],
   "source": [
    "avg_stats_by_primary_type_speed = avg_stats_by_primary_type.sort_values('Speed', ascending=False)"
   ]
  },
  {
   "cell_type": "code",
   "execution_count": 233,
   "id": "49e5683a-a32e-4cb7-9ba2-816ce3f09645",
   "metadata": {},
   "outputs": [
    {
     "data": {
      "text/plain": [
       "<AxesSubplot:xlabel='Type 1', ylabel='Speed'>"
      ]
     },
     "execution_count": 233,
     "metadata": {},
     "output_type": "execute_result"
    },
    {
     "data": {
      "image/png": "[encoded data removed]",
      "text/plain": [
       "<Figure size 1080x576 with 1 Axes>"
      ]
     },
     "metadata": {
      "needs_background": "light"
     },
     "output_type": "display_data"
    }
   ],
   "source": [
    "plt.figure(figsize=(15, 8))\n",
    "sns.barplot(x = avg_stats_by_primary_type_speed.index, y = avg_stats_by_primary_type_speed.Speed)"
   ]
  },
  {
   "cell_type": "markdown",
   "id": "c031dc07-44d9-4f01-97ba-000a28693745",
   "metadata": {},
   "source": [
    "## Lets look at Fire vs Water"
   ]
  },
  {
   "cell_type": "code",
   "execution_count": 246,
   "id": "16003be6-7b87-4c99-b678-5e0a5ad6f5c9",
   "metadata": {},
   "outputs": [
    {
     "data": {
      "image/png": "[encoded data removed]",
      "text/plain": [
       "<Figure size 864x432 with 1 Axes>"
      ]
     },
     "metadata": {
      "needs_background": "light"
     },
     "output_type": "display_data"
    }
   ],
   "source": [
    "fire=df1[(df1['Type 1']=='Fire') | ((df1['Type 2'])==\"Fire\")] \n",
    "water=df1[(df1['Type 1']=='Water') | ((df1['Type 2'])==\"Water\")]\n",
    "plt.scatter(fire.Attack.head(100),fire.Defense.head(100),c='red',label='Fire',marker=\"*\",s=25)\n",
    "plt.scatter(water.Attack.head(100),water.Defense.head(100),c='blue',label=\"Water\",s=20)\n",
    "plt.xlabel(\"Attack\")\n",
    "plt.ylabel(\"Defense\")\n",
    "fire_avg_attack = fire.Attack.mean()\n",
    "fire_avg_defense = fire.Defense.mean()\n",
    "plt.axhline(fire_avg_attack, label='Fire Attack Average', c = 'tomato')\n",
    "plt.axvline(fire_avg_defense, label='Fire Defense Average', c = 'tomato')\n",
    "water_avg_attack = water.Attack.mean()\n",
    "water_avg_defense = water.Defense.mean()\n",
    "plt.axhline(water_avg_attack, label='Water Attack Average', c = 'skyblue')\n",
    "plt.axvline(water_avg_defense, label='Water Defense Average', c = 'skyblue')\n",
    "plt.legend()\n",
    "plt.plot()\n",
    "fig=plt.gcf()  #get the current figure using .gcf()\n",
    "fig.set_size_inches(12,6) #set the size for the figure\n",
    "plt.show()"
   ]
  },
  {
   "cell_type": "markdown",
   "id": "cdceb2cc-637b-4ef1-86b1-81c93a8b2482",
   "metadata": {},
   "source": [
    "## Dragon vs Bug (Highest avg total stats vs lowest avg total stats)"
   ]
  },
  {
   "cell_type": "code",
   "execution_count": 247,
   "id": "ee874783-2729-4ce0-b949-b63bbaa4e710",
   "metadata": {},
   "outputs": [
    {
     "data": {
      "image/png": "[encoded data removed]",
      "text/plain": [
       "<Figure size 864x432 with 1 Axes>"
      ]
     },
     "metadata": {
      "needs_background": "light"
     },
     "output_type": "display_data"
    }
   ],
   "source": [
    "dragon=df1[(df1['Type 1']=='Dragon') | ((df1['Type 2'])==\"Dragon\")] \n",
    "bug=df1[(df1['Type 1']=='Bug') | ((df1['Type 2'])==\"Bug\")]\n",
    "plt.scatter(dragon.Attack.head(100),dragon.Defense.head(100),c='mediumblue',label='Dragon',marker=\"*\",s=25)\n",
    "plt.scatter(bug.Attack.head(100),bug.Defense.head(100),c='olivedrab',label=\"Bug\",s=20)\n",
    "plt.xlabel(\"Attack\")\n",
    "plt.ylabel(\"Defense\")\n",
    "dragon_avg_attack = dragon.Attack.mean()\n",
    "dragon_avg_defense = dragon.Defense.mean()\n",
    "plt.axhline(dragon_avg_attack, label='Dragon Attack Average', c = 'royalblue')\n",
    "plt.axvline(dragon_avg_defense, label='Dragon Defense Average', c = 'royalblue')\n",
    "bug_avg_attack = bug.Attack.mean()\n",
    "bug_avg_defense = bug.Defense.mean()\n",
    "plt.axhline(bug_avg_attack, label='Bug Attack Average', c = 'yellowgreen')\n",
    "plt.axvline(bug_avg_defense, label='Bug Defense Average', c = 'yellowgreen')\n",
    "plt.legend()\n",
    "plt.plot()\n",
    "fig=plt.gcf()  #get the current figure using .gcf()\n",
    "fig.set_size_inches(12,6) #set the size for the figure\n",
    "plt.show()"
   ]
  },
  {
   "cell_type": "markdown",
   "id": "0c785aaf-c35d-4464-873c-aacc8c60f106",
   "metadata": {},
   "source": [
    "## Lets look at stats by gen"
   ]
  },
  {
   "cell_type": "code",
   "execution_count": 248,
   "id": "2864a691-f7d2-43d7-8352-ae7af4185637",
   "metadata": {},
   "outputs": [],
   "source": [
    "avg_stats_by_gen = df1.groupby('Generation').mean()"
   ]
  },
  {
   "cell_type": "code",
   "execution_count": 249,
   "id": "dcbde5ca-b64d-454c-aea6-5920591251a3",
   "metadata": {},
   "outputs": [
    {
     "data": {
      "text/html": [
       "<div>\n",
       "<style scoped>\n",
       "    .dataframe tbody tr th:only-of-type {\n",
       "        vertical-align: middle;\n",
       "    }\n",
       "\n",
       "    .dataframe tbody tr th {\n",
       "        vertical-align: top;\n",
       "    }\n",
       "\n",
       "    .dataframe thead th {\n",
       "        text-align: right;\n",
       "    }\n",
       "</style>\n",
       "<table border=\"1\" class=\"dataframe\">\n",
       "  <thead>\n",
       "    <tr style=\"text-align: right;\">\n",
       "      <th></th>\n",
       "      <th>#</th>\n",
       "      <th>Total</th>\n",
       "      <th>HP</th>\n",
       "      <th>Attack</th>\n",
       "      <th>Defense</th>\n",
       "      <th>Sp. Atk</th>\n",
       "      <th>Sp. Def</th>\n",
       "      <th>Speed</th>\n",
       "      <th>Legendary</th>\n",
       "    </tr>\n",
       "    <tr>\n",
       "      <th>Generation</th>\n",
       "      <th></th>\n",
       "      <th></th>\n",
       "      <th></th>\n",
       "      <th></th>\n",
       "      <th></th>\n",
       "      <th></th>\n",
       "      <th></th>\n",
       "      <th></th>\n",
       "      <th></th>\n",
       "    </tr>\n",
       "  </thead>\n",
       "  <tbody>\n",
       "    <tr>\n",
       "      <th>1</th>\n",
       "      <td>75.819277</td>\n",
       "      <td>426.813253</td>\n",
       "      <td>65.819277</td>\n",
       "      <td>76.638554</td>\n",
       "      <td>70.861446</td>\n",
       "      <td>71.819277</td>\n",
       "      <td>69.090361</td>\n",
       "      <td>72.584337</td>\n",
       "      <td>0.036145</td>\n",
       "    </tr>\n",
       "    <tr>\n",
       "      <th>2</th>\n",
       "      <td>202.283019</td>\n",
       "      <td>418.283019</td>\n",
       "      <td>71.207547</td>\n",
       "      <td>72.028302</td>\n",
       "      <td>73.386792</td>\n",
       "      <td>65.943396</td>\n",
       "      <td>73.905660</td>\n",
       "      <td>61.811321</td>\n",
       "      <td>0.047170</td>\n",
       "    </tr>\n",
       "    <tr>\n",
       "      <th>3</th>\n",
       "      <td>321.968750</td>\n",
       "      <td>436.225000</td>\n",
       "      <td>66.543750</td>\n",
       "      <td>81.625000</td>\n",
       "      <td>74.100000</td>\n",
       "      <td>75.806250</td>\n",
       "      <td>71.225000</td>\n",
       "      <td>66.925000</td>\n",
       "      <td>0.112500</td>\n",
       "    </tr>\n",
       "    <tr>\n",
       "      <th>4</th>\n",
       "      <td>442.446281</td>\n",
       "      <td>459.016529</td>\n",
       "      <td>73.082645</td>\n",
       "      <td>82.867769</td>\n",
       "      <td>78.132231</td>\n",
       "      <td>76.404959</td>\n",
       "      <td>77.190083</td>\n",
       "      <td>71.338843</td>\n",
       "      <td>0.107438</td>\n",
       "    </tr>\n",
       "    <tr>\n",
       "      <th>5</th>\n",
       "      <td>574.272727</td>\n",
       "      <td>434.987879</td>\n",
       "      <td>71.787879</td>\n",
       "      <td>82.066667</td>\n",
       "      <td>72.327273</td>\n",
       "      <td>71.987879</td>\n",
       "      <td>68.739394</td>\n",
       "      <td>68.078788</td>\n",
       "      <td>0.090909</td>\n",
       "    </tr>\n",
       "  </tbody>\n",
       "</table>\n",
       "</div>"
      ],
      "text/plain": [
       "                     #       Total         HP     Attack    Defense  \\\n",
       "Generation                                                            \n",
       "1            75.819277  426.813253  65.819277  76.638554  70.861446   \n",
       "2           202.283019  418.283019  71.207547  72.028302  73.386792   \n",
       "3           321.968750  436.225000  66.543750  81.625000  74.100000   \n",
       "4           442.446281  459.016529  73.082645  82.867769  78.132231   \n",
       "5           574.272727  434.987879  71.787879  82.066667  72.327273   \n",
       "\n",
       "              Sp. Atk    Sp. Def      Speed  Legendary  \n",
       "Generation                                              \n",
       "1           71.819277  69.090361  72.584337   0.036145  \n",
       "2           65.943396  73.905660  61.811321   0.047170  \n",
       "3           75.806250  71.225000  66.925000   0.112500  \n",
       "4           76.404959  77.190083  71.338843   0.107438  \n",
       "5           71.987879  68.739394  68.078788   0.090909  "
      ]
     },
     "execution_count": 249,
     "metadata": {},
     "output_type": "execute_result"
    }
   ],
   "source": [
    "avg_stats_by_gen.head()"
   ]
  },
  {
   "cell_type": "code",
   "execution_count": 251,
   "id": "9cdd4ff7-0df4-42fc-a7f6-fc029fd751be",
   "metadata": {},
   "outputs": [
    {
     "data": {
      "text/html": [
       "<div>\n",
       "<style scoped>\n",
       "    .dataframe tbody tr th:only-of-type {\n",
       "        vertical-align: middle;\n",
       "    }\n",
       "\n",
       "    .dataframe tbody tr th {\n",
       "        vertical-align: top;\n",
       "    }\n",
       "\n",
       "    .dataframe thead th {\n",
       "        text-align: right;\n",
       "    }\n",
       "</style>\n",
       "<table border=\"1\" class=\"dataframe\">\n",
       "  <thead>\n",
       "    <tr style=\"text-align: right;\">\n",
       "      <th></th>\n",
       "      <th>#</th>\n",
       "      <th>Pokemon</th>\n",
       "      <th>Type 1</th>\n",
       "      <th>Type 2</th>\n",
       "      <th>Total</th>\n",
       "      <th>HP</th>\n",
       "      <th>Attack</th>\n",
       "      <th>Defense</th>\n",
       "      <th>Sp. Atk</th>\n",
       "      <th>Sp. Def</th>\n",
       "      <th>Speed</th>\n",
       "      <th>Generation</th>\n",
       "      <th>Legendary</th>\n",
       "    </tr>\n",
       "  </thead>\n",
       "  <tbody>\n",
       "    <tr>\n",
       "      <th>0</th>\n",
       "      <td>1</td>\n",
       "      <td>Bulbasaur</td>\n",
       "      <td>Grass</td>\n",
       "      <td>Poison</td>\n",
       "      <td>318</td>\n",
       "      <td>45</td>\n",
       "      <td>49</td>\n",
       "      <td>49</td>\n",
       "      <td>65</td>\n",
       "      <td>65</td>\n",
       "      <td>45</td>\n",
       "      <td>1</td>\n",
       "      <td>False</td>\n",
       "    </tr>\n",
       "    <tr>\n",
       "      <th>1</th>\n",
       "      <td>2</td>\n",
       "      <td>Ivysaur</td>\n",
       "      <td>Grass</td>\n",
       "      <td>Poison</td>\n",
       "      <td>405</td>\n",
       "      <td>60</td>\n",
       "      <td>62</td>\n",
       "      <td>63</td>\n",
       "      <td>80</td>\n",
       "      <td>80</td>\n",
       "      <td>60</td>\n",
       "      <td>1</td>\n",
       "      <td>False</td>\n",
       "    </tr>\n",
       "    <tr>\n",
       "      <th>2</th>\n",
       "      <td>3</td>\n",
       "      <td>Venusaur</td>\n",
       "      <td>Grass</td>\n",
       "      <td>Poison</td>\n",
       "      <td>525</td>\n",
       "      <td>80</td>\n",
       "      <td>82</td>\n",
       "      <td>83</td>\n",
       "      <td>100</td>\n",
       "      <td>100</td>\n",
       "      <td>80</td>\n",
       "      <td>1</td>\n",
       "      <td>False</td>\n",
       "    </tr>\n",
       "    <tr>\n",
       "      <th>3</th>\n",
       "      <td>3</td>\n",
       "      <td>Mega Venusaur</td>\n",
       "      <td>Grass</td>\n",
       "      <td>Poison</td>\n",
       "      <td>625</td>\n",
       "      <td>80</td>\n",
       "      <td>100</td>\n",
       "      <td>123</td>\n",
       "      <td>122</td>\n",
       "      <td>120</td>\n",
       "      <td>80</td>\n",
       "      <td>1</td>\n",
       "      <td>False</td>\n",
       "    </tr>\n",
       "    <tr>\n",
       "      <th>4</th>\n",
       "      <td>4</td>\n",
       "      <td>Charmander</td>\n",
       "      <td>Fire</td>\n",
       "      <td>NaN</td>\n",
       "      <td>309</td>\n",
       "      <td>39</td>\n",
       "      <td>52</td>\n",
       "      <td>43</td>\n",
       "      <td>60</td>\n",
       "      <td>50</td>\n",
       "      <td>65</td>\n",
       "      <td>1</td>\n",
       "      <td>False</td>\n",
       "    </tr>\n",
       "  </tbody>\n",
       "</table>\n",
       "</div>"
      ],
      "text/plain": [
       "   #        Pokemon Type 1  Type 2  Total  HP  Attack  Defense  Sp. Atk  \\\n",
       "0  1      Bulbasaur  Grass  Poison    318  45      49       49       65   \n",
       "1  2        Ivysaur  Grass  Poison    405  60      62       63       80   \n",
       "2  3       Venusaur  Grass  Poison    525  80      82       83      100   \n",
       "3  3  Mega Venusaur  Grass  Poison    625  80     100      123      122   \n",
       "4  4     Charmander   Fire     NaN    309  39      52       43       60   \n",
       "\n",
       "   Sp. Def  Speed  Generation  Legendary  \n",
       "0       65     45           1      False  \n",
       "1       80     60           1      False  \n",
       "2      100     80           1      False  \n",
       "3      120     80           1      False  \n",
       "4       50     65           1      False  "
      ]
     },
     "execution_count": 251,
     "metadata": {},
     "output_type": "execute_result"
    }
   ],
   "source": [
    "df1.head()"
   ]
  },
  {
   "cell_type": "code",
   "execution_count": 265,
   "id": "85433000-99d1-439e-887f-d1e64756376b",
   "metadata": {},
   "outputs": [
    {
     "data": {
      "text/plain": [
       "<AxesSubplot:xlabel='Type 1', ylabel='Total'>"
      ]
     },
     "execution_count": 265,
     "metadata": {},
     "output_type": "execute_result"
    },
    {
     "data": {
      "image/png": "[encoded data removed]",
      "text/plain": [
       "<Figure size 1080x432 with 1 Axes>"
      ]
     },
     "metadata": {
      "needs_background": "light"
     },
     "output_type": "display_data"
    }
   ],
   "source": [
    "plt.figure(figsize=(15, 6))\n",
    "sns.lineplot(data=df1, x=\"Type 1\", y=\"Total\", hue=\"Generation\", ci=None, palette='hls', style=\"Generation\", markers=True)\n"
   ]
  },
  {
   "cell_type": "code",
   "execution_count": 266,
   "id": "d7c712a5-18f3-4ad4-beba-8c15add7010f",
   "metadata": {},
   "outputs": [
    {
     "data": {
      "text/plain": [
       "<AxesSubplot:xlabel='Type 2', ylabel='Total'>"
      ]
     },
     "execution_count": 266,
     "metadata": {},
     "output_type": "execute_result"
    },
    {
     "data": {
      "image/png": "[encoded data removed]",
      "text/plain": [
       "<Figure size 1080x432 with 1 Axes>"
      ]
     },
     "metadata": {
      "needs_background": "light"
     },
     "output_type": "display_data"
    }
   ],
   "source": [
    "plt.figure(figsize=(15, 6))\n",
    "sns.lineplot(data=df1, x=\"Type 2\", y=\"Total\", hue=\"Generation\", ci=None, palette='hls', style=\"Generation\", markers=True)\n"
   ]
  },
  {
   "cell_type": "code",
   "execution_count": 281,
   "id": "f1034f67-58bf-4e9a-be56-b86dd4fb223c",
   "metadata": {},
   "outputs": [
    {
     "data": {
      "image/png": "[encoded data removed]",
      "text/plain": [
       "<Figure size 1080x576 with 1 Axes>"
      ]
     },
     "metadata": {
      "needs_background": "light"
     },
     "output_type": "display_data"
    }
   ],
   "source": [
    "plt.figure(figsize=(15,8))\n",
    "sns.swarmplot(x='Type 1',y='Total',data=df1,hue='Legendary') # this plot shows the points belonging to individual pokemons\n",
    "plt.axhline(df1['Total'].mean(),color='red',linestyle='dashed')\n",
    "plt.show()"
   ]
  },
  {
   "cell_type": "code",
   "execution_count": 287,
   "id": "9d4008da-a787-47f1-aac2-238aa362130e",
   "metadata": {},
   "outputs": [
    {
     "data": {
      "text/plain": [
       "Water       14.0\n",
       "Normal      12.2\n",
       "Grass        8.8\n",
       "Bug          8.6\n",
       "Psychic      7.1\n",
       "Fire         6.5\n",
       "Electric     5.5\n",
       "Rock         5.5\n",
       "Dragon       4.0\n",
       "Ground       4.0\n",
       "Ghost        4.0\n",
       "Dark         3.9\n",
       "Poison       3.5\n",
       "Steel        3.4\n",
       "Fighting     3.4\n",
       "Ice          3.0\n",
       "Fairy        2.1\n",
       "Flying       0.5\n",
       "Name: Type 1, dtype: float64"
      ]
     },
     "execution_count": 287,
     "metadata": {},
     "output_type": "execute_result"
    }
   ],
   "source": [
    "df1['Type 1'].value_counts(normalize= True).round(3)*100"
   ]
  },
  {
   "cell_type": "code",
   "execution_count": 293,
   "id": "cf15b743-df67-46d9-9f14-4d449cfc23c7",
   "metadata": {},
   "outputs": [
    {
     "data": {
      "image/png": "[encoded data removed]",
      "text/plain": [
       "<Figure size 504x504 with 1 Axes>"
      ]
     },
     "metadata": {},
     "output_type": "display_data"
    }
   ],
   "source": [
    "#define data\n",
    "labels = ['Water', 'Normal', 'Grass', 'Bug', 'Psychic', 'Fire', 'Electric', 'Rock', 'Dragon', 'Ground',\n",
    "          'Ghost', 'Dark', 'Poison', 'Steel', 'Fighting', 'Ice', 'Fairy', 'Flying']\n",
    "\n",
    "data = [14.0, 12.2, 8.8, 8.6, 7.1, 6.5, 5.5, 5.5, 4.0, 4.0, 4.0, 3.9, 3.5, 3.4, 3.4, 3.0, 2.1, 0.5]\n",
    "explode = (0, 0, 0, 0, 0, 0, 0, 0, 0, 0, 0, 0.1, 0.1, 0.1, 0.1,0.1, 0.1, 0.1)  # only \"explode\" the 3rd slice \n",
    "\n",
    "#define Seaborn color palette to use\n",
    "colors = sns.color_palette('pastel')[0:18]\n",
    "\n",
    "#create pie chart\n",
    "plt.pie(data, labels = labels, colors = colors, autopct='%.1f%%', explode=explode)\n",
    "plt.axis('equal')\n",
    "plt.title(\"Percentage of Different Primary Types of Pokemon\")\n",
    "plt.plot()\n",
    "fig=plt.gcf()\n",
    "fig.set_size_inches(7,7)\n",
    "plt.show()\n"
   ]
  },
  {
   "cell_type": "code",
   "execution_count": 294,
   "id": "a2885385-1dd6-43b1-8f88-a5bfbc53bf20",
   "metadata": {},
   "outputs": [
    {
     "data": {
      "text/plain": [
       "Flying      23.4\n",
       "Ground       8.5\n",
       "Poison       8.2\n",
       "Psychic      8.0\n",
       "Fighting     6.3\n",
       "Grass        6.0\n",
       "Fairy        5.6\n",
       "Steel        5.3\n",
       "Dark         4.8\n",
       "Dragon       4.3\n",
       "Water        3.4\n",
       "Ghost        3.4\n",
       "Ice          3.4\n",
       "Rock         3.4\n",
       "Fire         2.9\n",
       "Electric     1.4\n",
       "Normal       1.0\n",
       "Bug          0.7\n",
       "Name: Type 2, dtype: float64"
      ]
     },
     "execution_count": 294,
     "metadata": {},
     "output_type": "execute_result"
    }
   ],
   "source": [
    "df1['Type 2'].value_counts(normalize= True).round(3)*100"
   ]
  },
  {
   "cell_type": "code",
   "execution_count": 295,
   "id": "1d6e305a-df29-4af6-9e3d-79dbeb5acfba",
   "metadata": {},
   "outputs": [
    {
     "data": {
      "image/png": "[encoded data removed]",
      "text/plain": [
       "<Figure size 504x504 with 1 Axes>"
      ]
     },
     "metadata": {},
     "output_type": "display_data"
    }
   ],
   "source": [
    "#define data\n",
    "labels = ['Flying', 'Ground', 'Poison', 'Psychic', 'Fighting', 'Grass', 'Fairy', 'Steel', 'Dark', 'Dragon',\n",
    "          'Water', 'Ghost', 'Ice', 'Rock', 'Fire', 'Electric', 'Normal', 'Bug']\n",
    "\n",
    "data = [23.4, 8.5, 8.2, 8.0, 6.3, 6.0, 5.6, 5.3, 4.8, 4.3, 3.4, 3.4, 3.4, 3.4, 2.9, 1.4, 1.0, 0.7]\n",
    "explode = (0, 0, 0, 0, 0, 0, 0, 0, 0, 0, 0, 0.1, 0.1, 0.1, 0.1,0.1, 0.1, 0.1)  # only \"explode\" the 3rd slice \n",
    "\n",
    "#define Seaborn color palette to use\n",
    "colors = sns.color_palette('pastel')[0:18]\n",
    "\n",
    "#create pie chart\n",
    "plt.pie(data, labels = labels, colors = colors, autopct='%.1f%%', explode=explode)\n",
    "plt.axis('equal')\n",
    "plt.title(\"Percentage of Different Secondary Types of Pokemon\")\n",
    "plt.plot()\n",
    "fig=plt.gcf()\n",
    "fig.set_size_inches(7,7)\n",
    "plt.show()\n"
   ]
  },
  {
   "cell_type": "markdown",
   "id": "b60208b6-24ad-4793-8be8-8ff4f48a4232",
   "metadata": {},
   "source": [
    "## There's new data for pokemon go, lets read in the new CSV"
   ]
  },
  {
   "cell_type": "code",
   "execution_count": 297,
   "id": "ffc0cb75-2a06-4341-be2e-6004af9708e5",
   "metadata": {},
   "outputs": [],
   "source": [
    "df2 = pd.read_csv('comprehensive_dps_updated.csv')"
   ]
  },
  {
   "cell_type": "code",
   "execution_count": 298,
   "id": "03b71071-aad6-49d3-809a-7c716ca70d12",
   "metadata": {},
   "outputs": [
    {
     "data": {
      "text/html": [
       "<div>\n",
       "<style scoped>\n",
       "    .dataframe tbody tr th:only-of-type {\n",
       "        vertical-align: middle;\n",
       "    }\n",
       "\n",
       "    .dataframe tbody tr th {\n",
       "        vertical-align: top;\n",
       "    }\n",
       "\n",
       "    .dataframe thead th {\n",
       "        text-align: right;\n",
       "    }\n",
       "</style>\n",
       "<table border=\"1\" class=\"dataframe\">\n",
       "  <thead>\n",
       "    <tr style=\"text-align: right;\">\n",
       "      <th></th>\n",
       "      <th>Pokemon</th>\n",
       "      <th>Fast Move</th>\n",
       "      <th>Charged Move</th>\n",
       "      <th>DPS</th>\n",
       "      <th>TDO</th>\n",
       "      <th>ER</th>\n",
       "      <th>CP</th>\n",
       "    </tr>\n",
       "  </thead>\n",
       "  <tbody>\n",
       "    <tr>\n",
       "      <th>0</th>\n",
       "      <td>Mega Mewtwo Y</td>\n",
       "      <td>Confusion</td>\n",
       "      <td>Psystrike</td>\n",
       "      <td>26.355</td>\n",
       "      <td>999.7</td>\n",
       "      <td>65.41</td>\n",
       "      <td>5610</td>\n",
       "    </tr>\n",
       "    <tr>\n",
       "      <th>1</th>\n",
       "      <td>Mega Mewtwo Y</td>\n",
       "      <td>Psycho Cut</td>\n",
       "      <td>Psystrike</td>\n",
       "      <td>26.207</td>\n",
       "      <td>994.1</td>\n",
       "      <td>65.04</td>\n",
       "      <td>5610</td>\n",
       "    </tr>\n",
       "    <tr>\n",
       "      <th>2</th>\n",
       "      <td>Mega Mewtwo X</td>\n",
       "      <td>Confusion</td>\n",
       "      <td>Psystrike</td>\n",
       "      <td>25.513</td>\n",
       "      <td>967.8</td>\n",
       "      <td>63.32</td>\n",
       "      <td>5429</td>\n",
       "    </tr>\n",
       "    <tr>\n",
       "      <th>3</th>\n",
       "      <td>Shadow Mewtwo</td>\n",
       "      <td>Confusion</td>\n",
       "      <td>Psystrike</td>\n",
       "      <td>25.400</td>\n",
       "      <td>662.7</td>\n",
       "      <td>57.41</td>\n",
       "      <td>4178</td>\n",
       "    </tr>\n",
       "    <tr>\n",
       "      <th>4</th>\n",
       "      <td>Mega Mewtwo X</td>\n",
       "      <td>Psycho Cut</td>\n",
       "      <td>Psystrike</td>\n",
       "      <td>25.380</td>\n",
       "      <td>962.8</td>\n",
       "      <td>62.99</td>\n",
       "      <td>5429</td>\n",
       "    </tr>\n",
       "  </tbody>\n",
       "</table>\n",
       "</div>"
      ],
      "text/plain": [
       "         Pokemon   Fast Move Charged Move     DPS    TDO     ER    CP\n",
       "0  Mega Mewtwo Y   Confusion    Psystrike  26.355  999.7  65.41  5610\n",
       "1  Mega Mewtwo Y  Psycho Cut    Psystrike  26.207  994.1  65.04  5610\n",
       "2  Mega Mewtwo X   Confusion    Psystrike  25.513  967.8  63.32  5429\n",
       "3  Shadow Mewtwo   Confusion    Psystrike  25.400  662.7  57.41  4178\n",
       "4  Mega Mewtwo X  Psycho Cut    Psystrike  25.380  962.8  62.99  5429"
      ]
     },
     "execution_count": 298,
     "metadata": {},
     "output_type": "execute_result"
    }
   ],
   "source": [
    "df2.head()"
   ]
  },
  {
   "cell_type": "code",
   "execution_count": 299,
   "id": "3b5a3a31-02a3-475b-adc0-2bfffc7e2a10",
   "metadata": {},
   "outputs": [],
   "source": [
    "df2.rename(columns = {'ER' : 'Battle_Stat'}, inplace = True)"
   ]
  },
  {
   "cell_type": "markdown",
   "id": "f440b4c7-defd-4d02-ac6a-4d4685fa2332",
   "metadata": {},
   "source": [
    "## The old battle stat column used to use a value from the DPS^3*TDO. However it was recently determined that a new metric called ER(Equivalent Rating) is a better representation of the battle potential of a pokemon. This value is calculated from the 4th power root of DPS^3*TDO. This was found by Reddit user u/Elastic_Space"
   ]
  },
  {
   "cell_type": "markdown",
   "id": "f39e4e2c-6887-4692-aa9a-e7f93d3f93dc",
   "metadata": {},
   "source": [
    "## For sake of convience I will still be calling the column Battle_Stat for matching my exsisting code"
   ]
  },
  {
   "cell_type": "code",
   "execution_count": 300,
   "id": "93748d90-0b52-4720-93b5-a859e037b29e",
   "metadata": {},
   "outputs": [],
   "source": [
    "df_best_attack_set = df2.groupby('Pokemon').max('Battle_Stat')"
   ]
  },
  {
   "cell_type": "code",
   "execution_count": 301,
   "id": "bb1406e7-66b0-404e-b3d6-3ae3e8195816",
   "metadata": {},
   "outputs": [],
   "source": [
    "df_best_attack_set = df_best_attack_set.merge(df2, on='Pokemon', how='left')\n",
    "df_best_attack_set = df_best_attack_set[(df_best_attack_set['Battle_Stat_x'] == df_best_attack_set['Battle_Stat_y'])]\n",
    "df_best_attack_set.drop(columns = ['DPS_y', 'TDO_y', 'Battle_Stat_y', 'CP_y'], inplace = True)\n",
    "df_best_attack_set.rename(columns = {'DPS_x' : 'DPS', 'TDO_x' : 'TDO',\n",
    "                                     'Battle_Stat_x' : 'Battle_Stat', 'CP_x' : 'Max_CP_Lv40',\n",
    "                                    'Fast Move' : 'Fast_Move', 'Charged Move' : 'Charged_Move'}, inplace = True)"
   ]
  },
  {
   "cell_type": "code",
   "execution_count": 303,
   "id": "730ad57a-131b-4d14-8aea-e6fdf7f749f8",
   "metadata": {},
   "outputs": [
    {
     "data": {
      "text/html": [
       "<div>\n",
       "<style scoped>\n",
       "    .dataframe tbody tr th:only-of-type {\n",
       "        vertical-align: middle;\n",
       "    }\n",
       "\n",
       "    .dataframe tbody tr th {\n",
       "        vertical-align: top;\n",
       "    }\n",
       "\n",
       "    .dataframe thead th {\n",
       "        text-align: right;\n",
       "    }\n",
       "</style>\n",
       "<table border=\"1\" class=\"dataframe\">\n",
       "  <thead>\n",
       "    <tr style=\"text-align: right;\">\n",
       "      <th></th>\n",
       "      <th>Pokemon</th>\n",
       "      <th>DPS</th>\n",
       "      <th>TDO</th>\n",
       "      <th>Battle_Stat</th>\n",
       "      <th>Max_CP_Lv40</th>\n",
       "      <th>Fast_Move</th>\n",
       "      <th>Charged_Move</th>\n",
       "    </tr>\n",
       "  </thead>\n",
       "  <tbody>\n",
       "    <tr>\n",
       "      <th>0</th>\n",
       "      <td>Flabébé</td>\n",
       "      <td>7.460</td>\n",
       "      <td>99.2</td>\n",
       "      <td>14.25</td>\n",
       "      <td>1063</td>\n",
       "      <td>Vine Whip</td>\n",
       "      <td>Dazzling Gleam</td>\n",
       "    </tr>\n",
       "    <tr>\n",
       "      <th>6</th>\n",
       "      <td>5th Anniversary Pikachu</td>\n",
       "      <td>8.366</td>\n",
       "      <td>81.2</td>\n",
       "      <td>14.77</td>\n",
       "      <td>938</td>\n",
       "      <td>Thunder Shock</td>\n",
       "      <td>Wild Charge</td>\n",
       "    </tr>\n",
       "    <tr>\n",
       "      <th>14</th>\n",
       "      <td>Abomasnow</td>\n",
       "      <td>12.094</td>\n",
       "      <td>322.3</td>\n",
       "      <td>27.48</td>\n",
       "      <td>2362</td>\n",
       "      <td>Razor Leaf</td>\n",
       "      <td>Weather Ball Ice</td>\n",
       "    </tr>\n",
       "    <tr>\n",
       "      <th>24</th>\n",
       "      <td>Abra</td>\n",
       "      <td>11.707</td>\n",
       "      <td>85.1</td>\n",
       "      <td>19.22</td>\n",
       "      <td>1342</td>\n",
       "      <td>Zen Headbutt</td>\n",
       "      <td>Psyshock</td>\n",
       "    </tr>\n",
       "    <tr>\n",
       "      <th>32</th>\n",
       "      <td>Absol</td>\n",
       "      <td>15.134</td>\n",
       "      <td>252.4</td>\n",
       "      <td>30.58</td>\n",
       "      <td>2526</td>\n",
       "      <td>Snarl</td>\n",
       "      <td>Return</td>\n",
       "    </tr>\n",
       "  </tbody>\n",
       "</table>\n",
       "</div>"
      ],
      "text/plain": [
       "                    Pokemon     DPS    TDO  Battle_Stat  Max_CP_Lv40  \\\n",
       "0                   Flabébé   7.460   99.2        14.25         1063   \n",
       "6   5th Anniversary Pikachu   8.366   81.2        14.77          938   \n",
       "14                Abomasnow  12.094  322.3        27.48         2362   \n",
       "24                     Abra  11.707   85.1        19.22         1342   \n",
       "32                    Absol  15.134  252.4        30.58         2526   \n",
       "\n",
       "        Fast_Move      Charged_Move  \n",
       "0       Vine Whip    Dazzling Gleam  \n",
       "6   Thunder Shock       Wild Charge  \n",
       "14     Razor Leaf  Weather Ball Ice  \n",
       "24   Zen Headbutt          Psyshock  \n",
       "32          Snarl            Return  "
      ]
     },
     "execution_count": 303,
     "metadata": {},
     "output_type": "execute_result"
    }
   ],
   "source": [
    "df_best_attack_set.head()"
   ]
  },
  {
   "cell_type": "code",
   "execution_count": 304,
   "id": "3c5879cc-c30b-4a5b-a422-2cc0f3a54ce3",
   "metadata": {},
   "outputs": [
    {
     "data": {
      "text/plain": [
       "Pokemon         0\n",
       "DPS             0\n",
       "TDO             0\n",
       "Battle_Stat     0\n",
       "Max_CP_Lv40     0\n",
       "Fast_Move       0\n",
       "Charged_Move    0\n",
       "dtype: int64"
      ]
     },
     "execution_count": 304,
     "metadata": {},
     "output_type": "execute_result"
    }
   ],
   "source": [
    "df_best_attack_set.isnull().sum()"
   ]
  },
  {
   "cell_type": "code",
   "execution_count": 305,
   "id": "296950c0-6077-418f-a9dc-72e07c8d831e",
   "metadata": {},
   "outputs": [],
   "source": [
    "df_S_tier_attackers = df_best_attack_set[(df_best_attack_set.Pokemon == 'Kartana') | (df_best_attack_set.Pokemon == 'Terrakion') |\n",
    "                  (df_best_attack_set.Pokemon == 'Shadow Metagross') | (df_best_attack_set.Pokemon == 'Shadow Machamp') |\n",
    "                  (df_best_attack_set.Pokemon == 'Shadow Mewtwo') | (df_best_attack_set.Pokemon == 'Shadow Salamence') |\n",
    "                  (df_best_attack_set.Pokemon == 'Shadow Dragonite') | (df_best_attack_set.Pokemon == 'Mega Latios') |\n",
    "                  (df_best_attack_set.Pokemon == 'Shadow Gengar') | (df_best_attack_set.Pokemon == 'Mega Charizard Y') |\n",
    "                  (df_best_attack_set.Pokemon == 'Shadow Mamoswine')]"
   ]
  },
  {
   "cell_type": "code",
   "execution_count": 306,
   "id": "1600ddb8-f302-435d-96f9-bfd6f74f7e85",
   "metadata": {},
   "outputs": [
    {
     "data": {
      "text/html": [
       "<div>\n",
       "<style scoped>\n",
       "    .dataframe tbody tr th:only-of-type {\n",
       "        vertical-align: middle;\n",
       "    }\n",
       "\n",
       "    .dataframe tbody tr th {\n",
       "        vertical-align: top;\n",
       "    }\n",
       "\n",
       "    .dataframe thead th {\n",
       "        text-align: right;\n",
       "    }\n",
       "</style>\n",
       "<table border=\"1\" class=\"dataframe\">\n",
       "  <thead>\n",
       "    <tr style=\"text-align: right;\">\n",
       "      <th></th>\n",
       "      <th>Pokemon</th>\n",
       "      <th>DPS</th>\n",
       "      <th>TDO</th>\n",
       "      <th>Battle_Stat</th>\n",
       "      <th>Max_CP_Lv40</th>\n",
       "      <th>Fast_Move</th>\n",
       "      <th>Charged_Move</th>\n",
       "    </tr>\n",
       "  </thead>\n",
       "  <tbody>\n",
       "    <tr>\n",
       "      <th>9972</th>\n",
       "      <td>Shadow Mewtwo</td>\n",
       "      <td>25.4</td>\n",
       "      <td>662.7</td>\n",
       "      <td>57.41</td>\n",
       "      <td>4178</td>\n",
       "      <td>Confusion</td>\n",
       "      <td>Psystrike</td>\n",
       "    </tr>\n",
       "  </tbody>\n",
       "</table>\n",
       "</div>"
      ],
      "text/plain": [
       "            Pokemon   DPS    TDO  Battle_Stat  Max_CP_Lv40  Fast_Move  \\\n",
       "9972  Shadow Mewtwo  25.4  662.7        57.41         4178  Confusion   \n",
       "\n",
       "     Charged_Move  \n",
       "9972    Psystrike  "
      ]
     },
     "execution_count": 306,
     "metadata": {},
     "output_type": "execute_result"
    }
   ],
   "source": [
    "df_S_tier_attackers[df_S_tier_attackers.Battle_Stat == df_S_tier_attackers.Battle_Stat.max()]"
   ]
  },
  {
   "cell_type": "code",
   "execution_count": 307,
   "id": "0ee8cef3-e912-4e18-923d-005f41547533",
   "metadata": {},
   "outputs": [
    {
     "data": {
      "text/html": [
       "<div>\n",
       "<style scoped>\n",
       "    .dataframe tbody tr th:only-of-type {\n",
       "        vertical-align: middle;\n",
       "    }\n",
       "\n",
       "    .dataframe tbody tr th {\n",
       "        vertical-align: top;\n",
       "    }\n",
       "\n",
       "    .dataframe thead th {\n",
       "        text-align: right;\n",
       "    }\n",
       "</style>\n",
       "<table border=\"1\" class=\"dataframe\">\n",
       "  <thead>\n",
       "    <tr style=\"text-align: right;\">\n",
       "      <th></th>\n",
       "      <th>Pokemon</th>\n",
       "      <th>DPS</th>\n",
       "      <th>TDO</th>\n",
       "      <th>Battle_Stat</th>\n",
       "      <th>Max_CP_Lv40</th>\n",
       "      <th>Fast_Move</th>\n",
       "      <th>Charged_Move</th>\n",
       "    </tr>\n",
       "  </thead>\n",
       "  <tbody>\n",
       "    <tr>\n",
       "      <th>9745</th>\n",
       "      <td>Shadow Machamp</td>\n",
       "      <td>19.65</td>\n",
       "      <td>439.0</td>\n",
       "      <td>42.72</td>\n",
       "      <td>3056</td>\n",
       "      <td>Counter</td>\n",
       "      <td>Dynamic Punch</td>\n",
       "    </tr>\n",
       "  </tbody>\n",
       "</table>\n",
       "</div>"
      ],
      "text/plain": [
       "             Pokemon    DPS    TDO  Battle_Stat  Max_CP_Lv40 Fast_Move  \\\n",
       "9745  Shadow Machamp  19.65  439.0        42.72         3056   Counter   \n",
       "\n",
       "       Charged_Move  \n",
       "9745  Dynamic Punch  "
      ]
     },
     "execution_count": 307,
     "metadata": {},
     "output_type": "execute_result"
    }
   ],
   "source": [
    "df_S_tier_attackers[df_S_tier_attackers.Battle_Stat == df_S_tier_attackers.Battle_Stat.min()]"
   ]
  },
  {
   "cell_type": "code",
   "execution_count": 312,
   "id": "e08d006d-29ee-47de-9b53-685095cce878",
   "metadata": {},
   "outputs": [
    {
     "data": {
      "image/png": "[encoded data removed]",
      "text/plain": [
       "<Figure size 1080x576 with 1 Axes>"
      ]
     },
     "metadata": {
      "needs_background": "light"
     },
     "output_type": "display_data"
    }
   ],
   "source": [
    "plt.figure(figsize=(15, 8))\n",
    "sns.scatterplot(data = df_best_attack_set, x = 'Battle_Stat', y = 'Max_CP_Lv40', s=10)\n",
    "plt.xlim(0, 100)\n",
    "plt.show()"
   ]
  },
  {
   "cell_type": "code",
   "execution_count": null,
   "id": "0301f976-519c-447d-9660-528fc817e1ba",
   "metadata": {},
   "outputs": [],
   "source": []
  }
 ],
 "metadata": {
  "kernelspec": {
   "display_name": "Python 3 (ipykernel)",
   "language": "python",
   "name": "python3"
  },
  "language_info": {
   "codemirror_mode": {
    "name": "ipython",
    "version": 3
   },
   "file_extension": ".py",
   "mimetype": "text/x-python",
   "name": "python",
   "nbconvert_exporter": "python",
   "pygments_lexer": "ipython3",
   "version": "3.9.12"
  }
 },
 "nbformat": 4,
 "nbformat_minor": 5
}
