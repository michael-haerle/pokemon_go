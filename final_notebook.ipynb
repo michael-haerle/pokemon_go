{
 "cells": [
  {
   "cell_type": "markdown",
   "id": "2d9da730-f77f-4091-b07c-9995b9b0af91",
   "metadata": {},
   "source": [
    "<hr style=\"border-top:10px solid Gold; margin-top: 2px; margin-bottom: 0px\">\n",
    "<hr style=\"border-top:10px solid Blue; margin-top: 0px; margin-bottom: 2px\">"
   ]
  },
  {
   "cell_type": "markdown",
   "id": "6fdee1cc-6bca-4004-aa81-3bb196d1167a",
   "metadata": {},
   "source": [
    "# Rediscovering Pokemon GO and the Main Series Games\n"
   ]
  },
  {
   "cell_type": "markdown",
   "id": "b60723e5-3393-4f83-b878-4610f3b5861d",
   "metadata": {},
   "source": [
    "<hr style=\"border-top:10px solid Gold; margin-top: 2px; margin-bottom: 0px\">\n",
    "<hr style=\"border-top:10px solid Blue; margin-top: 0px; margin-bottom: 2px\">"
   ]
  },
  {
   "cell_type": "code",
   "execution_count": 2,
   "id": "6b9a6e2d-b522-45f1-9f1d-78ac57585c00",
   "metadata": {},
   "outputs": [],
   "source": [
    "# Standard imports\n",
    "import pandas as pd\n",
    "# Vis imports\n",
    "import matplotlib.pyplot as plt\n",
    "import seaborn as sns\n",
    "# Stats imports\n",
    "from scipy.stats import spearmanr"
   ]
  },
  {
   "cell_type": "markdown",
   "id": "cc35c36b-5c12-4122-8a35-2ee5261a950c",
   "metadata": {},
   "source": [
    "## Project Goal"
   ]
  },
  {
   "cell_type": "markdown",
   "id": "d76dd557-bf73-47e3-93d8-fbc6e4bd41fe",
   "metadata": {},
   "source": [
    "- To perform exploratory analysis on the Pokemon main series games and mobile game Pokemon GO"
   ]
  },
  {
   "cell_type": "markdown",
   "id": "bd959540-5e2d-413f-82c4-1b225beeeacd",
   "metadata": {},
   "source": [
    "<hr style=\"border-top:10px solid Gold; margin-top: 2px; margin-bottom: 0px\">\n",
    "<hr style=\"border-top:10px solid Blue; margin-top: 0px; margin-bottom: 2px\">"
   ]
  },
  {
   "cell_type": "markdown",
   "id": "0a1ac8f6-3dd4-4548-a1e1-bb7db8becf04",
   "metadata": {},
   "source": [
    "## Acquire and Prepare Data"
   ]
  },
  {
   "cell_type": "markdown",
   "id": "faa78724-2e25-4553-98e7-70daeeff23f1",
   "metadata": {},
   "source": [
    "<hr style=\"border-top:10px solid Gold; margin-top: 2px; margin-bottom: 0px\">\n",
    "<hr style=\"border-top:10px solid Blue; margin-top: 0px; margin-bottom: 2px\">"
   ]
  },
  {
   "cell_type": "code",
   "execution_count": null,
   "id": "78facf5d-11d8-489a-a1cf-0bf9da53e879",
   "metadata": {},
   "outputs": [],
   "source": []
  }
 ],
 "metadata": {
  "kernelspec": {
   "display_name": "Python 3 (ipykernel)",
   "language": "python",
   "name": "python3"
  },
  "language_info": {
   "codemirror_mode": {
    "name": "ipython",
    "version": 3
   },
   "file_extension": ".py",
   "mimetype": "text/x-python",
   "name": "python",
   "nbconvert_exporter": "python",
   "pygments_lexer": "ipython3",
   "version": "3.9.12"
  }
 },
 "nbformat": 4,
 "nbformat_minor": 5
}
