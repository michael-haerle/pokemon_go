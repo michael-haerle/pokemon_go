{
 "cells": [
  {
   "cell_type": "markdown",
   "id": "2d9da730-f77f-4091-b07c-9995b9b0af91",
   "metadata": {},
   "source": [
    "<hr style=\"border-top:10px solid Gold; margin-top: 2px; margin-bottom: 0px\">\n",
    "<hr style=\"border-top:10px solid Blue; margin-top: 0px; margin-bottom: 2px\">"
   ]
  },
  {
   "cell_type": "markdown",
   "id": "6fdee1cc-6bca-4004-aa81-3bb196d1167a",
   "metadata": {},
   "source": [
    "# Rediscovering Pokemon GO and the Main Series Games\n"
   ]
  },
  {
   "cell_type": "markdown",
   "id": "b60723e5-3393-4f83-b878-4610f3b5861d",
   "metadata": {},
   "source": [
    "<hr style=\"border-top:10px solid Gold; margin-top: 2px; margin-bottom: 0px\">\n",
    "<hr style=\"border-top:10px solid Blue; margin-top: 0px; margin-bottom: 2px\">"
   ]
  },
  {
   "cell_type": "code",
   "execution_count": 1,
   "id": "6b9a6e2d-b522-45f1-9f1d-78ac57585c00",
   "metadata": {},
   "outputs": [],
   "source": [
    "# Standard imports\n",
    "import pandas as pd\n",
    "# Vis imports\n",
    "import matplotlib.pyplot as plt\n",
    "import seaborn as sns\n",
    "# Stats imports\n",
    "from scipy.stats import spearmanr\n",
    "# Custom imports\n",
    "import wrangle\n",
    "import explore"
   ]
  },
  {
   "cell_type": "markdown",
   "id": "cc35c36b-5c12-4122-8a35-2ee5261a950c",
   "metadata": {},
   "source": [
    "## Project Goal"
   ]
  },
  {
   "cell_type": "markdown",
   "id": "d76dd557-bf73-47e3-93d8-fbc6e4bd41fe",
   "metadata": {
    "jp-MarkdownHeadingCollapsed": true,
    "tags": []
   },
   "source": [
    "- To perform exploratory analysis on the Pokemon main series games and mobile game Pokemon GO"
   ]
  },
  {
   "cell_type": "markdown",
   "id": "bd959540-5e2d-413f-82c4-1b225beeeacd",
   "metadata": {},
   "source": [
    "<hr style=\"border-top:10px solid Gold; margin-top: 2px; margin-bottom: 0px\">\n",
    "<hr style=\"border-top:10px solid Blue; margin-top: 0px; margin-bottom: 2px\">"
   ]
  },
  {
   "cell_type": "markdown",
   "id": "0a1ac8f6-3dd4-4548-a1e1-bb7db8becf04",
   "metadata": {},
   "source": [
    "## Acquire and Prepare Data"
   ]
  },
  {
   "cell_type": "markdown",
   "id": "faa78724-2e25-4553-98e7-70daeeff23f1",
   "metadata": {},
   "source": [
    "<hr style=\"border-top:10px solid Gold; margin-top: 2px; margin-bottom: 0px\">\n",
    "<hr style=\"border-top:10px solid Blue; margin-top: 0px; margin-bottom: 2px\">"
   ]
  },
  {
   "cell_type": "markdown",
   "id": "fb49fae2-baab-4dfe-bd78-e68893375778",
   "metadata": {},
   "source": [
    "The final dataframe df_best_attack_set is a new dataframe made from joining data from Pokemon GO and a Pokemon dataset on kaggle for the main series pokemon games.\n",
    "In this dataset you will see that ER or Equivalent Rating was changed to Battle_Stat. This makes it a bit easier to follow for those not as familiar with the way stats work in the Pokemon games. If you would like further explanation please refer to the README on GitHub. "
   ]
  },
  {
   "cell_type": "code",
   "execution_count": 2,
   "id": "8aed1106-01da-44d7-9a6b-1b762237e809",
   "metadata": {},
   "outputs": [],
   "source": [
    "# This function reads in 3 dataframes from csv's and prepares them for exploration.\n",
    "df, df1, df_best_attack_set = wrangle.wrangle_df()"
   ]
  },
  {
   "cell_type": "code",
   "execution_count": 3,
   "id": "c9868682-8af1-4e03-8f97-f9d609f891a8",
   "metadata": {},
   "outputs": [
    {
     "data": {
      "text/html": [
       "<div>\n",
       "<style scoped>\n",
       "    .dataframe tbody tr th:only-of-type {\n",
       "        vertical-align: middle;\n",
       "    }\n",
       "\n",
       "    .dataframe tbody tr th {\n",
       "        vertical-align: top;\n",
       "    }\n",
       "\n",
       "    .dataframe thead th {\n",
       "        text-align: right;\n",
       "    }\n",
       "</style>\n",
       "<table border=\"1\" class=\"dataframe\">\n",
       "  <thead>\n",
       "    <tr style=\"text-align: right;\">\n",
       "      <th></th>\n",
       "      <th>Pokemon</th>\n",
       "      <th>Fast Move</th>\n",
       "      <th>Charged Move</th>\n",
       "      <th>DPS</th>\n",
       "      <th>TDO</th>\n",
       "      <th>Battle_Stat</th>\n",
       "      <th>CP</th>\n",
       "    </tr>\n",
       "  </thead>\n",
       "  <tbody>\n",
       "    <tr>\n",
       "      <th>0</th>\n",
       "      <td>Mega Mewtwo Y</td>\n",
       "      <td>Confusion</td>\n",
       "      <td>Psystrike</td>\n",
       "      <td>26.355</td>\n",
       "      <td>999.7</td>\n",
       "      <td>65.41</td>\n",
       "      <td>5610</td>\n",
       "    </tr>\n",
       "    <tr>\n",
       "      <th>1</th>\n",
       "      <td>Mega Mewtwo Y</td>\n",
       "      <td>Psycho Cut</td>\n",
       "      <td>Psystrike</td>\n",
       "      <td>26.207</td>\n",
       "      <td>994.1</td>\n",
       "      <td>65.04</td>\n",
       "      <td>5610</td>\n",
       "    </tr>\n",
       "    <tr>\n",
       "      <th>2</th>\n",
       "      <td>Mega Mewtwo X</td>\n",
       "      <td>Confusion</td>\n",
       "      <td>Psystrike</td>\n",
       "      <td>25.513</td>\n",
       "      <td>967.8</td>\n",
       "      <td>63.32</td>\n",
       "      <td>5429</td>\n",
       "    </tr>\n",
       "    <tr>\n",
       "      <th>3</th>\n",
       "      <td>Shadow Mewtwo</td>\n",
       "      <td>Confusion</td>\n",
       "      <td>Psystrike</td>\n",
       "      <td>25.400</td>\n",
       "      <td>662.7</td>\n",
       "      <td>57.41</td>\n",
       "      <td>4178</td>\n",
       "    </tr>\n",
       "    <tr>\n",
       "      <th>4</th>\n",
       "      <td>Mega Mewtwo X</td>\n",
       "      <td>Psycho Cut</td>\n",
       "      <td>Psystrike</td>\n",
       "      <td>25.380</td>\n",
       "      <td>962.8</td>\n",
       "      <td>62.99</td>\n",
       "      <td>5429</td>\n",
       "    </tr>\n",
       "  </tbody>\n",
       "</table>\n",
       "</div>"
      ],
      "text/plain": [
       "         Pokemon   Fast Move Charged Move     DPS    TDO  Battle_Stat    CP\n",
       "0  Mega Mewtwo Y   Confusion    Psystrike  26.355  999.7        65.41  5610\n",
       "1  Mega Mewtwo Y  Psycho Cut    Psystrike  26.207  994.1        65.04  5610\n",
       "2  Mega Mewtwo X   Confusion    Psystrike  25.513  967.8        63.32  5429\n",
       "3  Shadow Mewtwo   Confusion    Psystrike  25.400  662.7        57.41  4178\n",
       "4  Mega Mewtwo X  Psycho Cut    Psystrike  25.380  962.8        62.99  5429"
      ]
     },
     "execution_count": 3,
     "metadata": {},
     "output_type": "execute_result"
    }
   ],
   "source": [
    "df.head()"
   ]
  },
  {
   "cell_type": "code",
   "execution_count": 4,
   "id": "983e71f6-ea24-404d-b480-0e3506a3886f",
   "metadata": {},
   "outputs": [
    {
     "name": "stdout",
     "output_type": "stream",
     "text": [
      "<class 'pandas.core.frame.DataFrame'>\n",
      "RangeIndex: 13761 entries, 0 to 13760\n",
      "Data columns (total 7 columns):\n",
      " #   Column        Non-Null Count  Dtype  \n",
      "---  ------        --------------  -----  \n",
      " 0   Pokemon       13761 non-null  object \n",
      " 1   Fast Move     13761 non-null  object \n",
      " 2   Charged Move  13761 non-null  object \n",
      " 3   DPS           13761 non-null  float64\n",
      " 4   TDO           13761 non-null  float64\n",
      " 5   Battle_Stat   13761 non-null  float64\n",
      " 6   CP            13761 non-null  int64  \n",
      "dtypes: float64(3), int64(1), object(3)\n",
      "memory usage: 752.7+ KB\n"
     ]
    }
   ],
   "source": [
    "df.info()"
   ]
  },
  {
   "cell_type": "code",
   "execution_count": 5,
   "id": "08fa1705-4be5-46bb-a9e6-a108420028ab",
   "metadata": {},
   "outputs": [
    {
     "data": {
      "text/html": [
       "<div>\n",
       "<style scoped>\n",
       "    .dataframe tbody tr th:only-of-type {\n",
       "        vertical-align: middle;\n",
       "    }\n",
       "\n",
       "    .dataframe tbody tr th {\n",
       "        vertical-align: top;\n",
       "    }\n",
       "\n",
       "    .dataframe thead th {\n",
       "        text-align: right;\n",
       "    }\n",
       "</style>\n",
       "<table border=\"1\" class=\"dataframe\">\n",
       "  <thead>\n",
       "    <tr style=\"text-align: right;\">\n",
       "      <th></th>\n",
       "      <th>#</th>\n",
       "      <th>Pokemon</th>\n",
       "      <th>Type 1</th>\n",
       "      <th>Type 2</th>\n",
       "      <th>Total</th>\n",
       "      <th>HP</th>\n",
       "      <th>Attack</th>\n",
       "      <th>Defense</th>\n",
       "      <th>Sp. Atk</th>\n",
       "      <th>Sp. Def</th>\n",
       "      <th>Speed</th>\n",
       "      <th>Generation</th>\n",
       "      <th>Legendary</th>\n",
       "    </tr>\n",
       "  </thead>\n",
       "  <tbody>\n",
       "    <tr>\n",
       "      <th>0</th>\n",
       "      <td>1</td>\n",
       "      <td>Bulbasaur</td>\n",
       "      <td>Grass</td>\n",
       "      <td>Poison</td>\n",
       "      <td>318</td>\n",
       "      <td>45</td>\n",
       "      <td>49</td>\n",
       "      <td>49</td>\n",
       "      <td>65</td>\n",
       "      <td>65</td>\n",
       "      <td>45</td>\n",
       "      <td>1</td>\n",
       "      <td>False</td>\n",
       "    </tr>\n",
       "    <tr>\n",
       "      <th>1</th>\n",
       "      <td>2</td>\n",
       "      <td>Ivysaur</td>\n",
       "      <td>Grass</td>\n",
       "      <td>Poison</td>\n",
       "      <td>405</td>\n",
       "      <td>60</td>\n",
       "      <td>62</td>\n",
       "      <td>63</td>\n",
       "      <td>80</td>\n",
       "      <td>80</td>\n",
       "      <td>60</td>\n",
       "      <td>1</td>\n",
       "      <td>False</td>\n",
       "    </tr>\n",
       "    <tr>\n",
       "      <th>2</th>\n",
       "      <td>3</td>\n",
       "      <td>Venusaur</td>\n",
       "      <td>Grass</td>\n",
       "      <td>Poison</td>\n",
       "      <td>525</td>\n",
       "      <td>80</td>\n",
       "      <td>82</td>\n",
       "      <td>83</td>\n",
       "      <td>100</td>\n",
       "      <td>100</td>\n",
       "      <td>80</td>\n",
       "      <td>1</td>\n",
       "      <td>False</td>\n",
       "    </tr>\n",
       "    <tr>\n",
       "      <th>3</th>\n",
       "      <td>3</td>\n",
       "      <td>Mega Venusaur</td>\n",
       "      <td>Grass</td>\n",
       "      <td>Poison</td>\n",
       "      <td>625</td>\n",
       "      <td>80</td>\n",
       "      <td>100</td>\n",
       "      <td>123</td>\n",
       "      <td>122</td>\n",
       "      <td>120</td>\n",
       "      <td>80</td>\n",
       "      <td>1</td>\n",
       "      <td>False</td>\n",
       "    </tr>\n",
       "    <tr>\n",
       "      <th>4</th>\n",
       "      <td>4</td>\n",
       "      <td>Charmander</td>\n",
       "      <td>Fire</td>\n",
       "      <td>NaN</td>\n",
       "      <td>309</td>\n",
       "      <td>39</td>\n",
       "      <td>52</td>\n",
       "      <td>43</td>\n",
       "      <td>60</td>\n",
       "      <td>50</td>\n",
       "      <td>65</td>\n",
       "      <td>1</td>\n",
       "      <td>False</td>\n",
       "    </tr>\n",
       "  </tbody>\n",
       "</table>\n",
       "</div>"
      ],
      "text/plain": [
       "   #        Pokemon Type 1  Type 2  Total  HP  Attack  Defense  Sp. Atk  \\\n",
       "0  1      Bulbasaur  Grass  Poison    318  45      49       49       65   \n",
       "1  2        Ivysaur  Grass  Poison    405  60      62       63       80   \n",
       "2  3       Venusaur  Grass  Poison    525  80      82       83      100   \n",
       "3  3  Mega Venusaur  Grass  Poison    625  80     100      123      122   \n",
       "4  4     Charmander   Fire     NaN    309  39      52       43       60   \n",
       "\n",
       "   Sp. Def  Speed  Generation  Legendary  \n",
       "0       65     45           1      False  \n",
       "1       80     60           1      False  \n",
       "2      100     80           1      False  \n",
       "3      120     80           1      False  \n",
       "4       50     65           1      False  "
      ]
     },
     "execution_count": 5,
     "metadata": {},
     "output_type": "execute_result"
    }
   ],
   "source": [
    "df1.head()"
   ]
  },
  {
   "cell_type": "code",
   "execution_count": 6,
   "id": "28dded1f-59ef-47c3-90c7-12c2cc6a3abf",
   "metadata": {},
   "outputs": [
    {
     "data": {
      "text/html": [
       "<div>\n",
       "<style scoped>\n",
       "    .dataframe tbody tr th:only-of-type {\n",
       "        vertical-align: middle;\n",
       "    }\n",
       "\n",
       "    .dataframe tbody tr th {\n",
       "        vertical-align: top;\n",
       "    }\n",
       "\n",
       "    .dataframe thead th {\n",
       "        text-align: right;\n",
       "    }\n",
       "</style>\n",
       "<table border=\"1\" class=\"dataframe\">\n",
       "  <thead>\n",
       "    <tr style=\"text-align: right;\">\n",
       "      <th></th>\n",
       "      <th>Pokemon</th>\n",
       "      <th>DPS</th>\n",
       "      <th>TDO</th>\n",
       "      <th>Battle_Stat</th>\n",
       "      <th>Max_CP_Lv40</th>\n",
       "      <th>Fast_Move</th>\n",
       "      <th>Charged_Move</th>\n",
       "      <th>#</th>\n",
       "      <th>Type 1</th>\n",
       "      <th>Type 2</th>\n",
       "      <th>Total</th>\n",
       "      <th>HP</th>\n",
       "      <th>Attack</th>\n",
       "      <th>Defense</th>\n",
       "      <th>Sp. Atk</th>\n",
       "      <th>Sp. Def</th>\n",
       "      <th>Speed</th>\n",
       "      <th>Generation</th>\n",
       "      <th>Legendary</th>\n",
       "    </tr>\n",
       "  </thead>\n",
       "  <tbody>\n",
       "    <tr>\n",
       "      <th>0</th>\n",
       "      <td>Flabébé</td>\n",
       "      <td>7.460</td>\n",
       "      <td>99.2</td>\n",
       "      <td>41.2</td>\n",
       "      <td>1063</td>\n",
       "      <td>Vine Whip</td>\n",
       "      <td>Dazzling Gleam</td>\n",
       "      <td>669.0</td>\n",
       "      <td>Fairy</td>\n",
       "      <td>NaN</td>\n",
       "      <td>303.0</td>\n",
       "      <td>44.0</td>\n",
       "      <td>38.0</td>\n",
       "      <td>39.0</td>\n",
       "      <td>61.0</td>\n",
       "      <td>79.0</td>\n",
       "      <td>42.0</td>\n",
       "      <td>6.0</td>\n",
       "      <td>False</td>\n",
       "    </tr>\n",
       "    <tr>\n",
       "      <th>1</th>\n",
       "      <td>5th Anniversary Pikachu</td>\n",
       "      <td>8.366</td>\n",
       "      <td>81.2</td>\n",
       "      <td>47.5</td>\n",
       "      <td>938</td>\n",
       "      <td>Thunder Shock</td>\n",
       "      <td>Wild Charge</td>\n",
       "      <td>25.0</td>\n",
       "      <td>Electric</td>\n",
       "      <td>NaN</td>\n",
       "      <td>320.0</td>\n",
       "      <td>35.0</td>\n",
       "      <td>55.0</td>\n",
       "      <td>40.0</td>\n",
       "      <td>50.0</td>\n",
       "      <td>50.0</td>\n",
       "      <td>90.0</td>\n",
       "      <td>1.0</td>\n",
       "      <td>False</td>\n",
       "    </tr>\n",
       "    <tr>\n",
       "      <th>2</th>\n",
       "      <td>Abomasnow</td>\n",
       "      <td>12.094</td>\n",
       "      <td>322.3</td>\n",
       "      <td>570.1</td>\n",
       "      <td>2362</td>\n",
       "      <td>Razor Leaf</td>\n",
       "      <td>Weather Ball Ice</td>\n",
       "      <td>460.0</td>\n",
       "      <td>Grass</td>\n",
       "      <td>Ice</td>\n",
       "      <td>494.0</td>\n",
       "      <td>90.0</td>\n",
       "      <td>92.0</td>\n",
       "      <td>75.0</td>\n",
       "      <td>92.0</td>\n",
       "      <td>85.0</td>\n",
       "      <td>60.0</td>\n",
       "      <td>4.0</td>\n",
       "      <td>False</td>\n",
       "    </tr>\n",
       "    <tr>\n",
       "      <th>3</th>\n",
       "      <td>Abra</td>\n",
       "      <td>11.707</td>\n",
       "      <td>85.1</td>\n",
       "      <td>136.5</td>\n",
       "      <td>1342</td>\n",
       "      <td>Zen Headbutt</td>\n",
       "      <td>Psyshock</td>\n",
       "      <td>63.0</td>\n",
       "      <td>Psychic</td>\n",
       "      <td>NaN</td>\n",
       "      <td>310.0</td>\n",
       "      <td>25.0</td>\n",
       "      <td>20.0</td>\n",
       "      <td>15.0</td>\n",
       "      <td>105.0</td>\n",
       "      <td>55.0</td>\n",
       "      <td>90.0</td>\n",
       "      <td>1.0</td>\n",
       "      <td>False</td>\n",
       "    </tr>\n",
       "    <tr>\n",
       "      <th>4</th>\n",
       "      <td>Absol</td>\n",
       "      <td>15.134</td>\n",
       "      <td>252.4</td>\n",
       "      <td>874.8</td>\n",
       "      <td>2526</td>\n",
       "      <td>Snarl</td>\n",
       "      <td>Return</td>\n",
       "      <td>359.0</td>\n",
       "      <td>Dark</td>\n",
       "      <td>NaN</td>\n",
       "      <td>465.0</td>\n",
       "      <td>65.0</td>\n",
       "      <td>130.0</td>\n",
       "      <td>60.0</td>\n",
       "      <td>75.0</td>\n",
       "      <td>60.0</td>\n",
       "      <td>75.0</td>\n",
       "      <td>3.0</td>\n",
       "      <td>False</td>\n",
       "    </tr>\n",
       "  </tbody>\n",
       "</table>\n",
       "</div>"
      ],
      "text/plain": [
       "                   Pokemon     DPS    TDO  Battle_Stat  Max_CP_Lv40  \\\n",
       "0                  Flabébé   7.460   99.2         41.2         1063   \n",
       "1  5th Anniversary Pikachu   8.366   81.2         47.5          938   \n",
       "2                Abomasnow  12.094  322.3        570.1         2362   \n",
       "3                     Abra  11.707   85.1        136.5         1342   \n",
       "4                    Absol  15.134  252.4        874.8         2526   \n",
       "\n",
       "       Fast_Move      Charged_Move      #    Type 1 Type 2  Total    HP  \\\n",
       "0      Vine Whip    Dazzling Gleam  669.0     Fairy    NaN  303.0  44.0   \n",
       "1  Thunder Shock       Wild Charge   25.0  Electric    NaN  320.0  35.0   \n",
       "2     Razor Leaf  Weather Ball Ice  460.0     Grass    Ice  494.0  90.0   \n",
       "3   Zen Headbutt          Psyshock   63.0   Psychic    NaN  310.0  25.0   \n",
       "4          Snarl            Return  359.0      Dark    NaN  465.0  65.0   \n",
       "\n",
       "   Attack  Defense  Sp. Atk  Sp. Def  Speed  Generation Legendary  \n",
       "0    38.0     39.0     61.0     79.0   42.0         6.0     False  \n",
       "1    55.0     40.0     50.0     50.0   90.0         1.0     False  \n",
       "2    92.0     75.0     92.0     85.0   60.0         4.0     False  \n",
       "3    20.0     15.0    105.0     55.0   90.0         1.0     False  \n",
       "4   130.0     60.0     75.0     60.0   75.0         3.0     False  "
      ]
     },
     "execution_count": 6,
     "metadata": {},
     "output_type": "execute_result"
    }
   ],
   "source": [
    "df_best_attack_set.head()"
   ]
  },
  {
   "cell_type": "code",
   "execution_count": 7,
   "id": "086259de-dee4-4f62-bc75-e15e168077ec",
   "metadata": {},
   "outputs": [
    {
     "name": "stdout",
     "output_type": "stream",
     "text": [
      "<class 'pandas.core.frame.DataFrame'>\n",
      "RangeIndex: 1317 entries, 0 to 1316\n",
      "Data columns (total 19 columns):\n",
      " #   Column        Non-Null Count  Dtype  \n",
      "---  ------        --------------  -----  \n",
      " 0   Pokemon       1317 non-null   object \n",
      " 1   DPS           1317 non-null   float64\n",
      " 2   TDO           1317 non-null   float64\n",
      " 3   Battle_Stat   1317 non-null   float64\n",
      " 4   Max_CP_Lv40   1317 non-null   int64  \n",
      " 5   Fast_Move     1317 non-null   object \n",
      " 6   Charged_Move  1317 non-null   object \n",
      " 7   #             1115 non-null   float64\n",
      " 8   Type 1        1115 non-null   object \n",
      " 9   Type 2        594 non-null    object \n",
      " 10  Total         1115 non-null   float64\n",
      " 11  HP            1115 non-null   float64\n",
      " 12  Attack        1115 non-null   float64\n",
      " 13  Defense       1115 non-null   float64\n",
      " 14  Sp. Atk       1115 non-null   float64\n",
      " 15  Sp. Def       1115 non-null   float64\n",
      " 16  Speed         1115 non-null   float64\n",
      " 17  Generation    1115 non-null   float64\n",
      " 18  Legendary     1113 non-null   object \n",
      "dtypes: float64(12), int64(1), object(6)\n",
      "memory usage: 195.6+ KB\n"
     ]
    }
   ],
   "source": [
    "df_best_attack_set.info()"
   ]
  },
  {
   "cell_type": "markdown",
   "id": "4801e695-7bc7-4efb-ba86-3fc32eb787be",
   "metadata": {},
   "source": [
    "## Acquire and Prepare Takeaways"
   ]
  },
  {
   "cell_type": "markdown",
   "id": "d43adeb5-462d-4a5a-8088-a1cd7c91327b",
   "metadata": {},
   "source": [
    "- We ended up with 3 different dataframes to look at.\n",
    "- The data was not split as we are not doing any modeling for this project.\n",
    "- ER was changed to Battle_Stat to make it a bit more intutive to understand.\n",
    "- The dataframe best_attack_set takes the optimal moveset for the max Battle_Stat for each pokemon and joins with the data from the main series Pokemon games to get a more complete picture of the data."
   ]
  },
  {
   "cell_type": "markdown",
   "id": "a162cf65-2528-4ea0-b582-b3b77e321f28",
   "metadata": {},
   "source": [
    "<hr style=\"border-top:10px solid Gold; margin-top: 2px; margin-bottom: 0px\">\n",
    "<hr style=\"border-top:10px solid Blue; margin-top: 0px; margin-bottom: 2px\">"
   ]
  },
  {
   "cell_type": "markdown",
   "id": "1860702c-e684-4513-9bdd-447617531dd0",
   "metadata": {},
   "source": [
    "## Exploration"
   ]
  },
  {
   "cell_type": "markdown",
   "id": "ef6f9d8d-2f34-43ea-95b6-86ea7048fc03",
   "metadata": {},
   "source": [
    "<hr style=\"border-top:10px solid Gold; margin-top: 2px; margin-bottom: 0px\">\n",
    "<hr style=\"border-top:10px solid Blue; margin-top: 0px; margin-bottom: 2px\">"
   ]
  },
  {
   "cell_type": "markdown",
   "id": "4037ea98-54cd-4d72-91ba-a117f4a8c56e",
   "metadata": {},
   "source": [
    "## Lets make a function that will take in a pokemon name and return its stats with the optimal moveset for the highest battle stat."
   ]
  },
  {
   "cell_type": "code",
   "execution_count": 8,
   "id": "47f810e7-8c70-4090-a488-7b0c2bb57591",
   "metadata": {},
   "outputs": [],
   "source": [
    "# def base_function(df_best_attack_set):\n",
    "#     x = input('Type a Pokemons name to find its best moveset.')\n",
    "#     result = df_best_attack_set[df_best_attack_set.Pokemon == x]\n",
    "#     print(result)\n",
    "\n",
    "\n",
    "# def find_best_moveset(df_best_attack_set):\n",
    "#     x = input('Type a Pokemons name to find its best moveset.')\n",
    "#     result = df_best_attack_set[df_best_attack_set.Pokemon == x]\n",
    "#     print(result)\n",
    "#     loop = 'active'\n",
    "#     while loop == 'active':\n",
    "#         choice = input('Would you like to check another Pokemon? Y/N')\n",
    "#         if choice == 'Y':\n",
    "#             base_function(df_best_attack_set)\n",
    "#         elif choice == 'N':\n",
    "#             print('Thank you have a great day!')\n",
    "#             break\n",
    "#         else:\n",
    "#             print('Please enter Y or N')"
   ]
  },
  {
   "cell_type": "code",
   "execution_count": null,
   "id": "38df046a-633e-4262-8dfb-60147db120ec",
   "metadata": {},
   "outputs": [],
   "source": [
    "explore.find_best_moveset(df_best_attack_set)"
   ]
  },
  {
   "cell_type": "markdown",
   "id": "e1a7865b-3dd1-459a-b638-151b4591fdef",
   "metadata": {},
   "source": [
    "## Its not perfect but it works!!"
   ]
  },
  {
   "cell_type": "markdown",
   "id": "68292000-8c3d-4df9-9e82-c8cf577b74d8",
   "metadata": {},
   "source": [
    "## This could be used as the fondation to develop an app that can assist new and professional level players for Pokemon Go."
   ]
  },
  {
   "cell_type": "markdown",
   "id": "2228c88e-f469-47cd-8d1a-3667440b15e1",
   "metadata": {},
   "source": [
    "## What pokemon has the highest and lowest cp?"
   ]
  },
  {
   "cell_type": "code",
   "execution_count": null,
   "id": "4210304d-3fec-419c-9137-49e8532ee7fa",
   "metadata": {},
   "outputs": [],
   "source": [
    "df_best_attack_set[df_best_attack_set.Max_CP_Lv40 == df_best_attack_set.Max_CP_Lv40.max()]"
   ]
  },
  {
   "cell_type": "code",
   "execution_count": null,
   "id": "84d1c762-967a-43dc-8094-e3611e83ecce",
   "metadata": {},
   "outputs": [],
   "source": [
    "df_best_attack_set[df_best_attack_set.Max_CP_Lv40 == df_best_attack_set.Max_CP_Lv40.min()]"
   ]
  },
  {
   "cell_type": "markdown",
   "id": "9091d802-06e0-4af8-8985-31c5dfefead2",
   "metadata": {},
   "source": [
    "## What \"S tier pokemon\" in Pokemon Go has the highest and lowest Battle Stat?\n"
   ]
  },
  {
   "cell_type": "code",
   "execution_count": null,
   "id": "349a9555-70e6-4488-8696-4f2ed3558a50",
   "metadata": {},
   "outputs": [],
   "source": [
    "S_tier_attackers = ['Kartana', 'Terrakion', 'Shadow Metagross', 'Shadow Machamp',\n",
    "                    'Shadow Mewtwo', 'Shadow Salamence', 'Shadow Dragonite', 'Mega Latios',\n",
    "                    'Mega Gengar', 'Mega Charizard Y', 'Shadow Mamoswine']"
   ]
  },
  {
   "cell_type": "code",
   "execution_count": null,
   "id": "cf3083df-03d8-44f5-95f2-8b3d9d07338d",
   "metadata": {},
   "outputs": [],
   "source": [
    "df_S_tier_attackers = df_best_attack_set[(df_best_attack_set.Pokemon == 'Kartana') | (df_best_attack_set.Pokemon == 'Terrakion') |\n",
    "                  (df_best_attack_set.Pokemon == 'Shadow Metagross') | (df_best_attack_set.Pokemon == 'Shadow Machamp') |\n",
    "                  (df_best_attack_set.Pokemon == 'Shadow Mewtwo') | (df_best_attack_set.Pokemon == 'Shadow Salamence') |\n",
    "                  (df_best_attack_set.Pokemon == 'Shadow Dragonite') | (df_best_attack_set.Pokemon == 'Mega Latios') |\n",
    "                  (df_best_attack_set.Pokemon == 'Shadow Gengar') | (df_best_attack_set.Pokemon == 'Mega Charizard Y') |\n",
    "                  (df_best_attack_set.Pokemon == 'Shadow Mamoswine')]"
   ]
  },
  {
   "cell_type": "code",
   "execution_count": null,
   "id": "b037f388-88bf-460c-aa35-11ac8248d771",
   "metadata": {},
   "outputs": [],
   "source": [
    "df_S_tier_attackers"
   ]
  },
  {
   "cell_type": "code",
   "execution_count": null,
   "id": "1fd89533-746a-44ad-a7a9-054bf2af2c8d",
   "metadata": {},
   "outputs": [],
   "source": [
    "df_S_tier_attackers[df_S_tier_attackers.Battle_Stat == df_S_tier_attackers.Battle_Stat.max()]"
   ]
  },
  {
   "cell_type": "code",
   "execution_count": null,
   "id": "a68d8e37-416e-402e-8b1e-9b5f9de67fd5",
   "metadata": {},
   "outputs": [],
   "source": [
    "df_S_tier_attackers[df_S_tier_attackers.Battle_Stat == df_S_tier_attackers.Battle_Stat.min()]"
   ]
  },
  {
   "cell_type": "markdown",
   "id": "361e9d29-8623-4c78-944e-070ff7a2afb3",
   "metadata": {
    "tags": []
   },
   "source": [
    "## What pokemon has the highest and lowest average battle stat between all of their move sets?"
   ]
  },
  {
   "cell_type": "code",
   "execution_count": null,
   "id": "c840272d-9338-448d-b06e-e92db04b202d",
   "metadata": {},
   "outputs": [],
   "source": [
    "df.groupby('Pokemon').mean('Battle_Stat').nlargest(1, columns = 'Battle_Stat')\n"
   ]
  },
  {
   "cell_type": "code",
   "execution_count": null,
   "id": "57ee00b7-eeea-4be0-8deb-ac43a4f2d80d",
   "metadata": {},
   "outputs": [],
   "source": [
    "df.groupby('Pokemon').mean('Battle_Stat').nsmallest(1, columns = 'Battle_Stat')"
   ]
  },
  {
   "cell_type": "markdown",
   "id": "5a33b77e-e022-4402-ba12-49e0ac70928d",
   "metadata": {},
   "source": [
    "## What primary type has the highest average total stats?"
   ]
  },
  {
   "cell_type": "code",
   "execution_count": null,
   "id": "98297c15-c72a-4aab-b7fb-89f0118c64f6",
   "metadata": {},
   "outputs": [],
   "source": [
    "# avg_stats_by_primary_type = df_best_attack_set.groupby('Type 1').mean()\n",
    "# avg_stats_by_primary_type_total = avg_stats_by_primary_type.sort_values('Total', ascending=False)"
   ]
  },
  {
   "cell_type": "code",
   "execution_count": null,
   "id": "9c703fb1-d002-41c5-b2c6-2bbf33d0ec84",
   "metadata": {},
   "outputs": [],
   "source": [
    "# plt.figure(figsize=(15, 8))\n",
    "# sns.barplot(x = avg_stats_by_primary_type_total.index, y = avg_stats_by_primary_type_total.Total,\n",
    "#            palette = ['royalblue', 'lightgray', 'lightskyblue', 'deeppink', 'red', 'darkkhaki', 'grey',\n",
    "#                       'gold', 'slateblue', 'tan', 'aqua', 'dodgerblue', 'limegreen', 'sienna',\n",
    "#                       'pink', 'wheat', 'mediumorchid', 'olivedrab'])\n",
    "# plt.title('Dragon as a primary type has the highest average total stats')"
   ]
  },
  {
   "cell_type": "code",
   "execution_count": null,
   "id": "4d7da56b-1755-4f01-814c-be5852cd5f46",
   "metadata": {},
   "outputs": [],
   "source": [
    "explore.pri_type_avg_stats(df_best_attack_set)"
   ]
  },
  {
   "cell_type": "markdown",
   "id": "335fcb37-4c89-4ff6-b918-124165f65227",
   "metadata": {
    "tags": []
   },
   "source": [
    "## Lets compare the highest and lowest average total stats. (Dragon vs Bug)"
   ]
  },
  {
   "cell_type": "code",
   "execution_count": null,
   "id": "ea7b1c82-3faf-44d4-a55b-c299d9342b8e",
   "metadata": {},
   "outputs": [],
   "source": [
    "dragon=df_best_attack_set[(df_best_attack_set['Type 1']=='Dragon') | ((df_best_attack_set['Type 2'])==\"Dragon\")] \n",
    "bug=df_best_attack_set[(df_best_attack_set['Type 1']=='Bug') | ((df_best_attack_set['Type 2'])==\"Bug\")]\n",
    "plt.scatter(dragon.Attack.head(100),dragon.Defense.head(100),c='mediumblue',label='Dragon',marker=\"*\",s=25)\n",
    "plt.scatter(bug.Attack.head(100),bug.Defense.head(100),c='olivedrab',label=\"Bug\",s=20)\n",
    "plt.xlabel(\"Attack\")\n",
    "plt.ylabel(\"Defense\")\n",
    "dragon_avg_attack = dragon.Attack.mean()\n",
    "dragon_avg_defense = dragon.Defense.mean()\n",
    "plt.axhline(dragon_avg_attack, label='Dragon Attack Average', c = 'royalblue')\n",
    "plt.axvline(dragon_avg_defense, label='Dragon Defense Average', c = 'royalblue')\n",
    "bug_avg_attack = bug.Attack.mean()\n",
    "bug_avg_defense = bug.Defense.mean()\n",
    "plt.axhline(bug_avg_attack, label='Bug Attack Average', c = 'yellowgreen')\n",
    "plt.axvline(bug_avg_defense, label='Bug Defense Average', c = 'yellowgreen')\n",
    "plt.legend()\n",
    "plt.plot()\n",
    "fig=plt.gcf()  #get the current figure using .gcf()\n",
    "fig.set_size_inches(12,6) #set the size for the figure\n",
    "plt.show()"
   ]
  },
  {
   "cell_type": "code",
   "execution_count": null,
   "id": "f40ddd26-be23-4dd4-916a-77a3ac351c43",
   "metadata": {},
   "outputs": [],
   "source": [
    "plt.scatter(dragon['Sp. Atk'].head(100),dragon['Sp. Def'].head(100),c='mediumblue',label='Dragon',marker=\"*\",s=25)\n",
    "plt.scatter(bug['Sp. Atk'].head(100),bug['Sp. Def'].head(100),c='olivedrab',label=\"Bug\",s=20)\n",
    "plt.xlabel(\"Sp. Atk\")\n",
    "plt.ylabel(\"Sp. Def\")\n",
    "dragon_avg_attack = dragon['Sp. Atk'].mean()\n",
    "dragon_avg_defense = dragon['Sp. Def'].mean()\n",
    "plt.axhline(dragon_avg_attack, label='Dragon Sp. Atk Average', c = 'royalblue')\n",
    "plt.axvline(dragon_avg_defense, label='Dragon Sp. Def Average', c = 'royalblue')\n",
    "bug_avg_attack = bug['Sp. Atk'].mean()\n",
    "bug_avg_defense = bug['Sp. Def'].mean()\n",
    "plt.axhline(bug_avg_attack, label='Bug Sp. Atk Average', c = 'yellowgreen')\n",
    "plt.axvline(bug_avg_defense, label='Bug Sp. Def Average', c = 'yellowgreen')\n",
    "plt.legend()\n",
    "plt.plot()\n",
    "fig=plt.gcf()  #get the current figure using .gcf()\n",
    "fig.set_size_inches(12,6) #set the size for the figure\n",
    "plt.show()"
   ]
  },
  {
   "cell_type": "code",
   "execution_count": null,
   "id": "a3b1adac-89b7-48ce-83ed-aa3a463eae49",
   "metadata": {},
   "outputs": [],
   "source": []
  }
 ],
 "metadata": {
  "kernelspec": {
   "display_name": "Python 3 (ipykernel)",
   "language": "python",
   "name": "python3"
  },
  "language_info": {
   "codemirror_mode": {
    "name": "ipython",
    "version": 3
   },
   "file_extension": ".py",
   "mimetype": "text/x-python",
   "name": "python",
   "nbconvert_exporter": "python",
   "pygments_lexer": "ipython3",
   "version": "3.9.12"
  }
 },
 "nbformat": 4,
 "nbformat_minor": 5
}
