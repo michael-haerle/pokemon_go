{
 "cells": [
  {
   "cell_type": "markdown",
   "id": "2d9da730-f77f-4091-b07c-9995b9b0af91",
   "metadata": {},
   "source": [
    "<hr style=\"border-top:10px solid Gold; margin-top: 2px; margin-bottom: 0px\">\n",
    "<hr style=\"border-top:10px solid Blue; margin-top: 0px; margin-bottom: 2px\">"
   ]
  },
  {
   "cell_type": "markdown",
   "id": "6fdee1cc-6bca-4004-aa81-3bb196d1167a",
   "metadata": {},
   "source": [
    "# Rediscovering Pokemon GO and the Main Series Games\n"
   ]
  },
  {
   "cell_type": "markdown",
   "id": "b60723e5-3393-4f83-b878-4610f3b5861d",
   "metadata": {},
   "source": [
    "<hr style=\"border-top:10px solid Gold; margin-top: 2px; margin-bottom: 0px\">\n",
    "<hr style=\"border-top:10px solid Blue; margin-top: 0px; margin-bottom: 2px\">"
   ]
  },
  {
   "cell_type": "code",
   "execution_count": 1,
   "id": "6b9a6e2d-b522-45f1-9f1d-78ac57585c00",
   "metadata": {},
   "outputs": [],
   "source": [
    "# Standard imports\n",
    "import pandas as pd\n",
    "# Vis imports\n",
    "import matplotlib.pyplot as plt\n",
    "import seaborn as sns\n",
    "# Stats imports\n",
    "from scipy.stats import spearmanr\n",
    "# Custom imports\n",
    "import wrangle\n",
    "import explore"
   ]
  },
  {
   "cell_type": "markdown",
   "id": "cc35c36b-5c12-4122-8a35-2ee5261a950c",
   "metadata": {},
   "source": [
    "## Project Goal"
   ]
  },
  {
   "cell_type": "markdown",
   "id": "d76dd557-bf73-47e3-93d8-fbc6e4bd41fe",
   "metadata": {
    "jp-MarkdownHeadingCollapsed": true,
    "tags": []
   },
   "source": [
    "- To perform exploratory analysis on the Pokemon main series games and mobile game Pokemon GO"
   ]
  },
  {
   "cell_type": "markdown",
   "id": "bd959540-5e2d-413f-82c4-1b225beeeacd",
   "metadata": {},
   "source": [
    "<hr style=\"border-top:10px solid Gold; margin-top: 2px; margin-bottom: 0px\">\n",
    "<hr style=\"border-top:10px solid Blue; margin-top: 0px; margin-bottom: 2px\">"
   ]
  },
  {
   "cell_type": "markdown",
   "id": "0a1ac8f6-3dd4-4548-a1e1-bb7db8becf04",
   "metadata": {},
   "source": [
    "## Acquire and Prepare Data"
   ]
  },
  {
   "cell_type": "markdown",
   "id": "faa78724-2e25-4553-98e7-70daeeff23f1",
   "metadata": {},
   "source": [
    "<hr style=\"border-top:10px solid Gold; margin-top: 2px; margin-bottom: 0px\">\n",
    "<hr style=\"border-top:10px solid Blue; margin-top: 0px; margin-bottom: 2px\">"
   ]
  },
  {
   "cell_type": "markdown",
   "id": "fb49fae2-baab-4dfe-bd78-e68893375778",
   "metadata": {},
   "source": [
    "The final dataframe df_best_attack_set is a new dataframe made from joining data from Pokemon GO and a Pokemon dataset on kaggle for the main series pokemon games.\n",
    "In this dataset you will see that ER or Equivalent Rating was changed to Battle_Stat. This makes it a bit easier to follow for those not as familiar with the way stats work in the Pokemon games. If you would like further explanation please refer to the README on GitHub. "
   ]
  },
  {
   "cell_type": "code",
   "execution_count": 2,
   "id": "8aed1106-01da-44d7-9a6b-1b762237e809",
   "metadata": {},
   "outputs": [],
   "source": [
    "# This function reads in 3 dataframes from csv's and prepares them for exploration.\n",
    "df, df1, df_best_attack_set = wrangle.wrangle_df()"
   ]
  },
  {
   "cell_type": "code",
   "execution_count": 3,
   "id": "c9868682-8af1-4e03-8f97-f9d609f891a8",
   "metadata": {},
   "outputs": [
    {
     "data": {
      "text/html": [
       "<div>\n",
       "<style scoped>\n",
       "    .dataframe tbody tr th:only-of-type {\n",
       "        vertical-align: middle;\n",
       "    }\n",
       "\n",
       "    .dataframe tbody tr th {\n",
       "        vertical-align: top;\n",
       "    }\n",
       "\n",
       "    .dataframe thead th {\n",
       "        text-align: right;\n",
       "    }\n",
       "</style>\n",
       "<table border=\"1\" class=\"dataframe\">\n",
       "  <thead>\n",
       "    <tr style=\"text-align: right;\">\n",
       "      <th></th>\n",
       "      <th>Pokemon</th>\n",
       "      <th>Fast Move</th>\n",
       "      <th>Charged Move</th>\n",
       "      <th>DPS</th>\n",
       "      <th>TDO</th>\n",
       "      <th>Battle_Stat</th>\n",
       "      <th>CP</th>\n",
       "    </tr>\n",
       "  </thead>\n",
       "  <tbody>\n",
       "    <tr>\n",
       "      <th>0</th>\n",
       "      <td>Mega Mewtwo Y</td>\n",
       "      <td>Confusion</td>\n",
       "      <td>Psystrike</td>\n",
       "      <td>26.355</td>\n",
       "      <td>999.7</td>\n",
       "      <td>65.41</td>\n",
       "      <td>5610</td>\n",
       "    </tr>\n",
       "    <tr>\n",
       "      <th>1</th>\n",
       "      <td>Mega Mewtwo Y</td>\n",
       "      <td>Psycho Cut</td>\n",
       "      <td>Psystrike</td>\n",
       "      <td>26.207</td>\n",
       "      <td>994.1</td>\n",
       "      <td>65.04</td>\n",
       "      <td>5610</td>\n",
       "    </tr>\n",
       "    <tr>\n",
       "      <th>2</th>\n",
       "      <td>Mega Mewtwo X</td>\n",
       "      <td>Confusion</td>\n",
       "      <td>Psystrike</td>\n",
       "      <td>25.513</td>\n",
       "      <td>967.8</td>\n",
       "      <td>63.32</td>\n",
       "      <td>5429</td>\n",
       "    </tr>\n",
       "    <tr>\n",
       "      <th>3</th>\n",
       "      <td>Shadow Mewtwo</td>\n",
       "      <td>Confusion</td>\n",
       "      <td>Psystrike</td>\n",
       "      <td>25.400</td>\n",
       "      <td>662.7</td>\n",
       "      <td>57.41</td>\n",
       "      <td>4178</td>\n",
       "    </tr>\n",
       "    <tr>\n",
       "      <th>4</th>\n",
       "      <td>Mega Mewtwo X</td>\n",
       "      <td>Psycho Cut</td>\n",
       "      <td>Psystrike</td>\n",
       "      <td>25.380</td>\n",
       "      <td>962.8</td>\n",
       "      <td>62.99</td>\n",
       "      <td>5429</td>\n",
       "    </tr>\n",
       "  </tbody>\n",
       "</table>\n",
       "</div>"
      ],
      "text/plain": [
       "         Pokemon   Fast Move Charged Move     DPS    TDO  Battle_Stat    CP\n",
       "0  Mega Mewtwo Y   Confusion    Psystrike  26.355  999.7        65.41  5610\n",
       "1  Mega Mewtwo Y  Psycho Cut    Psystrike  26.207  994.1        65.04  5610\n",
       "2  Mega Mewtwo X   Confusion    Psystrike  25.513  967.8        63.32  5429\n",
       "3  Shadow Mewtwo   Confusion    Psystrike  25.400  662.7        57.41  4178\n",
       "4  Mega Mewtwo X  Psycho Cut    Psystrike  25.380  962.8        62.99  5429"
      ]
     },
     "execution_count": 3,
     "metadata": {},
     "output_type": "execute_result"
    }
   ],
   "source": [
    "df.head()"
   ]
  },
  {
   "cell_type": "code",
   "execution_count": 4,
   "id": "983e71f6-ea24-404d-b480-0e3506a3886f",
   "metadata": {},
   "outputs": [
    {
     "name": "stdout",
     "output_type": "stream",
     "text": [
      "<class 'pandas.core.frame.DataFrame'>\n",
      "RangeIndex: 13761 entries, 0 to 13760\n",
      "Data columns (total 7 columns):\n",
      " #   Column        Non-Null Count  Dtype  \n",
      "---  ------        --------------  -----  \n",
      " 0   Pokemon       13761 non-null  object \n",
      " 1   Fast Move     13761 non-null  object \n",
      " 2   Charged Move  13761 non-null  object \n",
      " 3   DPS           13761 non-null  float64\n",
      " 4   TDO           13761 non-null  float64\n",
      " 5   Battle_Stat   13761 non-null  float64\n",
      " 6   CP            13761 non-null  int64  \n",
      "dtypes: float64(3), int64(1), object(3)\n",
      "memory usage: 752.7+ KB\n"
     ]
    }
   ],
   "source": [
    "df.info()"
   ]
  },
  {
   "cell_type": "code",
   "execution_count": 5,
   "id": "08fa1705-4be5-46bb-a9e6-a108420028ab",
   "metadata": {},
   "outputs": [
    {
     "data": {
      "text/html": [
       "<div>\n",
       "<style scoped>\n",
       "    .dataframe tbody tr th:only-of-type {\n",
       "        vertical-align: middle;\n",
       "    }\n",
       "\n",
       "    .dataframe tbody tr th {\n",
       "        vertical-align: top;\n",
       "    }\n",
       "\n",
       "    .dataframe thead th {\n",
       "        text-align: right;\n",
       "    }\n",
       "</style>\n",
       "<table border=\"1\" class=\"dataframe\">\n",
       "  <thead>\n",
       "    <tr style=\"text-align: right;\">\n",
       "      <th></th>\n",
       "      <th>#</th>\n",
       "      <th>Pokemon</th>\n",
       "      <th>Type 1</th>\n",
       "      <th>Type 2</th>\n",
       "      <th>Total</th>\n",
       "      <th>HP</th>\n",
       "      <th>Attack</th>\n",
       "      <th>Defense</th>\n",
       "      <th>Sp. Atk</th>\n",
       "      <th>Sp. Def</th>\n",
       "      <th>Speed</th>\n",
       "      <th>Generation</th>\n",
       "      <th>Legendary</th>\n",
       "    </tr>\n",
       "  </thead>\n",
       "  <tbody>\n",
       "    <tr>\n",
       "      <th>0</th>\n",
       "      <td>1</td>\n",
       "      <td>Bulbasaur</td>\n",
       "      <td>Grass</td>\n",
       "      <td>Poison</td>\n",
       "      <td>318</td>\n",
       "      <td>45</td>\n",
       "      <td>49</td>\n",
       "      <td>49</td>\n",
       "      <td>65</td>\n",
       "      <td>65</td>\n",
       "      <td>45</td>\n",
       "      <td>1</td>\n",
       "      <td>False</td>\n",
       "    </tr>\n",
       "    <tr>\n",
       "      <th>1</th>\n",
       "      <td>2</td>\n",
       "      <td>Ivysaur</td>\n",
       "      <td>Grass</td>\n",
       "      <td>Poison</td>\n",
       "      <td>405</td>\n",
       "      <td>60</td>\n",
       "      <td>62</td>\n",
       "      <td>63</td>\n",
       "      <td>80</td>\n",
       "      <td>80</td>\n",
       "      <td>60</td>\n",
       "      <td>1</td>\n",
       "      <td>False</td>\n",
       "    </tr>\n",
       "    <tr>\n",
       "      <th>2</th>\n",
       "      <td>3</td>\n",
       "      <td>Venusaur</td>\n",
       "      <td>Grass</td>\n",
       "      <td>Poison</td>\n",
       "      <td>525</td>\n",
       "      <td>80</td>\n",
       "      <td>82</td>\n",
       "      <td>83</td>\n",
       "      <td>100</td>\n",
       "      <td>100</td>\n",
       "      <td>80</td>\n",
       "      <td>1</td>\n",
       "      <td>False</td>\n",
       "    </tr>\n",
       "    <tr>\n",
       "      <th>3</th>\n",
       "      <td>3</td>\n",
       "      <td>Mega Venusaur</td>\n",
       "      <td>Grass</td>\n",
       "      <td>Poison</td>\n",
       "      <td>625</td>\n",
       "      <td>80</td>\n",
       "      <td>100</td>\n",
       "      <td>123</td>\n",
       "      <td>122</td>\n",
       "      <td>120</td>\n",
       "      <td>80</td>\n",
       "      <td>1</td>\n",
       "      <td>False</td>\n",
       "    </tr>\n",
       "    <tr>\n",
       "      <th>4</th>\n",
       "      <td>4</td>\n",
       "      <td>Charmander</td>\n",
       "      <td>Fire</td>\n",
       "      <td>NaN</td>\n",
       "      <td>309</td>\n",
       "      <td>39</td>\n",
       "      <td>52</td>\n",
       "      <td>43</td>\n",
       "      <td>60</td>\n",
       "      <td>50</td>\n",
       "      <td>65</td>\n",
       "      <td>1</td>\n",
       "      <td>False</td>\n",
       "    </tr>\n",
       "  </tbody>\n",
       "</table>\n",
       "</div>"
      ],
      "text/plain": [
       "   #        Pokemon Type 1  Type 2  Total  HP  Attack  Defense  Sp. Atk  \\\n",
       "0  1      Bulbasaur  Grass  Poison    318  45      49       49       65   \n",
       "1  2        Ivysaur  Grass  Poison    405  60      62       63       80   \n",
       "2  3       Venusaur  Grass  Poison    525  80      82       83      100   \n",
       "3  3  Mega Venusaur  Grass  Poison    625  80     100      123      122   \n",
       "4  4     Charmander   Fire     NaN    309  39      52       43       60   \n",
       "\n",
       "   Sp. Def  Speed  Generation  Legendary  \n",
       "0       65     45           1      False  \n",
       "1       80     60           1      False  \n",
       "2      100     80           1      False  \n",
       "3      120     80           1      False  \n",
       "4       50     65           1      False  "
      ]
     },
     "execution_count": 5,
     "metadata": {},
     "output_type": "execute_result"
    }
   ],
   "source": [
    "df1.head()"
   ]
  },
  {
   "cell_type": "code",
   "execution_count": 6,
   "id": "28dded1f-59ef-47c3-90c7-12c2cc6a3abf",
   "metadata": {},
   "outputs": [
    {
     "data": {
      "text/html": [
       "<div>\n",
       "<style scoped>\n",
       "    .dataframe tbody tr th:only-of-type {\n",
       "        vertical-align: middle;\n",
       "    }\n",
       "\n",
       "    .dataframe tbody tr th {\n",
       "        vertical-align: top;\n",
       "    }\n",
       "\n",
       "    .dataframe thead th {\n",
       "        text-align: right;\n",
       "    }\n",
       "</style>\n",
       "<table border=\"1\" class=\"dataframe\">\n",
       "  <thead>\n",
       "    <tr style=\"text-align: right;\">\n",
       "      <th></th>\n",
       "      <th>Pokemon</th>\n",
       "      <th>DPS</th>\n",
       "      <th>TDO</th>\n",
       "      <th>Battle_Stat</th>\n",
       "      <th>Max_CP_Lv40</th>\n",
       "      <th>Fast_Move</th>\n",
       "      <th>Charged_Move</th>\n",
       "      <th>#</th>\n",
       "      <th>Type 1</th>\n",
       "      <th>Type 2</th>\n",
       "      <th>Total</th>\n",
       "      <th>HP</th>\n",
       "      <th>Attack</th>\n",
       "      <th>Defense</th>\n",
       "      <th>Sp. Atk</th>\n",
       "      <th>Sp. Def</th>\n",
       "      <th>Speed</th>\n",
       "      <th>Generation</th>\n",
       "      <th>Legendary</th>\n",
       "    </tr>\n",
       "  </thead>\n",
       "  <tbody>\n",
       "    <tr>\n",
       "      <th>0</th>\n",
       "      <td>Flabébé</td>\n",
       "      <td>7.460</td>\n",
       "      <td>99.2</td>\n",
       "      <td>41.2</td>\n",
       "      <td>1063</td>\n",
       "      <td>Vine Whip</td>\n",
       "      <td>Dazzling Gleam</td>\n",
       "      <td>669.0</td>\n",
       "      <td>Fairy</td>\n",
       "      <td>NaN</td>\n",
       "      <td>303.0</td>\n",
       "      <td>44.0</td>\n",
       "      <td>38.0</td>\n",
       "      <td>39.0</td>\n",
       "      <td>61.0</td>\n",
       "      <td>79.0</td>\n",
       "      <td>42.0</td>\n",
       "      <td>6.0</td>\n",
       "      <td>False</td>\n",
       "    </tr>\n",
       "    <tr>\n",
       "      <th>1</th>\n",
       "      <td>5th Anniversary Pikachu</td>\n",
       "      <td>8.366</td>\n",
       "      <td>81.2</td>\n",
       "      <td>47.5</td>\n",
       "      <td>938</td>\n",
       "      <td>Thunder Shock</td>\n",
       "      <td>Wild Charge</td>\n",
       "      <td>25.0</td>\n",
       "      <td>Electric</td>\n",
       "      <td>NaN</td>\n",
       "      <td>320.0</td>\n",
       "      <td>35.0</td>\n",
       "      <td>55.0</td>\n",
       "      <td>40.0</td>\n",
       "      <td>50.0</td>\n",
       "      <td>50.0</td>\n",
       "      <td>90.0</td>\n",
       "      <td>1.0</td>\n",
       "      <td>False</td>\n",
       "    </tr>\n",
       "    <tr>\n",
       "      <th>2</th>\n",
       "      <td>Abomasnow</td>\n",
       "      <td>12.094</td>\n",
       "      <td>322.3</td>\n",
       "      <td>570.1</td>\n",
       "      <td>2362</td>\n",
       "      <td>Razor Leaf</td>\n",
       "      <td>Weather Ball Ice</td>\n",
       "      <td>460.0</td>\n",
       "      <td>Grass</td>\n",
       "      <td>Ice</td>\n",
       "      <td>494.0</td>\n",
       "      <td>90.0</td>\n",
       "      <td>92.0</td>\n",
       "      <td>75.0</td>\n",
       "      <td>92.0</td>\n",
       "      <td>85.0</td>\n",
       "      <td>60.0</td>\n",
       "      <td>4.0</td>\n",
       "      <td>False</td>\n",
       "    </tr>\n",
       "    <tr>\n",
       "      <th>3</th>\n",
       "      <td>Abra</td>\n",
       "      <td>11.707</td>\n",
       "      <td>85.1</td>\n",
       "      <td>136.5</td>\n",
       "      <td>1342</td>\n",
       "      <td>Zen Headbutt</td>\n",
       "      <td>Psyshock</td>\n",
       "      <td>63.0</td>\n",
       "      <td>Psychic</td>\n",
       "      <td>NaN</td>\n",
       "      <td>310.0</td>\n",
       "      <td>25.0</td>\n",
       "      <td>20.0</td>\n",
       "      <td>15.0</td>\n",
       "      <td>105.0</td>\n",
       "      <td>55.0</td>\n",
       "      <td>90.0</td>\n",
       "      <td>1.0</td>\n",
       "      <td>False</td>\n",
       "    </tr>\n",
       "    <tr>\n",
       "      <th>4</th>\n",
       "      <td>Absol</td>\n",
       "      <td>15.134</td>\n",
       "      <td>252.4</td>\n",
       "      <td>874.8</td>\n",
       "      <td>2526</td>\n",
       "      <td>Snarl</td>\n",
       "      <td>Return</td>\n",
       "      <td>359.0</td>\n",
       "      <td>Dark</td>\n",
       "      <td>NaN</td>\n",
       "      <td>465.0</td>\n",
       "      <td>65.0</td>\n",
       "      <td>130.0</td>\n",
       "      <td>60.0</td>\n",
       "      <td>75.0</td>\n",
       "      <td>60.0</td>\n",
       "      <td>75.0</td>\n",
       "      <td>3.0</td>\n",
       "      <td>False</td>\n",
       "    </tr>\n",
       "  </tbody>\n",
       "</table>\n",
       "</div>"
      ],
      "text/plain": [
       "                   Pokemon     DPS    TDO  Battle_Stat  Max_CP_Lv40  \\\n",
       "0                  Flabébé   7.460   99.2         41.2         1063   \n",
       "1  5th Anniversary Pikachu   8.366   81.2         47.5          938   \n",
       "2                Abomasnow  12.094  322.3        570.1         2362   \n",
       "3                     Abra  11.707   85.1        136.5         1342   \n",
       "4                    Absol  15.134  252.4        874.8         2526   \n",
       "\n",
       "       Fast_Move      Charged_Move      #    Type 1 Type 2  Total    HP  \\\n",
       "0      Vine Whip    Dazzling Gleam  669.0     Fairy    NaN  303.0  44.0   \n",
       "1  Thunder Shock       Wild Charge   25.0  Electric    NaN  320.0  35.0   \n",
       "2     Razor Leaf  Weather Ball Ice  460.0     Grass    Ice  494.0  90.0   \n",
       "3   Zen Headbutt          Psyshock   63.0   Psychic    NaN  310.0  25.0   \n",
       "4          Snarl            Return  359.0      Dark    NaN  465.0  65.0   \n",
       "\n",
       "   Attack  Defense  Sp. Atk  Sp. Def  Speed  Generation Legendary  \n",
       "0    38.0     39.0     61.0     79.0   42.0         6.0     False  \n",
       "1    55.0     40.0     50.0     50.0   90.0         1.0     False  \n",
       "2    92.0     75.0     92.0     85.0   60.0         4.0     False  \n",
       "3    20.0     15.0    105.0     55.0   90.0         1.0     False  \n",
       "4   130.0     60.0     75.0     60.0   75.0         3.0     False  "
      ]
     },
     "execution_count": 6,
     "metadata": {},
     "output_type": "execute_result"
    }
   ],
   "source": [
    "df_best_attack_set.head()"
   ]
  },
  {
   "cell_type": "code",
   "execution_count": 7,
   "id": "086259de-dee4-4f62-bc75-e15e168077ec",
   "metadata": {},
   "outputs": [
    {
     "name": "stdout",
     "output_type": "stream",
     "text": [
      "<class 'pandas.core.frame.DataFrame'>\n",
      "RangeIndex: 1317 entries, 0 to 1316\n",
      "Data columns (total 19 columns):\n",
      " #   Column        Non-Null Count  Dtype  \n",
      "---  ------        --------------  -----  \n",
      " 0   Pokemon       1317 non-null   object \n",
      " 1   DPS           1317 non-null   float64\n",
      " 2   TDO           1317 non-null   float64\n",
      " 3   Battle_Stat   1317 non-null   float64\n",
      " 4   Max_CP_Lv40   1317 non-null   int64  \n",
      " 5   Fast_Move     1317 non-null   object \n",
      " 6   Charged_Move  1317 non-null   object \n",
      " 7   #             1115 non-null   float64\n",
      " 8   Type 1        1115 non-null   object \n",
      " 9   Type 2        594 non-null    object \n",
      " 10  Total         1115 non-null   float64\n",
      " 11  HP            1115 non-null   float64\n",
      " 12  Attack        1115 non-null   float64\n",
      " 13  Defense       1115 non-null   float64\n",
      " 14  Sp. Atk       1115 non-null   float64\n",
      " 15  Sp. Def       1115 non-null   float64\n",
      " 16  Speed         1115 non-null   float64\n",
      " 17  Generation    1115 non-null   float64\n",
      " 18  Legendary     1113 non-null   object \n",
      "dtypes: float64(12), int64(1), object(6)\n",
      "memory usage: 195.6+ KB\n"
     ]
    }
   ],
   "source": [
    "df_best_attack_set.info()"
   ]
  },
  {
   "cell_type": "markdown",
   "id": "4801e695-7bc7-4efb-ba86-3fc32eb787be",
   "metadata": {},
   "source": [
    "## Acquire and Prepare Takeaways"
   ]
  },
  {
   "cell_type": "markdown",
   "id": "d43adeb5-462d-4a5a-8088-a1cd7c91327b",
   "metadata": {},
   "source": [
    "- We ended up with 3 different dataframes to look at.\n",
    "- The data was not split as we are not doing any modeling for this project.\n",
    "- ER was changed to Battle_Stat to make it a bit more intutive to understand.\n",
    "- The dataframe best_attack_set takes the optimal moveset for the max Battle_Stat for each pokemon and joins with the data from the main series Pokemon games to get a more complete picture of the data."
   ]
  },
  {
   "cell_type": "markdown",
   "id": "a162cf65-2528-4ea0-b582-b3b77e321f28",
   "metadata": {},
   "source": [
    "<hr style=\"border-top:10px solid Gold; margin-top: 2px; margin-bottom: 0px\">\n",
    "<hr style=\"border-top:10px solid Blue; margin-top: 0px; margin-bottom: 2px\">"
   ]
  },
  {
   "cell_type": "markdown",
   "id": "1860702c-e684-4513-9bdd-447617531dd0",
   "metadata": {},
   "source": [
    "## Exploration"
   ]
  },
  {
   "cell_type": "markdown",
   "id": "ef6f9d8d-2f34-43ea-95b6-86ea7048fc03",
   "metadata": {},
   "source": [
    "<hr style=\"border-top:10px solid Gold; margin-top: 2px; margin-bottom: 0px\">\n",
    "<hr style=\"border-top:10px solid Blue; margin-top: 0px; margin-bottom: 2px\">"
   ]
  },
  {
   "cell_type": "markdown",
   "id": "4037ea98-54cd-4d72-91ba-a117f4a8c56e",
   "metadata": {},
   "source": [
    "## Lets make a function that will take in a pokemon name and return its stats with the optimal moveset for the highest battle stat."
   ]
  },
  {
   "cell_type": "code",
   "execution_count": 9,
   "id": "38df046a-633e-4262-8dfb-60147db120ec",
   "metadata": {},
   "outputs": [
    {
     "name": "stdin",
     "output_type": "stream",
     "text": [
      "Type a Pokemons name to find its best moveset. Charmander\n"
     ]
    },
    {
     "name": "stdout",
     "output_type": "stream",
     "text": [
      "        Pokemon    DPS   TDO  Battle_Stat  Max_CP_Lv40 Fast_Move  \\\n",
      "135  Charmander  7.529  75.0         32.0          980   Scratch   \n",
      "\n",
      "     Charged_Move    # Type 1 Type 2  Total    HP  Attack  Defense  Sp. Atk  \\\n",
      "135  Flamethrower  4.0   Fire    NaN  309.0  39.0    52.0     43.0     60.0   \n",
      "\n",
      "     Sp. Def  Speed  Generation Legendary  \n",
      "135     50.0   65.0         1.0     False  \n"
     ]
    },
    {
     "name": "stdin",
     "output_type": "stream",
     "text": [
      "Would you like to check another Pokemon? Y/N Y\n",
      "Type a Pokemons name to find its best moveset. Lugia\n"
     ]
    },
    {
     "name": "stdout",
     "output_type": "stream",
     "text": [
      "    Pokemon     DPS    TDO  Battle_Stat  Max_CP_Lv40     Fast_Move  \\\n",
      "510   Lugia  16.186  912.7       3870.5         3703  Extrasensory   \n",
      "\n",
      "    Charged_Move      #   Type 1  Type 2  Total     HP  Attack  Defense  \\\n",
      "510  Aeroblast++  249.0  Psychic  Flying  680.0  106.0    90.0    130.0   \n",
      "\n",
      "     Sp. Atk  Sp. Def  Speed  Generation Legendary  \n",
      "510     90.0    154.0  110.0         2.0      True  \n"
     ]
    },
    {
     "name": "stdin",
     "output_type": "stream",
     "text": [
      "Would you like to check another Pokemon? Y/N n\n"
     ]
    },
    {
     "name": "stdout",
     "output_type": "stream",
     "text": [
      "Please enter Y or N\n"
     ]
    },
    {
     "name": "stdin",
     "output_type": "stream",
     "text": [
      "Would you like to check another Pokemon? Y/N N\n"
     ]
    },
    {
     "name": "stdout",
     "output_type": "stream",
     "text": [
      "Thank you have a great day!\n"
     ]
    }
   ],
   "source": [
    "explore.find_best_moveset(df_best_attack_set)"
   ]
  },
  {
   "cell_type": "markdown",
   "id": "e1a7865b-3dd1-459a-b638-151b4591fdef",
   "metadata": {},
   "source": [
    "## Its not perfect but it works!!"
   ]
  },
  {
   "cell_type": "markdown",
   "id": "68292000-8c3d-4df9-9e82-c8cf577b74d8",
   "metadata": {},
   "source": [
    "## This could be used as the fondation to develop an app that can assist new and professional level players for Pokemon Go."
   ]
  },
  {
   "cell_type": "markdown",
   "id": "2228c88e-f469-47cd-8d1a-3667440b15e1",
   "metadata": {},
   "source": [
    "## What pokemon has the highest and lowest cp?"
   ]
  },
  {
   "cell_type": "code",
   "execution_count": 8,
   "id": "4210304d-3fec-419c-9137-49e8532ee7fa",
   "metadata": {},
   "outputs": [
    {
     "data": {
      "text/html": [
       "<div>\n",
       "<style scoped>\n",
       "    .dataframe tbody tr th:only-of-type {\n",
       "        vertical-align: middle;\n",
       "    }\n",
       "\n",
       "    .dataframe tbody tr th {\n",
       "        vertical-align: top;\n",
       "    }\n",
       "\n",
       "    .dataframe thead th {\n",
       "        text-align: right;\n",
       "    }\n",
       "</style>\n",
       "<table border=\"1\" class=\"dataframe\">\n",
       "  <thead>\n",
       "    <tr style=\"text-align: right;\">\n",
       "      <th></th>\n",
       "      <th>Pokemon</th>\n",
       "      <th>DPS</th>\n",
       "      <th>TDO</th>\n",
       "      <th>Battle_Stat</th>\n",
       "      <th>Max_CP_Lv40</th>\n",
       "      <th>Fast_Move</th>\n",
       "      <th>Charged_Move</th>\n",
       "      <th>#</th>\n",
       "      <th>Type 1</th>\n",
       "      <th>Type 2</th>\n",
       "      <th>Total</th>\n",
       "      <th>HP</th>\n",
       "      <th>Attack</th>\n",
       "      <th>Defense</th>\n",
       "      <th>Sp. Atk</th>\n",
       "      <th>Sp. Def</th>\n",
       "      <th>Speed</th>\n",
       "      <th>Generation</th>\n",
       "      <th>Legendary</th>\n",
       "    </tr>\n",
       "  </thead>\n",
       "  <tbody>\n",
       "    <tr>\n",
       "      <th>272</th>\n",
       "      <td>Eternamax Eternatus</td>\n",
       "      <td>14.836</td>\n",
       "      <td>2500.2</td>\n",
       "      <td>8164.7</td>\n",
       "      <td>8187</td>\n",
       "      <td>Dragon Tail</td>\n",
       "      <td>Hyper Beam</td>\n",
       "      <td>890.0</td>\n",
       "      <td>Poison</td>\n",
       "      <td>Dragon</td>\n",
       "      <td>1125.0</td>\n",
       "      <td>255.0</td>\n",
       "      <td>115.0</td>\n",
       "      <td>250.0</td>\n",
       "      <td>125.0</td>\n",
       "      <td>250.0</td>\n",
       "      <td>130.0</td>\n",
       "      <td>8.0</td>\n",
       "      <td>True</td>\n",
       "    </tr>\n",
       "  </tbody>\n",
       "</table>\n",
       "</div>"
      ],
      "text/plain": [
       "                 Pokemon     DPS     TDO  Battle_Stat  Max_CP_Lv40  \\\n",
       "272  Eternamax Eternatus  14.836  2500.2       8164.7         8187   \n",
       "\n",
       "       Fast_Move Charged_Move      #  Type 1  Type 2   Total     HP  Attack  \\\n",
       "272  Dragon Tail   Hyper Beam  890.0  Poison  Dragon  1125.0  255.0   115.0   \n",
       "\n",
       "     Defense  Sp. Atk  Sp. Def  Speed  Generation Legendary  \n",
       "272    250.0    125.0    250.0  130.0         8.0      True  "
      ]
     },
     "execution_count": 8,
     "metadata": {},
     "output_type": "execute_result"
    }
   ],
   "source": [
    "df_best_attack_set[df_best_attack_set.Max_CP_Lv40 == df_best_attack_set.Max_CP_Lv40.max()]"
   ]
  },
  {
   "cell_type": "code",
   "execution_count": 9,
   "id": "84d1c762-967a-43dc-8094-e3611e83ecce",
   "metadata": {},
   "outputs": [
    {
     "data": {
      "text/html": [
       "<div>\n",
       "<style scoped>\n",
       "    .dataframe tbody tr th:only-of-type {\n",
       "        vertical-align: middle;\n",
       "    }\n",
       "\n",
       "    .dataframe tbody tr th {\n",
       "        vertical-align: top;\n",
       "    }\n",
       "\n",
       "    .dataframe thead th {\n",
       "        text-align: right;\n",
       "    }\n",
       "</style>\n",
       "<table border=\"1\" class=\"dataframe\">\n",
       "  <thead>\n",
       "    <tr style=\"text-align: right;\">\n",
       "      <th></th>\n",
       "      <th>Pokemon</th>\n",
       "      <th>DPS</th>\n",
       "      <th>TDO</th>\n",
       "      <th>Battle_Stat</th>\n",
       "      <th>Max_CP_Lv40</th>\n",
       "      <th>Fast_Move</th>\n",
       "      <th>Charged_Move</th>\n",
       "      <th>#</th>\n",
       "      <th>Type 1</th>\n",
       "      <th>Type 2</th>\n",
       "      <th>Total</th>\n",
       "      <th>HP</th>\n",
       "      <th>Attack</th>\n",
       "      <th>Defense</th>\n",
       "      <th>Sp. Atk</th>\n",
       "      <th>Sp. Def</th>\n",
       "      <th>Speed</th>\n",
       "      <th>Generation</th>\n",
       "      <th>Legendary</th>\n",
       "    </tr>\n",
       "  </thead>\n",
       "  <tbody>\n",
       "    <tr>\n",
       "      <th>281</th>\n",
       "      <td>Feebas</td>\n",
       "      <td>2.333</td>\n",
       "      <td>16.2</td>\n",
       "      <td>0.2</td>\n",
       "      <td>274</td>\n",
       "      <td>Tackle</td>\n",
       "      <td>Mirror Coat</td>\n",
       "      <td>349.0</td>\n",
       "      <td>Water</td>\n",
       "      <td>NaN</td>\n",
       "      <td>200.0</td>\n",
       "      <td>20.0</td>\n",
       "      <td>15.0</td>\n",
       "      <td>20.0</td>\n",
       "      <td>10.0</td>\n",
       "      <td>55.0</td>\n",
       "      <td>80.0</td>\n",
       "      <td>3.0</td>\n",
       "      <td>False</td>\n",
       "    </tr>\n",
       "    <tr>\n",
       "      <th>526</th>\n",
       "      <td>Magikarp</td>\n",
       "      <td>1.630</td>\n",
       "      <td>11.3</td>\n",
       "      <td>0.0</td>\n",
       "      <td>274</td>\n",
       "      <td>Splash</td>\n",
       "      <td>Return</td>\n",
       "      <td>129.0</td>\n",
       "      <td>Water</td>\n",
       "      <td>NaN</td>\n",
       "      <td>200.0</td>\n",
       "      <td>20.0</td>\n",
       "      <td>10.0</td>\n",
       "      <td>55.0</td>\n",
       "      <td>15.0</td>\n",
       "      <td>20.0</td>\n",
       "      <td>80.0</td>\n",
       "      <td>1.0</td>\n",
       "      <td>False</td>\n",
       "    </tr>\n",
       "    <tr>\n",
       "      <th>527</th>\n",
       "      <td>Magikarp</td>\n",
       "      <td>1.630</td>\n",
       "      <td>11.3</td>\n",
       "      <td>0.0</td>\n",
       "      <td>274</td>\n",
       "      <td>Splash</td>\n",
       "      <td>Struggle</td>\n",
       "      <td>129.0</td>\n",
       "      <td>Water</td>\n",
       "      <td>NaN</td>\n",
       "      <td>200.0</td>\n",
       "      <td>20.0</td>\n",
       "      <td>10.0</td>\n",
       "      <td>55.0</td>\n",
       "      <td>15.0</td>\n",
       "      <td>20.0</td>\n",
       "      <td>80.0</td>\n",
       "      <td>1.0</td>\n",
       "      <td>False</td>\n",
       "    </tr>\n",
       "    <tr>\n",
       "      <th>945</th>\n",
       "      <td>Shadow Magikarp</td>\n",
       "      <td>1.336</td>\n",
       "      <td>7.7</td>\n",
       "      <td>0.0</td>\n",
       "      <td>274</td>\n",
       "      <td>Splash</td>\n",
       "      <td>Struggle</td>\n",
       "      <td>NaN</td>\n",
       "      <td>NaN</td>\n",
       "      <td>NaN</td>\n",
       "      <td>NaN</td>\n",
       "      <td>NaN</td>\n",
       "      <td>NaN</td>\n",
       "      <td>NaN</td>\n",
       "      <td>NaN</td>\n",
       "      <td>NaN</td>\n",
       "      <td>NaN</td>\n",
       "      <td>NaN</td>\n",
       "      <td>NaN</td>\n",
       "    </tr>\n",
       "    <tr>\n",
       "      <th>946</th>\n",
       "      <td>Shadow Magikarp</td>\n",
       "      <td>1.336</td>\n",
       "      <td>7.7</td>\n",
       "      <td>0.0</td>\n",
       "      <td>274</td>\n",
       "      <td>Splash</td>\n",
       "      <td>Frustration</td>\n",
       "      <td>NaN</td>\n",
       "      <td>NaN</td>\n",
       "      <td>NaN</td>\n",
       "      <td>NaN</td>\n",
       "      <td>NaN</td>\n",
       "      <td>NaN</td>\n",
       "      <td>NaN</td>\n",
       "      <td>NaN</td>\n",
       "      <td>NaN</td>\n",
       "      <td>NaN</td>\n",
       "      <td>NaN</td>\n",
       "      <td>NaN</td>\n",
       "    </tr>\n",
       "  </tbody>\n",
       "</table>\n",
       "</div>"
      ],
      "text/plain": [
       "             Pokemon    DPS   TDO  Battle_Stat  Max_CP_Lv40 Fast_Move  \\\n",
       "281           Feebas  2.333  16.2          0.2          274    Tackle   \n",
       "526         Magikarp  1.630  11.3          0.0          274    Splash   \n",
       "527         Magikarp  1.630  11.3          0.0          274    Splash   \n",
       "945  Shadow Magikarp  1.336   7.7          0.0          274    Splash   \n",
       "946  Shadow Magikarp  1.336   7.7          0.0          274    Splash   \n",
       "\n",
       "    Charged_Move      # Type 1 Type 2  Total    HP  Attack  Defense  Sp. Atk  \\\n",
       "281  Mirror Coat  349.0  Water    NaN  200.0  20.0    15.0     20.0     10.0   \n",
       "526       Return  129.0  Water    NaN  200.0  20.0    10.0     55.0     15.0   \n",
       "527     Struggle  129.0  Water    NaN  200.0  20.0    10.0     55.0     15.0   \n",
       "945     Struggle    NaN    NaN    NaN    NaN   NaN     NaN      NaN      NaN   \n",
       "946  Frustration    NaN    NaN    NaN    NaN   NaN     NaN      NaN      NaN   \n",
       "\n",
       "     Sp. Def  Speed  Generation Legendary  \n",
       "281     55.0   80.0         3.0     False  \n",
       "526     20.0   80.0         1.0     False  \n",
       "527     20.0   80.0         1.0     False  \n",
       "945      NaN    NaN         NaN       NaN  \n",
       "946      NaN    NaN         NaN       NaN  "
      ]
     },
     "execution_count": 9,
     "metadata": {},
     "output_type": "execute_result"
    }
   ],
   "source": [
    "df_best_attack_set[df_best_attack_set.Max_CP_Lv40 == df_best_attack_set.Max_CP_Lv40.min()]"
   ]
  },
  {
   "cell_type": "markdown",
   "id": "9091d802-06e0-4af8-8985-31c5dfefead2",
   "metadata": {},
   "source": [
    "## What \"S tier pokemon\" in Pokemon Go has the highest and lowest Battle Stat?\n"
   ]
  },
  {
   "cell_type": "code",
   "execution_count": 10,
   "id": "349a9555-70e6-4488-8696-4f2ed3558a50",
   "metadata": {},
   "outputs": [],
   "source": [
    "S_tier_attackers = ['Kartana', 'Terrakion', 'Shadow Metagross', 'Shadow Machamp',\n",
    "                    'Shadow Mewtwo', 'Shadow Salamence', 'Shadow Dragonite', 'Mega Latios',\n",
    "                    'Mega Gengar', 'Mega Charizard Y', 'Shadow Mamoswine']"
   ]
  },
  {
   "cell_type": "code",
   "execution_count": 11,
   "id": "cf3083df-03d8-44f5-95f2-8b3d9d07338d",
   "metadata": {},
   "outputs": [],
   "source": [
    "df_S_tier_attackers = df_best_attack_set[(df_best_attack_set.Pokemon == 'Kartana') | (df_best_attack_set.Pokemon == 'Terrakion') |\n",
    "                  (df_best_attack_set.Pokemon == 'Shadow Metagross') | (df_best_attack_set.Pokemon == 'Shadow Machamp') |\n",
    "                  (df_best_attack_set.Pokemon == 'Shadow Mewtwo') | (df_best_attack_set.Pokemon == 'Shadow Salamence') |\n",
    "                  (df_best_attack_set.Pokemon == 'Shadow Dragonite') | (df_best_attack_set.Pokemon == 'Mega Latios') |\n",
    "                  (df_best_attack_set.Pokemon == 'Shadow Gengar') | (df_best_attack_set.Pokemon == 'Mega Charizard Y') |\n",
    "                  (df_best_attack_set.Pokemon == 'Shadow Mamoswine')]"
   ]
  },
  {
   "cell_type": "code",
   "execution_count": 12,
   "id": "b037f388-88bf-460c-aa35-11ac8248d771",
   "metadata": {},
   "outputs": [
    {
     "data": {
      "text/html": [
       "<div>\n",
       "<style scoped>\n",
       "    .dataframe tbody tr th:only-of-type {\n",
       "        vertical-align: middle;\n",
       "    }\n",
       "\n",
       "    .dataframe tbody tr th {\n",
       "        vertical-align: top;\n",
       "    }\n",
       "\n",
       "    .dataframe thead th {\n",
       "        text-align: right;\n",
       "    }\n",
       "</style>\n",
       "<table border=\"1\" class=\"dataframe\">\n",
       "  <thead>\n",
       "    <tr style=\"text-align: right;\">\n",
       "      <th></th>\n",
       "      <th>Pokemon</th>\n",
       "      <th>DPS</th>\n",
       "      <th>TDO</th>\n",
       "      <th>Battle_Stat</th>\n",
       "      <th>Max_CP_Lv40</th>\n",
       "      <th>Fast_Move</th>\n",
       "      <th>Charged_Move</th>\n",
       "      <th>#</th>\n",
       "      <th>Type 1</th>\n",
       "      <th>Type 2</th>\n",
       "      <th>Total</th>\n",
       "      <th>HP</th>\n",
       "      <th>Attack</th>\n",
       "      <th>Defense</th>\n",
       "      <th>Sp. Atk</th>\n",
       "      <th>Sp. Def</th>\n",
       "      <th>Speed</th>\n",
       "      <th>Generation</th>\n",
       "      <th>Legendary</th>\n",
       "    </tr>\n",
       "  </thead>\n",
       "  <tbody>\n",
       "    <tr>\n",
       "      <th>458</th>\n",
       "      <td>Kartana</td>\n",
       "      <td>20.374</td>\n",
       "      <td>428.9</td>\n",
       "      <td>3627.7</td>\n",
       "      <td>3677</td>\n",
       "      <td>Razor Leaf</td>\n",
       "      <td>Leaf Blade</td>\n",
       "      <td>798.0</td>\n",
       "      <td>Grass</td>\n",
       "      <td>Steel</td>\n",
       "      <td>570.0</td>\n",
       "      <td>59.0</td>\n",
       "      <td>181.0</td>\n",
       "      <td>131.0</td>\n",
       "      <td>59.0</td>\n",
       "      <td>31.0</td>\n",
       "      <td>109.0</td>\n",
       "      <td>7.0</td>\n",
       "      <td>False</td>\n",
       "    </tr>\n",
       "    <tr>\n",
       "      <th>566</th>\n",
       "      <td>Mega Charizard Y</td>\n",
       "      <td>21.764</td>\n",
       "      <td>758.0</td>\n",
       "      <td>7814.8</td>\n",
       "      <td>4455</td>\n",
       "      <td>Fire Spin</td>\n",
       "      <td>Blast Burn</td>\n",
       "      <td>6.0</td>\n",
       "      <td>Fire</td>\n",
       "      <td>Flying</td>\n",
       "      <td>634.0</td>\n",
       "      <td>78.0</td>\n",
       "      <td>104.0</td>\n",
       "      <td>78.0</td>\n",
       "      <td>159.0</td>\n",
       "      <td>115.0</td>\n",
       "      <td>100.0</td>\n",
       "      <td>1.0</td>\n",
       "      <td>False</td>\n",
       "    </tr>\n",
       "    <tr>\n",
       "      <th>578</th>\n",
       "      <td>Mega Latios</td>\n",
       "      <td>20.704</td>\n",
       "      <td>829.4</td>\n",
       "      <td>7360.9</td>\n",
       "      <td>5007</td>\n",
       "      <td>Dragon Breath</td>\n",
       "      <td>Psychic</td>\n",
       "      <td>381.0</td>\n",
       "      <td>Dragon</td>\n",
       "      <td>Psychic</td>\n",
       "      <td>700.0</td>\n",
       "      <td>80.0</td>\n",
       "      <td>130.0</td>\n",
       "      <td>100.0</td>\n",
       "      <td>160.0</td>\n",
       "      <td>120.0</td>\n",
       "      <td>110.0</td>\n",
       "      <td>3.0</td>\n",
       "      <td>True</td>\n",
       "    </tr>\n",
       "    <tr>\n",
       "      <th>870</th>\n",
       "      <td>Shadow Dragonite</td>\n",
       "      <td>20.854</td>\n",
       "      <td>575.4</td>\n",
       "      <td>5218.5</td>\n",
       "      <td>3792</td>\n",
       "      <td>Dragon Tail</td>\n",
       "      <td>Outrage</td>\n",
       "      <td>NaN</td>\n",
       "      <td>NaN</td>\n",
       "      <td>NaN</td>\n",
       "      <td>NaN</td>\n",
       "      <td>NaN</td>\n",
       "      <td>NaN</td>\n",
       "      <td>NaN</td>\n",
       "      <td>NaN</td>\n",
       "      <td>NaN</td>\n",
       "      <td>NaN</td>\n",
       "      <td>NaN</td>\n",
       "      <td>NaN</td>\n",
       "    </tr>\n",
       "    <tr>\n",
       "      <th>942</th>\n",
       "      <td>Shadow Machamp</td>\n",
       "      <td>19.650</td>\n",
       "      <td>439.0</td>\n",
       "      <td>3330.3</td>\n",
       "      <td>3056</td>\n",
       "      <td>Counter</td>\n",
       "      <td>Dynamic Punch</td>\n",
       "      <td>NaN</td>\n",
       "      <td>NaN</td>\n",
       "      <td>NaN</td>\n",
       "      <td>NaN</td>\n",
       "      <td>NaN</td>\n",
       "      <td>NaN</td>\n",
       "      <td>NaN</td>\n",
       "      <td>NaN</td>\n",
       "      <td>NaN</td>\n",
       "      <td>NaN</td>\n",
       "      <td>NaN</td>\n",
       "      <td>NaN</td>\n",
       "    </tr>\n",
       "    <tr>\n",
       "      <th>953</th>\n",
       "      <td>Shadow Mamoswine</td>\n",
       "      <td>20.377</td>\n",
       "      <td>487.6</td>\n",
       "      <td>4125.6</td>\n",
       "      <td>3328</td>\n",
       "      <td>Mud Slap</td>\n",
       "      <td>Avalanche</td>\n",
       "      <td>NaN</td>\n",
       "      <td>NaN</td>\n",
       "      <td>NaN</td>\n",
       "      <td>NaN</td>\n",
       "      <td>NaN</td>\n",
       "      <td>NaN</td>\n",
       "      <td>NaN</td>\n",
       "      <td>NaN</td>\n",
       "      <td>NaN</td>\n",
       "      <td>NaN</td>\n",
       "      <td>NaN</td>\n",
       "      <td>NaN</td>\n",
       "    </tr>\n",
       "    <tr>\n",
       "      <th>961</th>\n",
       "      <td>Shadow Metagross</td>\n",
       "      <td>21.763</td>\n",
       "      <td>627.0</td>\n",
       "      <td>6462.6</td>\n",
       "      <td>3791</td>\n",
       "      <td>Bullet Punch</td>\n",
       "      <td>Meteor Mash</td>\n",
       "      <td>NaN</td>\n",
       "      <td>NaN</td>\n",
       "      <td>NaN</td>\n",
       "      <td>NaN</td>\n",
       "      <td>NaN</td>\n",
       "      <td>NaN</td>\n",
       "      <td>NaN</td>\n",
       "      <td>NaN</td>\n",
       "      <td>NaN</td>\n",
       "      <td>NaN</td>\n",
       "      <td>NaN</td>\n",
       "      <td>NaN</td>\n",
       "    </tr>\n",
       "    <tr>\n",
       "      <th>963</th>\n",
       "      <td>Shadow Mewtwo</td>\n",
       "      <td>25.400</td>\n",
       "      <td>662.7</td>\n",
       "      <td>10859.6</td>\n",
       "      <td>4178</td>\n",
       "      <td>Confusion</td>\n",
       "      <td>Psystrike</td>\n",
       "      <td>NaN</td>\n",
       "      <td>NaN</td>\n",
       "      <td>NaN</td>\n",
       "      <td>NaN</td>\n",
       "      <td>NaN</td>\n",
       "      <td>NaN</td>\n",
       "      <td>NaN</td>\n",
       "      <td>NaN</td>\n",
       "      <td>NaN</td>\n",
       "      <td>NaN</td>\n",
       "      <td>NaN</td>\n",
       "      <td>NaN</td>\n",
       "    </tr>\n",
       "    <tr>\n",
       "      <th>1008</th>\n",
       "      <td>Shadow Salamence</td>\n",
       "      <td>22.163</td>\n",
       "      <td>541.8</td>\n",
       "      <td>5898.5</td>\n",
       "      <td>3749</td>\n",
       "      <td>Dragon Tail</td>\n",
       "      <td>Outrage</td>\n",
       "      <td>NaN</td>\n",
       "      <td>NaN</td>\n",
       "      <td>NaN</td>\n",
       "      <td>NaN</td>\n",
       "      <td>NaN</td>\n",
       "      <td>NaN</td>\n",
       "      <td>NaN</td>\n",
       "      <td>NaN</td>\n",
       "      <td>NaN</td>\n",
       "      <td>NaN</td>\n",
       "      <td>NaN</td>\n",
       "      <td>NaN</td>\n",
       "    </tr>\n",
       "    <tr>\n",
       "      <th>1191</th>\n",
       "      <td>Terrakion</td>\n",
       "      <td>19.461</td>\n",
       "      <td>626.2</td>\n",
       "      <td>4615.8</td>\n",
       "      <td>3698</td>\n",
       "      <td>Double Kick</td>\n",
       "      <td>Sacred Sword</td>\n",
       "      <td>639.0</td>\n",
       "      <td>Rock</td>\n",
       "      <td>Fighting</td>\n",
       "      <td>580.0</td>\n",
       "      <td>91.0</td>\n",
       "      <td>129.0</td>\n",
       "      <td>90.0</td>\n",
       "      <td>72.0</td>\n",
       "      <td>90.0</td>\n",
       "      <td>108.0</td>\n",
       "      <td>5.0</td>\n",
       "      <td>True</td>\n",
       "    </tr>\n",
       "  </tbody>\n",
       "</table>\n",
       "</div>"
      ],
      "text/plain": [
       "               Pokemon     DPS    TDO  Battle_Stat  Max_CP_Lv40  \\\n",
       "458            Kartana  20.374  428.9       3627.7         3677   \n",
       "566   Mega Charizard Y  21.764  758.0       7814.8         4455   \n",
       "578        Mega Latios  20.704  829.4       7360.9         5007   \n",
       "870   Shadow Dragonite  20.854  575.4       5218.5         3792   \n",
       "942     Shadow Machamp  19.650  439.0       3330.3         3056   \n",
       "953   Shadow Mamoswine  20.377  487.6       4125.6         3328   \n",
       "961   Shadow Metagross  21.763  627.0       6462.6         3791   \n",
       "963      Shadow Mewtwo  25.400  662.7      10859.6         4178   \n",
       "1008  Shadow Salamence  22.163  541.8       5898.5         3749   \n",
       "1191         Terrakion  19.461  626.2       4615.8         3698   \n",
       "\n",
       "          Fast_Move   Charged_Move      #  Type 1    Type 2  Total    HP  \\\n",
       "458      Razor Leaf     Leaf Blade  798.0   Grass     Steel  570.0  59.0   \n",
       "566       Fire Spin     Blast Burn    6.0    Fire    Flying  634.0  78.0   \n",
       "578   Dragon Breath        Psychic  381.0  Dragon   Psychic  700.0  80.0   \n",
       "870     Dragon Tail        Outrage    NaN     NaN       NaN    NaN   NaN   \n",
       "942         Counter  Dynamic Punch    NaN     NaN       NaN    NaN   NaN   \n",
       "953        Mud Slap      Avalanche    NaN     NaN       NaN    NaN   NaN   \n",
       "961    Bullet Punch    Meteor Mash    NaN     NaN       NaN    NaN   NaN   \n",
       "963       Confusion      Psystrike    NaN     NaN       NaN    NaN   NaN   \n",
       "1008    Dragon Tail        Outrage    NaN     NaN       NaN    NaN   NaN   \n",
       "1191    Double Kick   Sacred Sword  639.0    Rock  Fighting  580.0  91.0   \n",
       "\n",
       "      Attack  Defense  Sp. Atk  Sp. Def  Speed  Generation Legendary  \n",
       "458    181.0    131.0     59.0     31.0  109.0         7.0     False  \n",
       "566    104.0     78.0    159.0    115.0  100.0         1.0     False  \n",
       "578    130.0    100.0    160.0    120.0  110.0         3.0      True  \n",
       "870      NaN      NaN      NaN      NaN    NaN         NaN       NaN  \n",
       "942      NaN      NaN      NaN      NaN    NaN         NaN       NaN  \n",
       "953      NaN      NaN      NaN      NaN    NaN         NaN       NaN  \n",
       "961      NaN      NaN      NaN      NaN    NaN         NaN       NaN  \n",
       "963      NaN      NaN      NaN      NaN    NaN         NaN       NaN  \n",
       "1008     NaN      NaN      NaN      NaN    NaN         NaN       NaN  \n",
       "1191   129.0     90.0     72.0     90.0  108.0         5.0      True  "
      ]
     },
     "execution_count": 12,
     "metadata": {},
     "output_type": "execute_result"
    }
   ],
   "source": [
    "df_S_tier_attackers"
   ]
  },
  {
   "cell_type": "code",
   "execution_count": 13,
   "id": "1fd89533-746a-44ad-a7a9-054bf2af2c8d",
   "metadata": {},
   "outputs": [
    {
     "data": {
      "text/html": [
       "<div>\n",
       "<style scoped>\n",
       "    .dataframe tbody tr th:only-of-type {\n",
       "        vertical-align: middle;\n",
       "    }\n",
       "\n",
       "    .dataframe tbody tr th {\n",
       "        vertical-align: top;\n",
       "    }\n",
       "\n",
       "    .dataframe thead th {\n",
       "        text-align: right;\n",
       "    }\n",
       "</style>\n",
       "<table border=\"1\" class=\"dataframe\">\n",
       "  <thead>\n",
       "    <tr style=\"text-align: right;\">\n",
       "      <th></th>\n",
       "      <th>Pokemon</th>\n",
       "      <th>DPS</th>\n",
       "      <th>TDO</th>\n",
       "      <th>Battle_Stat</th>\n",
       "      <th>Max_CP_Lv40</th>\n",
       "      <th>Fast_Move</th>\n",
       "      <th>Charged_Move</th>\n",
       "      <th>#</th>\n",
       "      <th>Type 1</th>\n",
       "      <th>Type 2</th>\n",
       "      <th>Total</th>\n",
       "      <th>HP</th>\n",
       "      <th>Attack</th>\n",
       "      <th>Defense</th>\n",
       "      <th>Sp. Atk</th>\n",
       "      <th>Sp. Def</th>\n",
       "      <th>Speed</th>\n",
       "      <th>Generation</th>\n",
       "      <th>Legendary</th>\n",
       "    </tr>\n",
       "  </thead>\n",
       "  <tbody>\n",
       "    <tr>\n",
       "      <th>963</th>\n",
       "      <td>Shadow Mewtwo</td>\n",
       "      <td>25.4</td>\n",
       "      <td>662.7</td>\n",
       "      <td>10859.6</td>\n",
       "      <td>4178</td>\n",
       "      <td>Confusion</td>\n",
       "      <td>Psystrike</td>\n",
       "      <td>NaN</td>\n",
       "      <td>NaN</td>\n",
       "      <td>NaN</td>\n",
       "      <td>NaN</td>\n",
       "      <td>NaN</td>\n",
       "      <td>NaN</td>\n",
       "      <td>NaN</td>\n",
       "      <td>NaN</td>\n",
       "      <td>NaN</td>\n",
       "      <td>NaN</td>\n",
       "      <td>NaN</td>\n",
       "      <td>NaN</td>\n",
       "    </tr>\n",
       "  </tbody>\n",
       "</table>\n",
       "</div>"
      ],
      "text/plain": [
       "           Pokemon   DPS    TDO  Battle_Stat  Max_CP_Lv40  Fast_Move  \\\n",
       "963  Shadow Mewtwo  25.4  662.7      10859.6         4178  Confusion   \n",
       "\n",
       "    Charged_Move   # Type 1 Type 2  Total  HP  Attack  Defense  Sp. Atk  \\\n",
       "963    Psystrike NaN    NaN    NaN    NaN NaN     NaN      NaN      NaN   \n",
       "\n",
       "     Sp. Def  Speed  Generation Legendary  \n",
       "963      NaN    NaN         NaN       NaN  "
      ]
     },
     "execution_count": 13,
     "metadata": {},
     "output_type": "execute_result"
    }
   ],
   "source": [
    "df_S_tier_attackers[df_S_tier_attackers.Battle_Stat == df_S_tier_attackers.Battle_Stat.max()]"
   ]
  },
  {
   "cell_type": "code",
   "execution_count": 14,
   "id": "a68d8e37-416e-402e-8b1e-9b5f9de67fd5",
   "metadata": {},
   "outputs": [
    {
     "data": {
      "text/html": [
       "<div>\n",
       "<style scoped>\n",
       "    .dataframe tbody tr th:only-of-type {\n",
       "        vertical-align: middle;\n",
       "    }\n",
       "\n",
       "    .dataframe tbody tr th {\n",
       "        vertical-align: top;\n",
       "    }\n",
       "\n",
       "    .dataframe thead th {\n",
       "        text-align: right;\n",
       "    }\n",
       "</style>\n",
       "<table border=\"1\" class=\"dataframe\">\n",
       "  <thead>\n",
       "    <tr style=\"text-align: right;\">\n",
       "      <th></th>\n",
       "      <th>Pokemon</th>\n",
       "      <th>DPS</th>\n",
       "      <th>TDO</th>\n",
       "      <th>Battle_Stat</th>\n",
       "      <th>Max_CP_Lv40</th>\n",
       "      <th>Fast_Move</th>\n",
       "      <th>Charged_Move</th>\n",
       "      <th>#</th>\n",
       "      <th>Type 1</th>\n",
       "      <th>Type 2</th>\n",
       "      <th>Total</th>\n",
       "      <th>HP</th>\n",
       "      <th>Attack</th>\n",
       "      <th>Defense</th>\n",
       "      <th>Sp. Atk</th>\n",
       "      <th>Sp. Def</th>\n",
       "      <th>Speed</th>\n",
       "      <th>Generation</th>\n",
       "      <th>Legendary</th>\n",
       "    </tr>\n",
       "  </thead>\n",
       "  <tbody>\n",
       "    <tr>\n",
       "      <th>942</th>\n",
       "      <td>Shadow Machamp</td>\n",
       "      <td>19.65</td>\n",
       "      <td>439.0</td>\n",
       "      <td>3330.3</td>\n",
       "      <td>3056</td>\n",
       "      <td>Counter</td>\n",
       "      <td>Dynamic Punch</td>\n",
       "      <td>NaN</td>\n",
       "      <td>NaN</td>\n",
       "      <td>NaN</td>\n",
       "      <td>NaN</td>\n",
       "      <td>NaN</td>\n",
       "      <td>NaN</td>\n",
       "      <td>NaN</td>\n",
       "      <td>NaN</td>\n",
       "      <td>NaN</td>\n",
       "      <td>NaN</td>\n",
       "      <td>NaN</td>\n",
       "      <td>NaN</td>\n",
       "    </tr>\n",
       "  </tbody>\n",
       "</table>\n",
       "</div>"
      ],
      "text/plain": [
       "            Pokemon    DPS    TDO  Battle_Stat  Max_CP_Lv40 Fast_Move  \\\n",
       "942  Shadow Machamp  19.65  439.0       3330.3         3056   Counter   \n",
       "\n",
       "      Charged_Move   # Type 1 Type 2  Total  HP  Attack  Defense  Sp. Atk  \\\n",
       "942  Dynamic Punch NaN    NaN    NaN    NaN NaN     NaN      NaN      NaN   \n",
       "\n",
       "     Sp. Def  Speed  Generation Legendary  \n",
       "942      NaN    NaN         NaN       NaN  "
      ]
     },
     "execution_count": 14,
     "metadata": {},
     "output_type": "execute_result"
    }
   ],
   "source": [
    "df_S_tier_attackers[df_S_tier_attackers.Battle_Stat == df_S_tier_attackers.Battle_Stat.min()]"
   ]
  },
  {
   "cell_type": "markdown",
   "id": "361e9d29-8623-4c78-944e-070ff7a2afb3",
   "metadata": {
    "tags": []
   },
   "source": [
    "## What pokemon has the highest and lowest average battle stat between all of their move sets?"
   ]
  },
  {
   "cell_type": "code",
   "execution_count": 15,
   "id": "c840272d-9338-448d-b06e-e92db04b202d",
   "metadata": {},
   "outputs": [
    {
     "data": {
      "text/html": [
       "<div>\n",
       "<style scoped>\n",
       "    .dataframe tbody tr th:only-of-type {\n",
       "        vertical-align: middle;\n",
       "    }\n",
       "\n",
       "    .dataframe tbody tr th {\n",
       "        vertical-align: top;\n",
       "    }\n",
       "\n",
       "    .dataframe thead th {\n",
       "        text-align: right;\n",
       "    }\n",
       "</style>\n",
       "<table border=\"1\" class=\"dataframe\">\n",
       "  <thead>\n",
       "    <tr style=\"text-align: right;\">\n",
       "      <th></th>\n",
       "      <th>DPS</th>\n",
       "      <th>TDO</th>\n",
       "      <th>Battle_Stat</th>\n",
       "      <th>CP</th>\n",
       "    </tr>\n",
       "    <tr>\n",
       "      <th>Pokemon</th>\n",
       "      <th></th>\n",
       "      <th></th>\n",
       "      <th></th>\n",
       "      <th></th>\n",
       "    </tr>\n",
       "  </thead>\n",
       "  <tbody>\n",
       "    <tr>\n",
       "      <th>Mega Mewtwo Y</th>\n",
       "      <td>21.9695</td>\n",
       "      <td>833.38125</td>\n",
       "      <td>54.524375</td>\n",
       "      <td>5610.0</td>\n",
       "    </tr>\n",
       "  </tbody>\n",
       "</table>\n",
       "</div>"
      ],
      "text/plain": [
       "                   DPS        TDO  Battle_Stat      CP\n",
       "Pokemon                                               \n",
       "Mega Mewtwo Y  21.9695  833.38125    54.524375  5610.0"
      ]
     },
     "execution_count": 15,
     "metadata": {},
     "output_type": "execute_result"
    }
   ],
   "source": [
    "df.groupby('Pokemon').mean('Battle_Stat').nlargest(1, columns = 'Battle_Stat')\n"
   ]
  },
  {
   "cell_type": "code",
   "execution_count": 16,
   "id": "57ee00b7-eeea-4be0-8deb-ac43a4f2d80d",
   "metadata": {},
   "outputs": [
    {
     "data": {
      "text/html": [
       "<div>\n",
       "<style scoped>\n",
       "    .dataframe tbody tr th:only-of-type {\n",
       "        vertical-align: middle;\n",
       "    }\n",
       "\n",
       "    .dataframe tbody tr th {\n",
       "        vertical-align: top;\n",
       "    }\n",
       "\n",
       "    .dataframe thead th {\n",
       "        text-align: right;\n",
       "    }\n",
       "</style>\n",
       "<table border=\"1\" class=\"dataframe\">\n",
       "  <thead>\n",
       "    <tr style=\"text-align: right;\">\n",
       "      <th></th>\n",
       "      <th>DPS</th>\n",
       "      <th>TDO</th>\n",
       "      <th>Battle_Stat</th>\n",
       "      <th>CP</th>\n",
       "    </tr>\n",
       "    <tr>\n",
       "      <th>Pokemon</th>\n",
       "      <th></th>\n",
       "      <th></th>\n",
       "      <th></th>\n",
       "      <th></th>\n",
       "    </tr>\n",
       "  </thead>\n",
       "  <tbody>\n",
       "    <tr>\n",
       "      <th>Shadow Magikarp</th>\n",
       "      <td>0.9635</td>\n",
       "      <td>5.55</td>\n",
       "      <td>1.495</td>\n",
       "      <td>274.0</td>\n",
       "    </tr>\n",
       "  </tbody>\n",
       "</table>\n",
       "</div>"
      ],
      "text/plain": [
       "                    DPS   TDO  Battle_Stat     CP\n",
       "Pokemon                                          \n",
       "Shadow Magikarp  0.9635  5.55        1.495  274.0"
      ]
     },
     "execution_count": 16,
     "metadata": {},
     "output_type": "execute_result"
    }
   ],
   "source": [
    "df.groupby('Pokemon').mean('Battle_Stat').nsmallest(1, columns = 'Battle_Stat')"
   ]
  },
  {
   "cell_type": "markdown",
   "id": "5a33b77e-e022-4402-ba12-49e0ac70928d",
   "metadata": {},
   "source": [
    "## What primary type has the highest average total stats?"
   ]
  },
  {
   "cell_type": "code",
   "execution_count": 17,
   "id": "4d7da56b-1755-4f01-814c-be5852cd5f46",
   "metadata": {},
   "outputs": [
    {
     "data": {
      "image/png": "[encoded data removed]",
      "text/plain": [
       "<Figure size 1080x576 with 1 Axes>"
      ]
     },
     "metadata": {
      "needs_background": "light"
     },
     "output_type": "display_data"
    }
   ],
   "source": [
    "explore.pri_type_avg_stats(df_best_attack_set)"
   ]
  },
  {
   "cell_type": "markdown",
   "id": "335fcb37-4c89-4ff6-b918-124165f65227",
   "metadata": {
    "tags": []
   },
   "source": [
    "## Lets compare the highest and lowest average total stats. (Dragon vs Bug)"
   ]
  },
  {
   "cell_type": "code",
   "execution_count": 18,
   "id": "7d9dcc9a-2c7f-4ed8-abe6-2e9e9ce3e931",
   "metadata": {},
   "outputs": [
    {
     "data": {
      "image/png": "[encoded data removed]",
      "text/plain": [
       "<Figure size 864x432 with 1 Axes>"
      ]
     },
     "metadata": {
      "needs_background": "light"
     },
     "output_type": "display_data"
    }
   ],
   "source": [
    "explore.dragon_vs_bug_atk_def_vis(df_best_attack_set)"
   ]
  },
  {
   "cell_type": "code",
   "execution_count": 19,
   "id": "a3b1adac-89b7-48ce-83ed-aa3a463eae49",
   "metadata": {},
   "outputs": [
    {
     "data": {
      "image/png": "[encoded data removed]",
      "text/plain": [
       "<Figure size 864x432 with 1 Axes>"
      ]
     },
     "metadata": {
      "needs_background": "light"
     },
     "output_type": "display_data"
    }
   ],
   "source": [
    "explore.dragon_vs_bug_spatk_spdef_vis(df_best_attack_set)"
   ]
  },
  {
   "cell_type": "markdown",
   "id": "590fbc1c-060c-4e05-b8fd-2a05c641a042",
   "metadata": {},
   "source": [
    "## Let's look at total stats by generation"
   ]
  },
  {
   "cell_type": "code",
   "execution_count": 20,
   "id": "249c34c9-fe38-406e-a514-bcdbc1b6726f",
   "metadata": {},
   "outputs": [],
   "source": [
    "avg_stats_by_gen = df1.groupby('Generation').mean()"
   ]
  },
  {
   "cell_type": "code",
   "execution_count": 21,
   "id": "b4d55e72-eacb-4ff4-8705-86d7f12cda4b",
   "metadata": {},
   "outputs": [
    {
     "data": {
      "text/plain": [
       "<AxesSubplot:xlabel='Type 1', ylabel='Total'>"
      ]
     },
     "execution_count": 21,
     "metadata": {},
     "output_type": "execute_result"
    },
    {
     "data": {
      "image/png": "[encoded data removed]",
      "text/plain": [
       "<Figure size 1080x432 with 1 Axes>"
      ]
     },
     "metadata": {
      "needs_background": "light"
     },
     "output_type": "display_data"
    }
   ],
   "source": [
    "plt.figure(figsize=(15, 6))\n",
    "sns.lineplot(data=df1, x=\"Type 1\", y=\"Total\", hue=\"Generation\", ci=None, palette='hls', style=\"Generation\", markers=True)\n"
   ]
  },
  {
   "cell_type": "code",
   "execution_count": null,
   "id": "c420f653-af4f-413a-b55a-71568c0b2d52",
   "metadata": {},
   "outputs": [],
   "source": []
  }
 ],
 "metadata": {
  "kernelspec": {
   "display_name": "Python 3 (ipykernel)",
   "language": "python",
   "name": "python3"
  },
  "language_info": {
   "codemirror_mode": {
    "name": "ipython",
    "version": 3
   },
   "file_extension": ".py",
   "mimetype": "text/x-python",
   "name": "python",
   "nbconvert_exporter": "python",
   "pygments_lexer": "ipython3",
   "version": "3.9.12"
  }
 },
 "nbformat": 4,
 "nbformat_minor": 5
}
