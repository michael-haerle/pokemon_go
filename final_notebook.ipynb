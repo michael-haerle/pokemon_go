{
 "cells": [
  {
   "cell_type": "markdown",
   "id": "2d9da730-f77f-4091-b07c-9995b9b0af91",
   "metadata": {},
   "source": [
    "<hr style=\"border-top:10px solid Gold; margin-top: 2px; margin-bottom: 0px\">\n",
    "<hr style=\"border-top:10px solid Blue; margin-top: 0px; margin-bottom: 2px\">"
   ]
  },
  {
   "cell_type": "markdown",
   "id": "6fdee1cc-6bca-4004-aa81-3bb196d1167a",
   "metadata": {},
   "source": [
    "# Rediscovering Pokemon GO and the Main Series Games\n"
   ]
  },
  {
   "cell_type": "markdown",
   "id": "b60723e5-3393-4f83-b878-4610f3b5861d",
   "metadata": {},
   "source": [
    "<hr style=\"border-top:10px solid Gold; margin-top: 2px; margin-bottom: 0px\">\n",
    "<hr style=\"border-top:10px solid Blue; margin-top: 0px; margin-bottom: 2px\">"
   ]
  },
  {
   "cell_type": "code",
   "execution_count": null,
   "id": "6b9a6e2d-b522-45f1-9f1d-78ac57585c00",
   "metadata": {},
   "outputs": [],
   "source": []
  }
 ],
 "metadata": {
  "kernelspec": {
   "display_name": "Python 3 (ipykernel)",
   "language": "python",
   "name": "python3"
  },
  "language_info": {
   "codemirror_mode": {
    "name": "ipython",
    "version": 3
   },
   "file_extension": ".py",
   "mimetype": "text/x-python",
   "name": "python",
   "nbconvert_exporter": "python",
   "pygments_lexer": "ipython3",
   "version": "3.9.12"
  }
 },
 "nbformat": 4,
 "nbformat_minor": 5
}
